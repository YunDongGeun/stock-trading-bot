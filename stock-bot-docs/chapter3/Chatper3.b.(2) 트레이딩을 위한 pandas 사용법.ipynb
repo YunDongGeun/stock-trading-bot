{
 "cells": [
  {
   "cell_type": "markdown",
   "metadata": {},
   "source": [
    "# 2. 시계열 데이터 조작"
   ]
  },
  {
   "cell_type": "code",
   "execution_count": 2,
   "metadata": {},
   "outputs": [],
   "source": [
    "import pandas as pd"
   ]
  },
  {
   "cell_type": "markdown",
   "metadata": {},
   "source": [
    "## 1) pandas에서 DatetimeIndex 다루기\n",
    "- Pandas는 DatetimeIndex를 사용하여 시간 데이터를 쉽게 인덱스화할 수 있습니다. "
   ]
  },
  {
   "cell_type": "code",
   "execution_count": 3,
   "metadata": {},
   "outputs": [],
   "source": [
    "# 문자열 리스트를 DatetimeIndex로 변환\n",
    "dates = ['2024-01-01', '2024-01-02', '2024-01-03', '2024-01-04', '2024-01-05']\n",
    "datetime_index = pd.to_datetime(dates)"
   ]
  },
  {
   "cell_type": "code",
   "execution_count": 4,
   "metadata": {},
   "outputs": [
    {
     "data": {
      "text/plain": [
       "pandas._libs.tslibs.timestamps.Timestamp"
      ]
     },
     "execution_count": 4,
     "metadata": {},
     "output_type": "execute_result"
    }
   ],
   "source": [
    "type(datetime_index[0])"
   ]
  },
  {
   "cell_type": "code",
   "execution_count": 5,
   "metadata": {},
   "outputs": [
    {
     "data": {
      "application/vnd.microsoft.datawrangler.viewer.v0+json": {
       "columns": [
        {
         "name": "index",
         "rawType": "datetime64[ns]",
         "type": "datetime"
        },
        {
         "name": "Value",
         "rawType": "int64",
         "type": "integer"
        }
       ],
       "conversionMethod": "pd.DataFrame",
       "ref": "cb61a46a-2547-403e-9a0b-b940f76b1355",
       "rows": [
        [
         "2024-01-01 00:00:00",
         "100"
        ],
        [
         "2024-01-02 00:00:00",
         "200"
        ],
        [
         "2024-01-03 00:00:00",
         "300"
        ],
        [
         "2024-01-04 00:00:00",
         "400"
        ],
        [
         "2024-01-05 00:00:00",
         "500"
        ]
       ],
       "shape": {
        "columns": 1,
        "rows": 5
       }
      },
      "text/html": [
       "<div>\n",
       "<style scoped>\n",
       "    .dataframe tbody tr th:only-of-type {\n",
       "        vertical-align: middle;\n",
       "    }\n",
       "\n",
       "    .dataframe tbody tr th {\n",
       "        vertical-align: top;\n",
       "    }\n",
       "\n",
       "    .dataframe thead th {\n",
       "        text-align: right;\n",
       "    }\n",
       "</style>\n",
       "<table border=\"1\" class=\"dataframe\">\n",
       "  <thead>\n",
       "    <tr style=\"text-align: right;\">\n",
       "      <th></th>\n",
       "      <th>Value</th>\n",
       "    </tr>\n",
       "  </thead>\n",
       "  <tbody>\n",
       "    <tr>\n",
       "      <th>2024-01-01</th>\n",
       "      <td>100</td>\n",
       "    </tr>\n",
       "    <tr>\n",
       "      <th>2024-01-02</th>\n",
       "      <td>200</td>\n",
       "    </tr>\n",
       "    <tr>\n",
       "      <th>2024-01-03</th>\n",
       "      <td>300</td>\n",
       "    </tr>\n",
       "    <tr>\n",
       "      <th>2024-01-04</th>\n",
       "      <td>400</td>\n",
       "    </tr>\n",
       "    <tr>\n",
       "      <th>2024-01-05</th>\n",
       "      <td>500</td>\n",
       "    </tr>\n",
       "  </tbody>\n",
       "</table>\n",
       "</div>"
      ],
      "text/plain": [
       "            Value\n",
       "2024-01-01    100\n",
       "2024-01-02    200\n",
       "2024-01-03    300\n",
       "2024-01-04    400\n",
       "2024-01-05    500"
      ]
     },
     "execution_count": 5,
     "metadata": {},
     "output_type": "execute_result"
    }
   ],
   "source": [
    "# 이 인덱스를 사용하여 DataFrame 생성\n",
    "data = { \"Value\" : [100, 200, 300, 400, 500] }\n",
    "df = pd.DataFrame(data, index=datetime_index, columns=[\"Value\"])\n",
    "df"
   ]
  },
  {
   "cell_type": "code",
   "execution_count": 6,
   "metadata": {},
   "outputs": [
    {
     "data": {
      "text/plain": [
       "Timestamp('2024-01-01 00:00:00')"
      ]
     },
     "execution_count": 6,
     "metadata": {},
     "output_type": "execute_result"
    }
   ],
   "source": [
    "df.index[0]"
   ]
  },
  {
   "cell_type": "code",
   "execution_count": 7,
   "metadata": {},
   "outputs": [
    {
     "data": {
      "text/plain": [
       "Value    300\n",
       "Name: 2024-01-03 00:00:00, dtype: int64"
      ]
     },
     "execution_count": 7,
     "metadata": {},
     "output_type": "execute_result"
    }
   ],
   "source": [
    "# DatetimeIndex를 사용하여 특정 데이터에 접근\n",
    "# string을 사용해서 값에 접근할 수 있음\n",
    "df.loc[\"2024-01-03\"]"
   ]
  },
  {
   "cell_type": "code",
   "execution_count": 8,
   "metadata": {},
   "outputs": [
    {
     "data": {
      "application/vnd.microsoft.datawrangler.viewer.v0+json": {
       "columns": [
        {
         "name": "index",
         "rawType": "datetime64[ns]",
         "type": "datetime"
        },
        {
         "name": "Value",
         "rawType": "int64",
         "type": "integer"
        }
       ],
       "conversionMethod": "pd.DataFrame",
       "ref": "3fbb3e7e-21df-48c5-a71e-c3d183265ab6",
       "rows": [
        [
         "2024-01-01 00:00:00",
         "100"
        ],
        [
         "2024-01-02 00:00:00",
         "200"
        ]
       ],
       "shape": {
        "columns": 1,
        "rows": 2
       }
      },
      "text/html": [
       "<div>\n",
       "<style scoped>\n",
       "    .dataframe tbody tr th:only-of-type {\n",
       "        vertical-align: middle;\n",
       "    }\n",
       "\n",
       "    .dataframe tbody tr th {\n",
       "        vertical-align: top;\n",
       "    }\n",
       "\n",
       "    .dataframe thead th {\n",
       "        text-align: right;\n",
       "    }\n",
       "</style>\n",
       "<table border=\"1\" class=\"dataframe\">\n",
       "  <thead>\n",
       "    <tr style=\"text-align: right;\">\n",
       "      <th></th>\n",
       "      <th>Value</th>\n",
       "    </tr>\n",
       "  </thead>\n",
       "  <tbody>\n",
       "    <tr>\n",
       "      <th>2024-01-01</th>\n",
       "      <td>100</td>\n",
       "    </tr>\n",
       "    <tr>\n",
       "      <th>2024-01-02</th>\n",
       "      <td>200</td>\n",
       "    </tr>\n",
       "  </tbody>\n",
       "</table>\n",
       "</div>"
      ],
      "text/plain": [
       "            Value\n",
       "2024-01-01    100\n",
       "2024-01-02    200"
      ]
     },
     "execution_count": 8,
     "metadata": {},
     "output_type": "execute_result"
    }
   ],
   "source": [
    "# 날짜 범위로 데이터 슬라이싱\n",
    "df.loc[\"2024-01-01\":\"2024-01-02\"]"
   ]
  },
  {
   "cell_type": "code",
   "execution_count": 10,
   "metadata": {},
   "outputs": [
    {
     "name": "stdout",
     "output_type": "stream",
     "text": [
      "DatetimeIndex(['2024-01-01', '2024-01-02', '2024-01-03', '2024-01-04',\n",
      "               '2024-01-05', '2024-01-06', '2024-01-07', '2024-01-08',\n",
      "               '2024-01-09', '2024-01-10'],\n",
      "              dtype='datetime64[ns]', freq='D')\n"
     ]
    }
   ],
   "source": [
    "# 일정한 빈도(예: 일별)의 날짜 범위 생성\n",
    "date_range = pd.date_range(start=\"2024-01-01\", end=\"2024-01-10\", freq=\"D\")\n",
    "print(date_range)"
   ]
  },
  {
   "cell_type": "code",
   "execution_count": 11,
   "metadata": {},
   "outputs": [
    {
     "data": {
      "text/plain": [
       "Timestamp('2024-01-10 00:00:00')"
      ]
     },
     "execution_count": 11,
     "metadata": {},
     "output_type": "execute_result"
    }
   ],
   "source": [
    "date_range[-1]"
   ]
  },
  {
   "cell_type": "code",
   "execution_count": 12,
   "metadata": {},
   "outputs": [
    {
     "data": {
      "text/plain": [
       "DatetimeIndex(['2024-01-01 00:00:00', '2024-01-01 02:00:00',\n",
       "               '2024-01-01 04:00:00', '2024-01-01 06:00:00',\n",
       "               '2024-01-01 08:00:00', '2024-01-01 10:00:00',\n",
       "               '2024-01-01 12:00:00', '2024-01-01 14:00:00',\n",
       "               '2024-01-01 16:00:00', '2024-01-01 18:00:00',\n",
       "               ...\n",
       "               '2024-01-09 06:00:00', '2024-01-09 08:00:00',\n",
       "               '2024-01-09 10:00:00', '2024-01-09 12:00:00',\n",
       "               '2024-01-09 14:00:00', '2024-01-09 16:00:00',\n",
       "               '2024-01-09 18:00:00', '2024-01-09 20:00:00',\n",
       "               '2024-01-09 22:00:00', '2024-01-10 00:00:00'],\n",
       "              dtype='datetime64[ns]', length=109, freq='2h')"
      ]
     },
     "execution_count": 12,
     "metadata": {},
     "output_type": "execute_result"
    }
   ],
   "source": [
    "# 2시간 간격의 날짜 범위 생성\n",
    "date_range = pd.date_range(start=\"2024-01-01\", end=\"2024-01-10\", freq=\"2h\")\n",
    "date_range"
   ]
  },
  {
   "cell_type": "markdown",
   "metadata": {},
   "source": [
    "- 애플(aapl)의 일봉 데이터를 불러오기"
   ]
  },
  {
   "cell_type": "code",
   "execution_count": 13,
   "metadata": {},
   "outputs": [
    {
     "data": {
      "application/vnd.microsoft.datawrangler.viewer.v0+json": {
       "columns": [
        {
         "name": "index",
         "rawType": "int64",
         "type": "integer"
        },
        {
         "name": "Date",
         "rawType": "object",
         "type": "string"
        },
        {
         "name": "Open",
         "rawType": "float64",
         "type": "float"
        },
        {
         "name": "High",
         "rawType": "float64",
         "type": "float"
        },
        {
         "name": "Low",
         "rawType": "float64",
         "type": "float"
        },
        {
         "name": "Close",
         "rawType": "float64",
         "type": "float"
        },
        {
         "name": "Adj Close",
         "rawType": "float64",
         "type": "float"
        },
        {
         "name": "Volume",
         "rawType": "int64",
         "type": "integer"
        }
       ],
       "conversionMethod": "pd.DataFrame",
       "ref": "fe19a5b4-1685-483f-a490-f11450ad74a2",
       "rows": [
        [
         "0",
         "2023-07-19",
         "193.1000061035156",
         "198.22999572753903",
         "192.6499938964844",
         "195.1000061035156",
         "194.06935119628903",
         "80507300"
        ],
        [
         "1",
         "2023-07-20",
         "195.08999633789065",
         "196.47000122070312",
         "192.5",
         "193.1300048828125",
         "192.10975646972656",
         "59581200"
        ],
        [
         "2",
         "2023-07-21",
         "194.1000061035156",
         "194.97000122070312",
         "191.22999572753903",
         "191.94000244140625",
         "190.9260406494141",
         "71917800"
        ]
       ],
       "shape": {
        "columns": 7,
        "rows": 3
       }
      },
      "text/html": [
       "<div>\n",
       "<style scoped>\n",
       "    .dataframe tbody tr th:only-of-type {\n",
       "        vertical-align: middle;\n",
       "    }\n",
       "\n",
       "    .dataframe tbody tr th {\n",
       "        vertical-align: top;\n",
       "    }\n",
       "\n",
       "    .dataframe thead th {\n",
       "        text-align: right;\n",
       "    }\n",
       "</style>\n",
       "<table border=\"1\" class=\"dataframe\">\n",
       "  <thead>\n",
       "    <tr style=\"text-align: right;\">\n",
       "      <th></th>\n",
       "      <th>Date</th>\n",
       "      <th>Open</th>\n",
       "      <th>High</th>\n",
       "      <th>Low</th>\n",
       "      <th>Close</th>\n",
       "      <th>Adj Close</th>\n",
       "      <th>Volume</th>\n",
       "    </tr>\n",
       "  </thead>\n",
       "  <tbody>\n",
       "    <tr>\n",
       "      <th>0</th>\n",
       "      <td>2023-07-19</td>\n",
       "      <td>193.100006</td>\n",
       "      <td>198.229996</td>\n",
       "      <td>192.649994</td>\n",
       "      <td>195.100006</td>\n",
       "      <td>194.069351</td>\n",
       "      <td>80507300</td>\n",
       "    </tr>\n",
       "    <tr>\n",
       "      <th>1</th>\n",
       "      <td>2023-07-20</td>\n",
       "      <td>195.089996</td>\n",
       "      <td>196.470001</td>\n",
       "      <td>192.500000</td>\n",
       "      <td>193.130005</td>\n",
       "      <td>192.109756</td>\n",
       "      <td>59581200</td>\n",
       "    </tr>\n",
       "    <tr>\n",
       "      <th>2</th>\n",
       "      <td>2023-07-21</td>\n",
       "      <td>194.100006</td>\n",
       "      <td>194.970001</td>\n",
       "      <td>191.229996</td>\n",
       "      <td>191.940002</td>\n",
       "      <td>190.926041</td>\n",
       "      <td>71917800</td>\n",
       "    </tr>\n",
       "  </tbody>\n",
       "</table>\n",
       "</div>"
      ],
      "text/plain": [
       "         Date        Open        High         Low       Close   Adj Close  \\\n",
       "0  2023-07-19  193.100006  198.229996  192.649994  195.100006  194.069351   \n",
       "1  2023-07-20  195.089996  196.470001  192.500000  193.130005  192.109756   \n",
       "2  2023-07-21  194.100006  194.970001  191.229996  191.940002  190.926041   \n",
       "\n",
       "     Volume  \n",
       "0  80507300  \n",
       "1  59581200  \n",
       "2  71917800  "
      ]
     },
     "execution_count": 13,
     "metadata": {},
     "output_type": "execute_result"
    }
   ],
   "source": [
    "df = pd.read_csv(\"../dataset/yfinance_aapl.csv\", index_col=0)\n",
    "df.head(3)"
   ]
  },
  {
   "cell_type": "code",
   "execution_count": 15,
   "metadata": {},
   "outputs": [
    {
     "data": {
      "text/plain": [
       "'2023-07-19'"
      ]
     },
     "execution_count": 15,
     "metadata": {},
     "output_type": "execute_result"
    }
   ],
   "source": [
    "df[\"Date\"].values[0]"
   ]
  },
  {
   "cell_type": "code",
   "execution_count": 16,
   "metadata": {},
   "outputs": [],
   "source": [
    "# 일봉 데이터의 날짜 값('Date' 열)을 datetime 형식으로 변환\n",
    "df[\"timestamp\"] = pd.to_datetime(df[\"Date\"])\n",
    "df = df.set_index(\"timestamp\")"
   ]
  },
  {
   "cell_type": "code",
   "execution_count": 17,
   "metadata": {},
   "outputs": [
    {
     "data": {
      "application/vnd.microsoft.datawrangler.viewer.v0+json": {
       "columns": [
        {
         "name": "timestamp",
         "rawType": "datetime64[ns]",
         "type": "datetime"
        },
        {
         "name": "Date",
         "rawType": "object",
         "type": "string"
        },
        {
         "name": "Open",
         "rawType": "float64",
         "type": "float"
        },
        {
         "name": "High",
         "rawType": "float64",
         "type": "float"
        },
        {
         "name": "Low",
         "rawType": "float64",
         "type": "float"
        },
        {
         "name": "Close",
         "rawType": "float64",
         "type": "float"
        },
        {
         "name": "Adj Close",
         "rawType": "float64",
         "type": "float"
        },
        {
         "name": "Volume",
         "rawType": "int64",
         "type": "integer"
        }
       ],
       "conversionMethod": "pd.DataFrame",
       "ref": "f158b7e9-7cc3-444f-8ad3-4756d67ff840",
       "rows": [
        [
         "2023-07-19 00:00:00",
         "2023-07-19",
         "193.1000061035156",
         "198.22999572753903",
         "192.6499938964844",
         "195.1000061035156",
         "194.06935119628903",
         "80507300"
        ],
        [
         "2023-07-20 00:00:00",
         "2023-07-20",
         "195.08999633789065",
         "196.47000122070312",
         "192.5",
         "193.1300048828125",
         "192.10975646972656",
         "59581200"
        ],
        [
         "2023-07-21 00:00:00",
         "2023-07-21",
         "194.1000061035156",
         "194.97000122070312",
         "191.22999572753903",
         "191.94000244140625",
         "190.9260406494141",
         "71917800"
        ]
       ],
       "shape": {
        "columns": 7,
        "rows": 3
       }
      },
      "text/html": [
       "<div>\n",
       "<style scoped>\n",
       "    .dataframe tbody tr th:only-of-type {\n",
       "        vertical-align: middle;\n",
       "    }\n",
       "\n",
       "    .dataframe tbody tr th {\n",
       "        vertical-align: top;\n",
       "    }\n",
       "\n",
       "    .dataframe thead th {\n",
       "        text-align: right;\n",
       "    }\n",
       "</style>\n",
       "<table border=\"1\" class=\"dataframe\">\n",
       "  <thead>\n",
       "    <tr style=\"text-align: right;\">\n",
       "      <th></th>\n",
       "      <th>Date</th>\n",
       "      <th>Open</th>\n",
       "      <th>High</th>\n",
       "      <th>Low</th>\n",
       "      <th>Close</th>\n",
       "      <th>Adj Close</th>\n",
       "      <th>Volume</th>\n",
       "    </tr>\n",
       "    <tr>\n",
       "      <th>timestamp</th>\n",
       "      <th></th>\n",
       "      <th></th>\n",
       "      <th></th>\n",
       "      <th></th>\n",
       "      <th></th>\n",
       "      <th></th>\n",
       "      <th></th>\n",
       "    </tr>\n",
       "  </thead>\n",
       "  <tbody>\n",
       "    <tr>\n",
       "      <th>2023-07-19</th>\n",
       "      <td>2023-07-19</td>\n",
       "      <td>193.100006</td>\n",
       "      <td>198.229996</td>\n",
       "      <td>192.649994</td>\n",
       "      <td>195.100006</td>\n",
       "      <td>194.069351</td>\n",
       "      <td>80507300</td>\n",
       "    </tr>\n",
       "    <tr>\n",
       "      <th>2023-07-20</th>\n",
       "      <td>2023-07-20</td>\n",
       "      <td>195.089996</td>\n",
       "      <td>196.470001</td>\n",
       "      <td>192.500000</td>\n",
       "      <td>193.130005</td>\n",
       "      <td>192.109756</td>\n",
       "      <td>59581200</td>\n",
       "    </tr>\n",
       "    <tr>\n",
       "      <th>2023-07-21</th>\n",
       "      <td>2023-07-21</td>\n",
       "      <td>194.100006</td>\n",
       "      <td>194.970001</td>\n",
       "      <td>191.229996</td>\n",
       "      <td>191.940002</td>\n",
       "      <td>190.926041</td>\n",
       "      <td>71917800</td>\n",
       "    </tr>\n",
       "  </tbody>\n",
       "</table>\n",
       "</div>"
      ],
      "text/plain": [
       "                  Date        Open        High         Low       Close  \\\n",
       "timestamp                                                                \n",
       "2023-07-19  2023-07-19  193.100006  198.229996  192.649994  195.100006   \n",
       "2023-07-20  2023-07-20  195.089996  196.470001  192.500000  193.130005   \n",
       "2023-07-21  2023-07-21  194.100006  194.970001  191.229996  191.940002   \n",
       "\n",
       "             Adj Close    Volume  \n",
       "timestamp                         \n",
       "2023-07-19  194.069351  80507300  \n",
       "2023-07-20  192.109756  59581200  \n",
       "2023-07-21  190.926041  71917800  "
      ]
     },
     "execution_count": 17,
     "metadata": {},
     "output_type": "execute_result"
    }
   ],
   "source": [
    "df.head(3)"
   ]
  },
  {
   "cell_type": "code",
   "execution_count": 18,
   "metadata": {},
   "outputs": [
    {
     "data": {
      "application/vnd.microsoft.datawrangler.viewer.v0+json": {
       "columns": [
        {
         "name": "timestamp",
         "rawType": "datetime64[ns]",
         "type": "datetime"
        },
        {
         "name": "Date",
         "rawType": "object",
         "type": "string"
        },
        {
         "name": "Open",
         "rawType": "float64",
         "type": "float"
        },
        {
         "name": "High",
         "rawType": "float64",
         "type": "float"
        },
        {
         "name": "Low",
         "rawType": "float64",
         "type": "float"
        },
        {
         "name": "Close",
         "rawType": "float64",
         "type": "float"
        },
        {
         "name": "Adj Close",
         "rawType": "float64",
         "type": "float"
        },
        {
         "name": "Volume",
         "rawType": "int64",
         "type": "integer"
        }
       ],
       "conversionMethod": "pd.DataFrame",
       "ref": "a74b6a2b-0b6f-4604-9485-39a17ead5576",
       "rows": [
        [
         "2024-03-11 00:00:00",
         "2024-03-11",
         "172.94000244140625",
         "174.3800048828125",
         "172.0500030517578",
         "172.75",
         "172.51600646972656",
         "60139500"
        ],
        [
         "2024-03-12 00:00:00",
         "2024-03-12",
         "173.14999389648438",
         "174.02999877929688",
         "171.00999450683594",
         "173.22999572753906",
         "172.99534606933594",
         "59825400"
        ],
        [
         "2024-03-13 00:00:00",
         "2024-03-13",
         "172.77000427246094",
         "173.19000244140625",
         "170.75999450683594",
         "171.1300048828125",
         "170.89820861816406",
         "52488700"
        ],
        [
         "2024-03-14 00:00:00",
         "2024-03-14",
         "172.91000366210938",
         "174.30999755859375",
         "172.0500030517578",
         "173.0",
         "172.7656707763672",
         "72913500"
        ],
        [
         "2024-03-15 00:00:00",
         "2024-03-15",
         "171.1699981689453",
         "172.6199951171875",
         "170.2899932861328",
         "172.6199951171875",
         "172.3861846923828",
         "121664700"
        ]
       ],
       "shape": {
        "columns": 7,
        "rows": 5
       }
      },
      "text/html": [
       "<div>\n",
       "<style scoped>\n",
       "    .dataframe tbody tr th:only-of-type {\n",
       "        vertical-align: middle;\n",
       "    }\n",
       "\n",
       "    .dataframe tbody tr th {\n",
       "        vertical-align: top;\n",
       "    }\n",
       "\n",
       "    .dataframe thead th {\n",
       "        text-align: right;\n",
       "    }\n",
       "</style>\n",
       "<table border=\"1\" class=\"dataframe\">\n",
       "  <thead>\n",
       "    <tr style=\"text-align: right;\">\n",
       "      <th></th>\n",
       "      <th>Date</th>\n",
       "      <th>Open</th>\n",
       "      <th>High</th>\n",
       "      <th>Low</th>\n",
       "      <th>Close</th>\n",
       "      <th>Adj Close</th>\n",
       "      <th>Volume</th>\n",
       "    </tr>\n",
       "    <tr>\n",
       "      <th>timestamp</th>\n",
       "      <th></th>\n",
       "      <th></th>\n",
       "      <th></th>\n",
       "      <th></th>\n",
       "      <th></th>\n",
       "      <th></th>\n",
       "      <th></th>\n",
       "    </tr>\n",
       "  </thead>\n",
       "  <tbody>\n",
       "    <tr>\n",
       "      <th>2024-03-11</th>\n",
       "      <td>2024-03-11</td>\n",
       "      <td>172.940002</td>\n",
       "      <td>174.380005</td>\n",
       "      <td>172.050003</td>\n",
       "      <td>172.750000</td>\n",
       "      <td>172.516006</td>\n",
       "      <td>60139500</td>\n",
       "    </tr>\n",
       "    <tr>\n",
       "      <th>2024-03-12</th>\n",
       "      <td>2024-03-12</td>\n",
       "      <td>173.149994</td>\n",
       "      <td>174.029999</td>\n",
       "      <td>171.009995</td>\n",
       "      <td>173.229996</td>\n",
       "      <td>172.995346</td>\n",
       "      <td>59825400</td>\n",
       "    </tr>\n",
       "    <tr>\n",
       "      <th>2024-03-13</th>\n",
       "      <td>2024-03-13</td>\n",
       "      <td>172.770004</td>\n",
       "      <td>173.190002</td>\n",
       "      <td>170.759995</td>\n",
       "      <td>171.130005</td>\n",
       "      <td>170.898209</td>\n",
       "      <td>52488700</td>\n",
       "    </tr>\n",
       "    <tr>\n",
       "      <th>2024-03-14</th>\n",
       "      <td>2024-03-14</td>\n",
       "      <td>172.910004</td>\n",
       "      <td>174.309998</td>\n",
       "      <td>172.050003</td>\n",
       "      <td>173.000000</td>\n",
       "      <td>172.765671</td>\n",
       "      <td>72913500</td>\n",
       "    </tr>\n",
       "    <tr>\n",
       "      <th>2024-03-15</th>\n",
       "      <td>2024-03-15</td>\n",
       "      <td>171.169998</td>\n",
       "      <td>172.619995</td>\n",
       "      <td>170.289993</td>\n",
       "      <td>172.619995</td>\n",
       "      <td>172.386185</td>\n",
       "      <td>121664700</td>\n",
       "    </tr>\n",
       "  </tbody>\n",
       "</table>\n",
       "</div>"
      ],
      "text/plain": [
       "                  Date        Open        High         Low       Close  \\\n",
       "timestamp                                                                \n",
       "2024-03-11  2024-03-11  172.940002  174.380005  172.050003  172.750000   \n",
       "2024-03-12  2024-03-12  173.149994  174.029999  171.009995  173.229996   \n",
       "2024-03-13  2024-03-13  172.770004  173.190002  170.759995  171.130005   \n",
       "2024-03-14  2024-03-14  172.910004  174.309998  172.050003  173.000000   \n",
       "2024-03-15  2024-03-15  171.169998  172.619995  170.289993  172.619995   \n",
       "\n",
       "             Adj Close     Volume  \n",
       "timestamp                          \n",
       "2024-03-11  172.516006   60139500  \n",
       "2024-03-12  172.995346   59825400  \n",
       "2024-03-13  170.898209   52488700  \n",
       "2024-03-14  172.765671   72913500  \n",
       "2024-03-15  172.386185  121664700  "
      ]
     },
     "execution_count": 18,
     "metadata": {},
     "output_type": "execute_result"
    }
   ],
   "source": [
    "# 2024-03-11부터 2024-03-15 데이터만 슬라이싱\n",
    "df.loc[\"2024-03-11\":\"2024-03-15\"]"
   ]
  },
  {
   "cell_type": "markdown",
   "metadata": {},
   "source": [
    "- python에서 슬라이싱은 exclusive(마지막 데이터를 포함하지 않음) 합니다.\n",
    "- pandas에서 슬라이싱은 inclusive(마지막 데이터를 포함) 하기 때문에 위 실행 결과 에서 `2024-03-15` 데이터가 포함됩니다."
   ]
  },
  {
   "cell_type": "code",
   "execution_count": 19,
   "metadata": {},
   "outputs": [
    {
     "data": {
      "text/plain": [
       "['a', 'b', 'c']"
      ]
     },
     "execution_count": 19,
     "metadata": {},
     "output_type": "execute_result"
    }
   ],
   "source": [
    "l = [\"a\", \"b\", \"c\", \"d\", \"e\"]\n",
    "l[0:3]"
   ]
  },
  {
   "cell_type": "markdown",
   "metadata": {},
   "source": [
    "## 2) Shift 메소드\n",
    "- `shift()` 함수는 시계열 데이터를 시간적으로 앞이나 뒤로 이동시키는 데 사용됩니다.\n"
   ]
  },
  {
   "cell_type": "code",
   "execution_count": 20,
   "metadata": {},
   "outputs": [
    {
     "data": {
      "application/vnd.microsoft.datawrangler.viewer.v0+json": {
       "columns": [
        {
         "name": "timestamp",
         "rawType": "datetime64[ns]",
         "type": "datetime"
        },
        {
         "name": "Date",
         "rawType": "object",
         "type": "string"
        },
        {
         "name": "Open",
         "rawType": "float64",
         "type": "float"
        },
        {
         "name": "High",
         "rawType": "float64",
         "type": "float"
        },
        {
         "name": "Low",
         "rawType": "float64",
         "type": "float"
        },
        {
         "name": "Close",
         "rawType": "float64",
         "type": "float"
        },
        {
         "name": "Adj Close",
         "rawType": "float64",
         "type": "float"
        },
        {
         "name": "Volume",
         "rawType": "int64",
         "type": "integer"
        }
       ],
       "conversionMethod": "pd.DataFrame",
       "ref": "06974b29-a0cc-4e88-b328-ff6876c05cb7",
       "rows": [
        [
         "2023-07-19 00:00:00",
         "2023-07-19",
         "193.1000061035156",
         "198.22999572753903",
         "192.6499938964844",
         "195.1000061035156",
         "194.06935119628903",
         "80507300"
        ],
        [
         "2023-07-20 00:00:00",
         "2023-07-20",
         "195.08999633789065",
         "196.47000122070312",
         "192.5",
         "193.1300048828125",
         "192.10975646972656",
         "59581200"
        ],
        [
         "2023-07-21 00:00:00",
         "2023-07-21",
         "194.1000061035156",
         "194.97000122070312",
         "191.22999572753903",
         "191.94000244140625",
         "190.9260406494141",
         "71917800"
        ],
        [
         "2023-07-24 00:00:00",
         "2023-07-24",
         "193.41000366210935",
         "194.91000366210935",
         "192.25",
         "192.75",
         "191.7317657470703",
         "45377800"
        ],
        [
         "2023-07-25 00:00:00",
         "2023-07-25",
         "193.3300018310547",
         "194.44000244140625",
         "192.9199981689453",
         "193.6199951171875",
         "192.5971527099609",
         "37283200"
        ]
       ],
       "shape": {
        "columns": 7,
        "rows": 5
       }
      },
      "text/html": [
       "<div>\n",
       "<style scoped>\n",
       "    .dataframe tbody tr th:only-of-type {\n",
       "        vertical-align: middle;\n",
       "    }\n",
       "\n",
       "    .dataframe tbody tr th {\n",
       "        vertical-align: top;\n",
       "    }\n",
       "\n",
       "    .dataframe thead th {\n",
       "        text-align: right;\n",
       "    }\n",
       "</style>\n",
       "<table border=\"1\" class=\"dataframe\">\n",
       "  <thead>\n",
       "    <tr style=\"text-align: right;\">\n",
       "      <th></th>\n",
       "      <th>Date</th>\n",
       "      <th>Open</th>\n",
       "      <th>High</th>\n",
       "      <th>Low</th>\n",
       "      <th>Close</th>\n",
       "      <th>Adj Close</th>\n",
       "      <th>Volume</th>\n",
       "    </tr>\n",
       "    <tr>\n",
       "      <th>timestamp</th>\n",
       "      <th></th>\n",
       "      <th></th>\n",
       "      <th></th>\n",
       "      <th></th>\n",
       "      <th></th>\n",
       "      <th></th>\n",
       "      <th></th>\n",
       "    </tr>\n",
       "  </thead>\n",
       "  <tbody>\n",
       "    <tr>\n",
       "      <th>2023-07-19</th>\n",
       "      <td>2023-07-19</td>\n",
       "      <td>193.100006</td>\n",
       "      <td>198.229996</td>\n",
       "      <td>192.649994</td>\n",
       "      <td>195.100006</td>\n",
       "      <td>194.069351</td>\n",
       "      <td>80507300</td>\n",
       "    </tr>\n",
       "    <tr>\n",
       "      <th>2023-07-20</th>\n",
       "      <td>2023-07-20</td>\n",
       "      <td>195.089996</td>\n",
       "      <td>196.470001</td>\n",
       "      <td>192.500000</td>\n",
       "      <td>193.130005</td>\n",
       "      <td>192.109756</td>\n",
       "      <td>59581200</td>\n",
       "    </tr>\n",
       "    <tr>\n",
       "      <th>2023-07-21</th>\n",
       "      <td>2023-07-21</td>\n",
       "      <td>194.100006</td>\n",
       "      <td>194.970001</td>\n",
       "      <td>191.229996</td>\n",
       "      <td>191.940002</td>\n",
       "      <td>190.926041</td>\n",
       "      <td>71917800</td>\n",
       "    </tr>\n",
       "    <tr>\n",
       "      <th>2023-07-24</th>\n",
       "      <td>2023-07-24</td>\n",
       "      <td>193.410004</td>\n",
       "      <td>194.910004</td>\n",
       "      <td>192.250000</td>\n",
       "      <td>192.750000</td>\n",
       "      <td>191.731766</td>\n",
       "      <td>45377800</td>\n",
       "    </tr>\n",
       "    <tr>\n",
       "      <th>2023-07-25</th>\n",
       "      <td>2023-07-25</td>\n",
       "      <td>193.330002</td>\n",
       "      <td>194.440002</td>\n",
       "      <td>192.919998</td>\n",
       "      <td>193.619995</td>\n",
       "      <td>192.597153</td>\n",
       "      <td>37283200</td>\n",
       "    </tr>\n",
       "  </tbody>\n",
       "</table>\n",
       "</div>"
      ],
      "text/plain": [
       "                  Date        Open        High         Low       Close  \\\n",
       "timestamp                                                                \n",
       "2023-07-19  2023-07-19  193.100006  198.229996  192.649994  195.100006   \n",
       "2023-07-20  2023-07-20  195.089996  196.470001  192.500000  193.130005   \n",
       "2023-07-21  2023-07-21  194.100006  194.970001  191.229996  191.940002   \n",
       "2023-07-24  2023-07-24  193.410004  194.910004  192.250000  192.750000   \n",
       "2023-07-25  2023-07-25  193.330002  194.440002  192.919998  193.619995   \n",
       "\n",
       "             Adj Close    Volume  \n",
       "timestamp                         \n",
       "2023-07-19  194.069351  80507300  \n",
       "2023-07-20  192.109756  59581200  \n",
       "2023-07-21  190.926041  71917800  \n",
       "2023-07-24  191.731766  45377800  \n",
       "2023-07-25  192.597153  37283200  "
      ]
     },
     "execution_count": 20,
     "metadata": {},
     "output_type": "execute_result"
    }
   ],
   "source": [
    "df = pd.read_csv(\"../dataset/yfinance_aapl.csv\", index_col=0)\n",
    "df['timestamp'] = pd.to_datetime(df['Date'])\n",
    "df = df.set_index('timestamp')\n",
    "df.head(5)"
   ]
  },
  {
   "cell_type": "code",
   "execution_count": 22,
   "metadata": {},
   "outputs": [
    {
     "data": {
      "application/vnd.microsoft.datawrangler.viewer.v0+json": {
       "columns": [
        {
         "name": "timestamp",
         "rawType": "datetime64[ns]",
         "type": "datetime"
        },
        {
         "name": "Date",
         "rawType": "object",
         "type": "string"
        },
        {
         "name": "Open",
         "rawType": "float64",
         "type": "float"
        },
        {
         "name": "High",
         "rawType": "float64",
         "type": "float"
        },
        {
         "name": "Low",
         "rawType": "float64",
         "type": "float"
        },
        {
         "name": "Close",
         "rawType": "float64",
         "type": "float"
        },
        {
         "name": "Adj Close",
         "rawType": "float64",
         "type": "float"
        },
        {
         "name": "Volume",
         "rawType": "int64",
         "type": "integer"
        },
        {
         "name": "Previous_Close",
         "rawType": "float64",
         "type": "float"
        }
       ],
       "conversionMethod": "pd.DataFrame",
       "ref": "eece1d23-63a1-4c18-b7dc-d9891b32bb2e",
       "rows": [
        [
         "2023-07-19 00:00:00",
         "2023-07-19",
         "193.1000061035156",
         "198.22999572753903",
         "192.6499938964844",
         "195.1000061035156",
         "194.06935119628903",
         "80507300",
         null
        ],
        [
         "2023-07-20 00:00:00",
         "2023-07-20",
         "195.08999633789065",
         "196.47000122070312",
         "192.5",
         "193.1300048828125",
         "192.10975646972656",
         "59581200",
         "195.1000061035156"
        ],
        [
         "2023-07-21 00:00:00",
         "2023-07-21",
         "194.1000061035156",
         "194.97000122070312",
         "191.22999572753903",
         "191.94000244140625",
         "190.9260406494141",
         "71917800",
         "193.1300048828125"
        ],
        [
         "2023-07-24 00:00:00",
         "2023-07-24",
         "193.41000366210935",
         "194.91000366210935",
         "192.25",
         "192.75",
         "191.7317657470703",
         "45377800",
         "191.94000244140625"
        ],
        [
         "2023-07-25 00:00:00",
         "2023-07-25",
         "193.3300018310547",
         "194.44000244140625",
         "192.9199981689453",
         "193.6199951171875",
         "192.5971527099609",
         "37283200",
         "192.75"
        ]
       ],
       "shape": {
        "columns": 8,
        "rows": 5
       }
      },
      "text/html": [
       "<div>\n",
       "<style scoped>\n",
       "    .dataframe tbody tr th:only-of-type {\n",
       "        vertical-align: middle;\n",
       "    }\n",
       "\n",
       "    .dataframe tbody tr th {\n",
       "        vertical-align: top;\n",
       "    }\n",
       "\n",
       "    .dataframe thead th {\n",
       "        text-align: right;\n",
       "    }\n",
       "</style>\n",
       "<table border=\"1\" class=\"dataframe\">\n",
       "  <thead>\n",
       "    <tr style=\"text-align: right;\">\n",
       "      <th></th>\n",
       "      <th>Date</th>\n",
       "      <th>Open</th>\n",
       "      <th>High</th>\n",
       "      <th>Low</th>\n",
       "      <th>Close</th>\n",
       "      <th>Adj Close</th>\n",
       "      <th>Volume</th>\n",
       "      <th>Previous_Close</th>\n",
       "    </tr>\n",
       "    <tr>\n",
       "      <th>timestamp</th>\n",
       "      <th></th>\n",
       "      <th></th>\n",
       "      <th></th>\n",
       "      <th></th>\n",
       "      <th></th>\n",
       "      <th></th>\n",
       "      <th></th>\n",
       "      <th></th>\n",
       "    </tr>\n",
       "  </thead>\n",
       "  <tbody>\n",
       "    <tr>\n",
       "      <th>2023-07-19</th>\n",
       "      <td>2023-07-19</td>\n",
       "      <td>193.100006</td>\n",
       "      <td>198.229996</td>\n",
       "      <td>192.649994</td>\n",
       "      <td>195.100006</td>\n",
       "      <td>194.069351</td>\n",
       "      <td>80507300</td>\n",
       "      <td>NaN</td>\n",
       "    </tr>\n",
       "    <tr>\n",
       "      <th>2023-07-20</th>\n",
       "      <td>2023-07-20</td>\n",
       "      <td>195.089996</td>\n",
       "      <td>196.470001</td>\n",
       "      <td>192.500000</td>\n",
       "      <td>193.130005</td>\n",
       "      <td>192.109756</td>\n",
       "      <td>59581200</td>\n",
       "      <td>195.100006</td>\n",
       "    </tr>\n",
       "    <tr>\n",
       "      <th>2023-07-21</th>\n",
       "      <td>2023-07-21</td>\n",
       "      <td>194.100006</td>\n",
       "      <td>194.970001</td>\n",
       "      <td>191.229996</td>\n",
       "      <td>191.940002</td>\n",
       "      <td>190.926041</td>\n",
       "      <td>71917800</td>\n",
       "      <td>193.130005</td>\n",
       "    </tr>\n",
       "    <tr>\n",
       "      <th>2023-07-24</th>\n",
       "      <td>2023-07-24</td>\n",
       "      <td>193.410004</td>\n",
       "      <td>194.910004</td>\n",
       "      <td>192.250000</td>\n",
       "      <td>192.750000</td>\n",
       "      <td>191.731766</td>\n",
       "      <td>45377800</td>\n",
       "      <td>191.940002</td>\n",
       "    </tr>\n",
       "    <tr>\n",
       "      <th>2023-07-25</th>\n",
       "      <td>2023-07-25</td>\n",
       "      <td>193.330002</td>\n",
       "      <td>194.440002</td>\n",
       "      <td>192.919998</td>\n",
       "      <td>193.619995</td>\n",
       "      <td>192.597153</td>\n",
       "      <td>37283200</td>\n",
       "      <td>192.750000</td>\n",
       "    </tr>\n",
       "  </tbody>\n",
       "</table>\n",
       "</div>"
      ],
      "text/plain": [
       "                  Date        Open        High         Low       Close  \\\n",
       "timestamp                                                                \n",
       "2023-07-19  2023-07-19  193.100006  198.229996  192.649994  195.100006   \n",
       "2023-07-20  2023-07-20  195.089996  196.470001  192.500000  193.130005   \n",
       "2023-07-21  2023-07-21  194.100006  194.970001  191.229996  191.940002   \n",
       "2023-07-24  2023-07-24  193.410004  194.910004  192.250000  192.750000   \n",
       "2023-07-25  2023-07-25  193.330002  194.440002  192.919998  193.619995   \n",
       "\n",
       "             Adj Close    Volume  Previous_Close  \n",
       "timestamp                                         \n",
       "2023-07-19  194.069351  80507300             NaN  \n",
       "2023-07-20  192.109756  59581200      195.100006  \n",
       "2023-07-21  190.926041  71917800      193.130005  \n",
       "2023-07-24  191.731766  45377800      191.940002  \n",
       "2023-07-25  192.597153  37283200      192.750000  "
      ]
     },
     "execution_count": 22,
     "metadata": {},
     "output_type": "execute_result"
    }
   ],
   "source": [
    "# Close를 한칸씩 뒤로 이동\n",
    "df[\"Previous_Close\"] = df[\"Close\"].shift(1)\n",
    "df.head(5)"
   ]
  },
  {
   "cell_type": "code",
   "execution_count": 23,
   "metadata": {},
   "outputs": [
    {
     "data": {
      "application/vnd.microsoft.datawrangler.viewer.v0+json": {
       "columns": [
        {
         "name": "timestamp",
         "rawType": "datetime64[ns]",
         "type": "datetime"
        },
        {
         "name": "Date",
         "rawType": "object",
         "type": "string"
        },
        {
         "name": "Open",
         "rawType": "float64",
         "type": "float"
        },
        {
         "name": "High",
         "rawType": "float64",
         "type": "float"
        },
        {
         "name": "Low",
         "rawType": "float64",
         "type": "float"
        },
        {
         "name": "Close",
         "rawType": "float64",
         "type": "float"
        },
        {
         "name": "Adj Close",
         "rawType": "float64",
         "type": "float"
        },
        {
         "name": "Volume",
         "rawType": "int64",
         "type": "integer"
        },
        {
         "name": "Previous_Close",
         "rawType": "float64",
         "type": "float"
        },
        {
         "name": "Daily_Return",
         "rawType": "float64",
         "type": "float"
        }
       ],
       "conversionMethod": "pd.DataFrame",
       "ref": "f2fe61f8-7b8d-4dc8-a9f9-48d081acf434",
       "rows": [
        [
         "2023-07-19 00:00:00",
         "2023-07-19",
         "193.1000061035156",
         "198.22999572753903",
         "192.6499938964844",
         "195.1000061035156",
         "194.06935119628903",
         "80507300",
         null,
         null
        ],
        [
         "2023-07-20 00:00:00",
         "2023-07-20",
         "195.08999633789065",
         "196.47000122070312",
         "192.5",
         "193.1300048828125",
         "192.10975646972656",
         "59581200",
         "195.1000061035156",
         "-0.010097391896840122"
        ],
        [
         "2023-07-21 00:00:00",
         "2023-07-21",
         "194.1000061035156",
         "194.97000122070312",
         "191.22999572753903",
         "191.94000244140625",
         "190.9260406494141",
         "71917800",
         "193.1300048828125",
         "-0.00616166525821982"
        ],
        [
         "2023-07-24 00:00:00",
         "2023-07-24",
         "193.41000366210935",
         "194.91000366210935",
         "192.25",
         "192.75",
         "191.7317657470703",
         "45377800",
         "191.94000244140625",
         "0.004220055998181093"
        ],
        [
         "2023-07-25 00:00:00",
         "2023-07-25",
         "193.3300018310547",
         "194.44000244140625",
         "192.9199981689453",
         "193.6199951171875",
         "192.5971527099609",
         "37283200",
         "192.75",
         "0.0045135933446822304"
        ]
       ],
       "shape": {
        "columns": 9,
        "rows": 5
       }
      },
      "text/html": [
       "<div>\n",
       "<style scoped>\n",
       "    .dataframe tbody tr th:only-of-type {\n",
       "        vertical-align: middle;\n",
       "    }\n",
       "\n",
       "    .dataframe tbody tr th {\n",
       "        vertical-align: top;\n",
       "    }\n",
       "\n",
       "    .dataframe thead th {\n",
       "        text-align: right;\n",
       "    }\n",
       "</style>\n",
       "<table border=\"1\" class=\"dataframe\">\n",
       "  <thead>\n",
       "    <tr style=\"text-align: right;\">\n",
       "      <th></th>\n",
       "      <th>Date</th>\n",
       "      <th>Open</th>\n",
       "      <th>High</th>\n",
       "      <th>Low</th>\n",
       "      <th>Close</th>\n",
       "      <th>Adj Close</th>\n",
       "      <th>Volume</th>\n",
       "      <th>Previous_Close</th>\n",
       "      <th>Daily_Return</th>\n",
       "    </tr>\n",
       "    <tr>\n",
       "      <th>timestamp</th>\n",
       "      <th></th>\n",
       "      <th></th>\n",
       "      <th></th>\n",
       "      <th></th>\n",
       "      <th></th>\n",
       "      <th></th>\n",
       "      <th></th>\n",
       "      <th></th>\n",
       "      <th></th>\n",
       "    </tr>\n",
       "  </thead>\n",
       "  <tbody>\n",
       "    <tr>\n",
       "      <th>2023-07-19</th>\n",
       "      <td>2023-07-19</td>\n",
       "      <td>193.100006</td>\n",
       "      <td>198.229996</td>\n",
       "      <td>192.649994</td>\n",
       "      <td>195.100006</td>\n",
       "      <td>194.069351</td>\n",
       "      <td>80507300</td>\n",
       "      <td>NaN</td>\n",
       "      <td>NaN</td>\n",
       "    </tr>\n",
       "    <tr>\n",
       "      <th>2023-07-20</th>\n",
       "      <td>2023-07-20</td>\n",
       "      <td>195.089996</td>\n",
       "      <td>196.470001</td>\n",
       "      <td>192.500000</td>\n",
       "      <td>193.130005</td>\n",
       "      <td>192.109756</td>\n",
       "      <td>59581200</td>\n",
       "      <td>195.100006</td>\n",
       "      <td>-0.010097</td>\n",
       "    </tr>\n",
       "    <tr>\n",
       "      <th>2023-07-21</th>\n",
       "      <td>2023-07-21</td>\n",
       "      <td>194.100006</td>\n",
       "      <td>194.970001</td>\n",
       "      <td>191.229996</td>\n",
       "      <td>191.940002</td>\n",
       "      <td>190.926041</td>\n",
       "      <td>71917800</td>\n",
       "      <td>193.130005</td>\n",
       "      <td>-0.006162</td>\n",
       "    </tr>\n",
       "    <tr>\n",
       "      <th>2023-07-24</th>\n",
       "      <td>2023-07-24</td>\n",
       "      <td>193.410004</td>\n",
       "      <td>194.910004</td>\n",
       "      <td>192.250000</td>\n",
       "      <td>192.750000</td>\n",
       "      <td>191.731766</td>\n",
       "      <td>45377800</td>\n",
       "      <td>191.940002</td>\n",
       "      <td>0.004220</td>\n",
       "    </tr>\n",
       "    <tr>\n",
       "      <th>2023-07-25</th>\n",
       "      <td>2023-07-25</td>\n",
       "      <td>193.330002</td>\n",
       "      <td>194.440002</td>\n",
       "      <td>192.919998</td>\n",
       "      <td>193.619995</td>\n",
       "      <td>192.597153</td>\n",
       "      <td>37283200</td>\n",
       "      <td>192.750000</td>\n",
       "      <td>0.004514</td>\n",
       "    </tr>\n",
       "  </tbody>\n",
       "</table>\n",
       "</div>"
      ],
      "text/plain": [
       "                  Date        Open        High         Low       Close  \\\n",
       "timestamp                                                                \n",
       "2023-07-19  2023-07-19  193.100006  198.229996  192.649994  195.100006   \n",
       "2023-07-20  2023-07-20  195.089996  196.470001  192.500000  193.130005   \n",
       "2023-07-21  2023-07-21  194.100006  194.970001  191.229996  191.940002   \n",
       "2023-07-24  2023-07-24  193.410004  194.910004  192.250000  192.750000   \n",
       "2023-07-25  2023-07-25  193.330002  194.440002  192.919998  193.619995   \n",
       "\n",
       "             Adj Close    Volume  Previous_Close  Daily_Return  \n",
       "timestamp                                                       \n",
       "2023-07-19  194.069351  80507300             NaN           NaN  \n",
       "2023-07-20  192.109756  59581200      195.100006     -0.010097  \n",
       "2023-07-21  190.926041  71917800      193.130005     -0.006162  \n",
       "2023-07-24  191.731766  45377800      191.940002      0.004220  \n",
       "2023-07-25  192.597153  37283200      192.750000      0.004514  "
      ]
     },
     "execution_count": 23,
     "metadata": {},
     "output_type": "execute_result"
    }
   ],
   "source": [
    "# Close 기준으로 전날 종가 대비 수익률을 계산\n",
    "df[\"Daily_Return\"] = (df[\"Close\"] - df[\"Previous_Close\"])/df[\"Previous_Close\"]\n",
    "df.head(5)"
   ]
  },
  {
   "cell_type": "code",
   "execution_count": null,
   "metadata": {},
   "outputs": [],
   "source": []
  },
  {
   "cell_type": "code",
   "execution_count": null,
   "metadata": {},
   "outputs": [],
   "source": []
  },
  {
   "cell_type": "markdown",
   "metadata": {},
   "source": [
    "## 3) Rolling 메소드\n",
    "- `rolling()` 함수는 시계열 데이터에서 특정 기간(window)의 통계치를 계산할 때 매우 유용합니다."
   ]
  },
  {
   "cell_type": "code",
   "execution_count": 25,
   "metadata": {},
   "outputs": [
    {
     "data": {
      "application/vnd.microsoft.datawrangler.viewer.v0+json": {
       "columns": [
        {
         "name": "timestamp",
         "rawType": "datetime64[ns]",
         "type": "datetime"
        },
        {
         "name": "Date",
         "rawType": "object",
         "type": "string"
        },
        {
         "name": "Open",
         "rawType": "float64",
         "type": "float"
        },
        {
         "name": "High",
         "rawType": "float64",
         "type": "float"
        },
        {
         "name": "Low",
         "rawType": "float64",
         "type": "float"
        },
        {
         "name": "Close",
         "rawType": "float64",
         "type": "float"
        },
        {
         "name": "Adj Close",
         "rawType": "float64",
         "type": "float"
        },
        {
         "name": "Volume",
         "rawType": "int64",
         "type": "integer"
        }
       ],
       "conversionMethod": "pd.DataFrame",
       "ref": "59512107-9cf3-4a4e-a90c-fce0ac8d6a5d",
       "rows": [
        [
         "2023-07-19 00:00:00",
         "2023-07-19",
         "193.1000061035156",
         "198.22999572753903",
         "192.6499938964844",
         "195.1000061035156",
         "194.06935119628903",
         "80507300"
        ],
        [
         "2023-07-20 00:00:00",
         "2023-07-20",
         "195.08999633789065",
         "196.47000122070312",
         "192.5",
         "193.1300048828125",
         "192.10975646972656",
         "59581200"
        ],
        [
         "2023-07-21 00:00:00",
         "2023-07-21",
         "194.1000061035156",
         "194.97000122070312",
         "191.22999572753903",
         "191.94000244140625",
         "190.9260406494141",
         "71917800"
        ],
        [
         "2023-07-24 00:00:00",
         "2023-07-24",
         "193.41000366210935",
         "194.91000366210935",
         "192.25",
         "192.75",
         "191.7317657470703",
         "45377800"
        ],
        [
         "2023-07-25 00:00:00",
         "2023-07-25",
         "193.3300018310547",
         "194.44000244140625",
         "192.9199981689453",
         "193.6199951171875",
         "192.5971527099609",
         "37283200"
        ],
        [
         "2023-07-26 00:00:00",
         "2023-07-26",
         "193.6699981689453",
         "195.63999938964844",
         "193.32000732421875",
         "194.5",
         "193.47251892089844",
         "47471900"
        ],
        [
         "2023-07-27 00:00:00",
         "2023-07-27",
         "196.0200042724609",
         "197.1999969482422",
         "192.5500030517578",
         "193.22000122070312",
         "192.19927978515625",
         "47460200"
        ],
        [
         "2023-07-28 00:00:00",
         "2023-07-28",
         "194.6699981689453",
         "196.6300048828125",
         "194.13999938964844",
         "195.8300018310547",
         "194.7954864501953",
         "48291400"
        ]
       ],
       "shape": {
        "columns": 7,
        "rows": 8
       }
      },
      "text/html": [
       "<div>\n",
       "<style scoped>\n",
       "    .dataframe tbody tr th:only-of-type {\n",
       "        vertical-align: middle;\n",
       "    }\n",
       "\n",
       "    .dataframe tbody tr th {\n",
       "        vertical-align: top;\n",
       "    }\n",
       "\n",
       "    .dataframe thead th {\n",
       "        text-align: right;\n",
       "    }\n",
       "</style>\n",
       "<table border=\"1\" class=\"dataframe\">\n",
       "  <thead>\n",
       "    <tr style=\"text-align: right;\">\n",
       "      <th></th>\n",
       "      <th>Date</th>\n",
       "      <th>Open</th>\n",
       "      <th>High</th>\n",
       "      <th>Low</th>\n",
       "      <th>Close</th>\n",
       "      <th>Adj Close</th>\n",
       "      <th>Volume</th>\n",
       "    </tr>\n",
       "    <tr>\n",
       "      <th>timestamp</th>\n",
       "      <th></th>\n",
       "      <th></th>\n",
       "      <th></th>\n",
       "      <th></th>\n",
       "      <th></th>\n",
       "      <th></th>\n",
       "      <th></th>\n",
       "    </tr>\n",
       "  </thead>\n",
       "  <tbody>\n",
       "    <tr>\n",
       "      <th>2023-07-19</th>\n",
       "      <td>2023-07-19</td>\n",
       "      <td>193.100006</td>\n",
       "      <td>198.229996</td>\n",
       "      <td>192.649994</td>\n",
       "      <td>195.100006</td>\n",
       "      <td>194.069351</td>\n",
       "      <td>80507300</td>\n",
       "    </tr>\n",
       "    <tr>\n",
       "      <th>2023-07-20</th>\n",
       "      <td>2023-07-20</td>\n",
       "      <td>195.089996</td>\n",
       "      <td>196.470001</td>\n",
       "      <td>192.500000</td>\n",
       "      <td>193.130005</td>\n",
       "      <td>192.109756</td>\n",
       "      <td>59581200</td>\n",
       "    </tr>\n",
       "    <tr>\n",
       "      <th>2023-07-21</th>\n",
       "      <td>2023-07-21</td>\n",
       "      <td>194.100006</td>\n",
       "      <td>194.970001</td>\n",
       "      <td>191.229996</td>\n",
       "      <td>191.940002</td>\n",
       "      <td>190.926041</td>\n",
       "      <td>71917800</td>\n",
       "    </tr>\n",
       "    <tr>\n",
       "      <th>2023-07-24</th>\n",
       "      <td>2023-07-24</td>\n",
       "      <td>193.410004</td>\n",
       "      <td>194.910004</td>\n",
       "      <td>192.250000</td>\n",
       "      <td>192.750000</td>\n",
       "      <td>191.731766</td>\n",
       "      <td>45377800</td>\n",
       "    </tr>\n",
       "    <tr>\n",
       "      <th>2023-07-25</th>\n",
       "      <td>2023-07-25</td>\n",
       "      <td>193.330002</td>\n",
       "      <td>194.440002</td>\n",
       "      <td>192.919998</td>\n",
       "      <td>193.619995</td>\n",
       "      <td>192.597153</td>\n",
       "      <td>37283200</td>\n",
       "    </tr>\n",
       "    <tr>\n",
       "      <th>2023-07-26</th>\n",
       "      <td>2023-07-26</td>\n",
       "      <td>193.669998</td>\n",
       "      <td>195.639999</td>\n",
       "      <td>193.320007</td>\n",
       "      <td>194.500000</td>\n",
       "      <td>193.472519</td>\n",
       "      <td>47471900</td>\n",
       "    </tr>\n",
       "    <tr>\n",
       "      <th>2023-07-27</th>\n",
       "      <td>2023-07-27</td>\n",
       "      <td>196.020004</td>\n",
       "      <td>197.199997</td>\n",
       "      <td>192.550003</td>\n",
       "      <td>193.220001</td>\n",
       "      <td>192.199280</td>\n",
       "      <td>47460200</td>\n",
       "    </tr>\n",
       "    <tr>\n",
       "      <th>2023-07-28</th>\n",
       "      <td>2023-07-28</td>\n",
       "      <td>194.669998</td>\n",
       "      <td>196.630005</td>\n",
       "      <td>194.139999</td>\n",
       "      <td>195.830002</td>\n",
       "      <td>194.795486</td>\n",
       "      <td>48291400</td>\n",
       "    </tr>\n",
       "  </tbody>\n",
       "</table>\n",
       "</div>"
      ],
      "text/plain": [
       "                  Date        Open        High         Low       Close  \\\n",
       "timestamp                                                                \n",
       "2023-07-19  2023-07-19  193.100006  198.229996  192.649994  195.100006   \n",
       "2023-07-20  2023-07-20  195.089996  196.470001  192.500000  193.130005   \n",
       "2023-07-21  2023-07-21  194.100006  194.970001  191.229996  191.940002   \n",
       "2023-07-24  2023-07-24  193.410004  194.910004  192.250000  192.750000   \n",
       "2023-07-25  2023-07-25  193.330002  194.440002  192.919998  193.619995   \n",
       "2023-07-26  2023-07-26  193.669998  195.639999  193.320007  194.500000   \n",
       "2023-07-27  2023-07-27  196.020004  197.199997  192.550003  193.220001   \n",
       "2023-07-28  2023-07-28  194.669998  196.630005  194.139999  195.830002   \n",
       "\n",
       "             Adj Close    Volume  \n",
       "timestamp                         \n",
       "2023-07-19  194.069351  80507300  \n",
       "2023-07-20  192.109756  59581200  \n",
       "2023-07-21  190.926041  71917800  \n",
       "2023-07-24  191.731766  45377800  \n",
       "2023-07-25  192.597153  37283200  \n",
       "2023-07-26  193.472519  47471900  \n",
       "2023-07-27  192.199280  47460200  \n",
       "2023-07-28  194.795486  48291400  "
      ]
     },
     "execution_count": 25,
     "metadata": {},
     "output_type": "execute_result"
    }
   ],
   "source": [
    "df = pd.read_csv(\"../dataset/yfinance_aapl.csv\", index_col=0)\n",
    "df['timestamp'] = pd.to_datetime(df['Date'])\n",
    "df = df.set_index('timestamp')\n",
    "df.head(8)"
   ]
  },
  {
   "cell_type": "code",
   "execution_count": 41,
   "metadata": {},
   "outputs": [
    {
     "data": {
      "text/plain": [
       "timestamp\n",
       "2023-07-19           NaN\n",
       "2023-07-20           NaN\n",
       "2023-07-21           NaN\n",
       "2023-07-24           NaN\n",
       "2023-07-25    193.308002\n",
       "2023-07-26    193.188000\n",
       "2023-07-27    193.206000\n",
       "2023-07-28    193.984000\n",
       "2023-07-31    194.723999\n",
       "2023-08-01    195.122000\n",
       "Name: Close, dtype: float64"
      ]
     },
     "execution_count": 41,
     "metadata": {},
     "output_type": "execute_result"
    }
   ],
   "source": [
    "df[\"Close\"].rolling(window=5).mean().head(10)"
   ]
  },
  {
   "cell_type": "code",
   "execution_count": 30,
   "metadata": {},
   "outputs": [
    {
     "data": {
      "application/vnd.microsoft.datawrangler.viewer.v0+json": {
       "columns": [
        {
         "name": "timestamp",
         "rawType": "datetime64[ns]",
         "type": "datetime"
        },
        {
         "name": "Date",
         "rawType": "object",
         "type": "string"
        },
        {
         "name": "Open",
         "rawType": "float64",
         "type": "float"
        },
        {
         "name": "High",
         "rawType": "float64",
         "type": "float"
        },
        {
         "name": "Low",
         "rawType": "float64",
         "type": "float"
        },
        {
         "name": "Close",
         "rawType": "float64",
         "type": "float"
        },
        {
         "name": "Adj Close",
         "rawType": "float64",
         "type": "float"
        },
        {
         "name": "Volume",
         "rawType": "int64",
         "type": "integer"
        },
        {
         "name": "3_day_MA",
         "rawType": "float64",
         "type": "float"
        },
        {
         "name": "5_day_std",
         "rawType": "float64",
         "type": "float"
        },
        {
         "name": "7_day_max_high",
         "rawType": "float64",
         "type": "float"
        },
        {
         "name": "7_day_min_low",
         "rawType": "float64",
         "type": "float"
        }
       ],
       "conversionMethod": "pd.DataFrame",
       "ref": "adb3ea77-e796-4faa-b9e0-ed5fda84e32a",
       "rows": [
        [
         "2023-07-19 00:00:00",
         "2023-07-19",
         "193.1000061035156",
         "198.22999572753903",
         "192.6499938964844",
         "195.1000061035156",
         "194.06935119628903",
         "80507300",
         null,
         null,
         null,
         null
        ],
        [
         "2023-07-20 00:00:00",
         "2023-07-20",
         "195.08999633789065",
         "196.47000122070312",
         "192.5",
         "193.1300048828125",
         "192.10975646972656",
         "59581200",
         null,
         null,
         null,
         null
        ],
        [
         "2023-07-21 00:00:00",
         "2023-07-21",
         "194.1000061035156",
         "194.97000122070312",
         "191.22999572753903",
         "191.94000244140625",
         "190.9260406494141",
         "71917800",
         "193.39000447591147",
         null,
         null,
         null
        ],
        [
         "2023-07-24 00:00:00",
         "2023-07-24",
         "193.41000366210935",
         "194.91000366210935",
         "192.25",
         "192.75",
         "191.7317657470703",
         "45377800",
         "192.6066691080729",
         null,
         null,
         null
        ],
        [
         "2023-07-25 00:00:00",
         "2023-07-25",
         "193.3300018310547",
         "194.44000244140625",
         "192.9199981689453",
         "193.6199951171875",
         "192.5971527099609",
         "37283200",
         "192.7699991861979",
         "1.1750628079205538",
         null,
         null
        ]
       ],
       "shape": {
        "columns": 11,
        "rows": 5
       }
      },
      "text/html": [
       "<div>\n",
       "<style scoped>\n",
       "    .dataframe tbody tr th:only-of-type {\n",
       "        vertical-align: middle;\n",
       "    }\n",
       "\n",
       "    .dataframe tbody tr th {\n",
       "        vertical-align: top;\n",
       "    }\n",
       "\n",
       "    .dataframe thead th {\n",
       "        text-align: right;\n",
       "    }\n",
       "</style>\n",
       "<table border=\"1\" class=\"dataframe\">\n",
       "  <thead>\n",
       "    <tr style=\"text-align: right;\">\n",
       "      <th></th>\n",
       "      <th>Date</th>\n",
       "      <th>Open</th>\n",
       "      <th>High</th>\n",
       "      <th>Low</th>\n",
       "      <th>Close</th>\n",
       "      <th>Adj Close</th>\n",
       "      <th>Volume</th>\n",
       "      <th>3_day_MA</th>\n",
       "      <th>5_day_std</th>\n",
       "      <th>7_day_max_high</th>\n",
       "      <th>7_day_min_low</th>\n",
       "    </tr>\n",
       "    <tr>\n",
       "      <th>timestamp</th>\n",
       "      <th></th>\n",
       "      <th></th>\n",
       "      <th></th>\n",
       "      <th></th>\n",
       "      <th></th>\n",
       "      <th></th>\n",
       "      <th></th>\n",
       "      <th></th>\n",
       "      <th></th>\n",
       "      <th></th>\n",
       "      <th></th>\n",
       "    </tr>\n",
       "  </thead>\n",
       "  <tbody>\n",
       "    <tr>\n",
       "      <th>2023-07-19</th>\n",
       "      <td>2023-07-19</td>\n",
       "      <td>193.100006</td>\n",
       "      <td>198.229996</td>\n",
       "      <td>192.649994</td>\n",
       "      <td>195.100006</td>\n",
       "      <td>194.069351</td>\n",
       "      <td>80507300</td>\n",
       "      <td>NaN</td>\n",
       "      <td>NaN</td>\n",
       "      <td>NaN</td>\n",
       "      <td>NaN</td>\n",
       "    </tr>\n",
       "    <tr>\n",
       "      <th>2023-07-20</th>\n",
       "      <td>2023-07-20</td>\n",
       "      <td>195.089996</td>\n",
       "      <td>196.470001</td>\n",
       "      <td>192.500000</td>\n",
       "      <td>193.130005</td>\n",
       "      <td>192.109756</td>\n",
       "      <td>59581200</td>\n",
       "      <td>NaN</td>\n",
       "      <td>NaN</td>\n",
       "      <td>NaN</td>\n",
       "      <td>NaN</td>\n",
       "    </tr>\n",
       "    <tr>\n",
       "      <th>2023-07-21</th>\n",
       "      <td>2023-07-21</td>\n",
       "      <td>194.100006</td>\n",
       "      <td>194.970001</td>\n",
       "      <td>191.229996</td>\n",
       "      <td>191.940002</td>\n",
       "      <td>190.926041</td>\n",
       "      <td>71917800</td>\n",
       "      <td>193.390004</td>\n",
       "      <td>NaN</td>\n",
       "      <td>NaN</td>\n",
       "      <td>NaN</td>\n",
       "    </tr>\n",
       "    <tr>\n",
       "      <th>2023-07-24</th>\n",
       "      <td>2023-07-24</td>\n",
       "      <td>193.410004</td>\n",
       "      <td>194.910004</td>\n",
       "      <td>192.250000</td>\n",
       "      <td>192.750000</td>\n",
       "      <td>191.731766</td>\n",
       "      <td>45377800</td>\n",
       "      <td>192.606669</td>\n",
       "      <td>NaN</td>\n",
       "      <td>NaN</td>\n",
       "      <td>NaN</td>\n",
       "    </tr>\n",
       "    <tr>\n",
       "      <th>2023-07-25</th>\n",
       "      <td>2023-07-25</td>\n",
       "      <td>193.330002</td>\n",
       "      <td>194.440002</td>\n",
       "      <td>192.919998</td>\n",
       "      <td>193.619995</td>\n",
       "      <td>192.597153</td>\n",
       "      <td>37283200</td>\n",
       "      <td>192.769999</td>\n",
       "      <td>1.175063</td>\n",
       "      <td>NaN</td>\n",
       "      <td>NaN</td>\n",
       "    </tr>\n",
       "  </tbody>\n",
       "</table>\n",
       "</div>"
      ],
      "text/plain": [
       "                  Date        Open        High         Low       Close  \\\n",
       "timestamp                                                                \n",
       "2023-07-19  2023-07-19  193.100006  198.229996  192.649994  195.100006   \n",
       "2023-07-20  2023-07-20  195.089996  196.470001  192.500000  193.130005   \n",
       "2023-07-21  2023-07-21  194.100006  194.970001  191.229996  191.940002   \n",
       "2023-07-24  2023-07-24  193.410004  194.910004  192.250000  192.750000   \n",
       "2023-07-25  2023-07-25  193.330002  194.440002  192.919998  193.619995   \n",
       "\n",
       "             Adj Close    Volume    3_day_MA  5_day_std  7_day_max_high  \\\n",
       "timestamp                                                                 \n",
       "2023-07-19  194.069351  80507300         NaN        NaN             NaN   \n",
       "2023-07-20  192.109756  59581200         NaN        NaN             NaN   \n",
       "2023-07-21  190.926041  71917800  193.390004        NaN             NaN   \n",
       "2023-07-24  191.731766  45377800  192.606669        NaN             NaN   \n",
       "2023-07-25  192.597153  37283200  192.769999   1.175063             NaN   \n",
       "\n",
       "            7_day_min_low  \n",
       "timestamp                  \n",
       "2023-07-19            NaN  \n",
       "2023-07-20            NaN  \n",
       "2023-07-21            NaN  \n",
       "2023-07-24            NaN  \n",
       "2023-07-25            NaN  "
      ]
     },
     "execution_count": 30,
     "metadata": {},
     "output_type": "execute_result"
    }
   ],
   "source": [
    "# Close 기준 3일 이동평균선(moving average) 계산\n",
    "df[\"3_day_MA\"] = df[\"Close\"].rolling(window=3).mean()\n",
    "df.head()"
   ]
  },
  {
   "cell_type": "code",
   "execution_count": 29,
   "metadata": {},
   "outputs": [
    {
     "data": {
      "application/vnd.microsoft.datawrangler.viewer.v0+json": {
       "columns": [
        {
         "name": "timestamp",
         "rawType": "datetime64[ns]",
         "type": "datetime"
        },
        {
         "name": "Date",
         "rawType": "object",
         "type": "string"
        },
        {
         "name": "Open",
         "rawType": "float64",
         "type": "float"
        },
        {
         "name": "High",
         "rawType": "float64",
         "type": "float"
        },
        {
         "name": "Low",
         "rawType": "float64",
         "type": "float"
        },
        {
         "name": "Close",
         "rawType": "float64",
         "type": "float"
        },
        {
         "name": "Adj Close",
         "rawType": "float64",
         "type": "float"
        },
        {
         "name": "Volume",
         "rawType": "int64",
         "type": "integer"
        },
        {
         "name": "3_day_MA",
         "rawType": "float64",
         "type": "float"
        },
        {
         "name": "5_day_std",
         "rawType": "float64",
         "type": "float"
        },
        {
         "name": "7_day_max_high",
         "rawType": "float64",
         "type": "float"
        },
        {
         "name": "7_day_min_low",
         "rawType": "float64",
         "type": "float"
        }
       ],
       "conversionMethod": "pd.DataFrame",
       "ref": "5443dea6-dc15-4b2c-b625-0223098415d2",
       "rows": [
        [
         "2023-07-19 00:00:00",
         "2023-07-19",
         "193.1000061035156",
         "198.22999572753903",
         "192.6499938964844",
         "195.1000061035156",
         "194.06935119628903",
         "80507300",
         null,
         null,
         null,
         null
        ],
        [
         "2023-07-20 00:00:00",
         "2023-07-20",
         "195.08999633789065",
         "196.47000122070312",
         "192.5",
         "193.1300048828125",
         "192.10975646972656",
         "59581200",
         null,
         null,
         null,
         null
        ],
        [
         "2023-07-21 00:00:00",
         "2023-07-21",
         "194.1000061035156",
         "194.97000122070312",
         "191.22999572753903",
         "191.94000244140625",
         "190.9260406494141",
         "71917800",
         "193.39000447591147",
         null,
         null,
         null
        ],
        [
         "2023-07-24 00:00:00",
         "2023-07-24",
         "193.41000366210935",
         "194.91000366210935",
         "192.25",
         "192.75",
         "191.7317657470703",
         "45377800",
         "192.6066691080729",
         null,
         null,
         null
        ],
        [
         "2023-07-25 00:00:00",
         "2023-07-25",
         "193.3300018310547",
         "194.44000244140625",
         "192.9199981689453",
         "193.6199951171875",
         "192.5971527099609",
         "37283200",
         "192.7699991861979",
         "1.1750628079205538",
         null,
         null
        ]
       ],
       "shape": {
        "columns": 11,
        "rows": 5
       }
      },
      "text/html": [
       "<div>\n",
       "<style scoped>\n",
       "    .dataframe tbody tr th:only-of-type {\n",
       "        vertical-align: middle;\n",
       "    }\n",
       "\n",
       "    .dataframe tbody tr th {\n",
       "        vertical-align: top;\n",
       "    }\n",
       "\n",
       "    .dataframe thead th {\n",
       "        text-align: right;\n",
       "    }\n",
       "</style>\n",
       "<table border=\"1\" class=\"dataframe\">\n",
       "  <thead>\n",
       "    <tr style=\"text-align: right;\">\n",
       "      <th></th>\n",
       "      <th>Date</th>\n",
       "      <th>Open</th>\n",
       "      <th>High</th>\n",
       "      <th>Low</th>\n",
       "      <th>Close</th>\n",
       "      <th>Adj Close</th>\n",
       "      <th>Volume</th>\n",
       "      <th>3_day_MA</th>\n",
       "      <th>5_day_std</th>\n",
       "      <th>7_day_max_high</th>\n",
       "      <th>7_day_min_low</th>\n",
       "    </tr>\n",
       "    <tr>\n",
       "      <th>timestamp</th>\n",
       "      <th></th>\n",
       "      <th></th>\n",
       "      <th></th>\n",
       "      <th></th>\n",
       "      <th></th>\n",
       "      <th></th>\n",
       "      <th></th>\n",
       "      <th></th>\n",
       "      <th></th>\n",
       "      <th></th>\n",
       "      <th></th>\n",
       "    </tr>\n",
       "  </thead>\n",
       "  <tbody>\n",
       "    <tr>\n",
       "      <th>2023-07-19</th>\n",
       "      <td>2023-07-19</td>\n",
       "      <td>193.100006</td>\n",
       "      <td>198.229996</td>\n",
       "      <td>192.649994</td>\n",
       "      <td>195.100006</td>\n",
       "      <td>194.069351</td>\n",
       "      <td>80507300</td>\n",
       "      <td>NaN</td>\n",
       "      <td>NaN</td>\n",
       "      <td>NaN</td>\n",
       "      <td>NaN</td>\n",
       "    </tr>\n",
       "    <tr>\n",
       "      <th>2023-07-20</th>\n",
       "      <td>2023-07-20</td>\n",
       "      <td>195.089996</td>\n",
       "      <td>196.470001</td>\n",
       "      <td>192.500000</td>\n",
       "      <td>193.130005</td>\n",
       "      <td>192.109756</td>\n",
       "      <td>59581200</td>\n",
       "      <td>NaN</td>\n",
       "      <td>NaN</td>\n",
       "      <td>NaN</td>\n",
       "      <td>NaN</td>\n",
       "    </tr>\n",
       "    <tr>\n",
       "      <th>2023-07-21</th>\n",
       "      <td>2023-07-21</td>\n",
       "      <td>194.100006</td>\n",
       "      <td>194.970001</td>\n",
       "      <td>191.229996</td>\n",
       "      <td>191.940002</td>\n",
       "      <td>190.926041</td>\n",
       "      <td>71917800</td>\n",
       "      <td>193.390004</td>\n",
       "      <td>NaN</td>\n",
       "      <td>NaN</td>\n",
       "      <td>NaN</td>\n",
       "    </tr>\n",
       "    <tr>\n",
       "      <th>2023-07-24</th>\n",
       "      <td>2023-07-24</td>\n",
       "      <td>193.410004</td>\n",
       "      <td>194.910004</td>\n",
       "      <td>192.250000</td>\n",
       "      <td>192.750000</td>\n",
       "      <td>191.731766</td>\n",
       "      <td>45377800</td>\n",
       "      <td>192.606669</td>\n",
       "      <td>NaN</td>\n",
       "      <td>NaN</td>\n",
       "      <td>NaN</td>\n",
       "    </tr>\n",
       "    <tr>\n",
       "      <th>2023-07-25</th>\n",
       "      <td>2023-07-25</td>\n",
       "      <td>193.330002</td>\n",
       "      <td>194.440002</td>\n",
       "      <td>192.919998</td>\n",
       "      <td>193.619995</td>\n",
       "      <td>192.597153</td>\n",
       "      <td>37283200</td>\n",
       "      <td>192.769999</td>\n",
       "      <td>1.175063</td>\n",
       "      <td>NaN</td>\n",
       "      <td>NaN</td>\n",
       "    </tr>\n",
       "  </tbody>\n",
       "</table>\n",
       "</div>"
      ],
      "text/plain": [
       "                  Date        Open        High         Low       Close  \\\n",
       "timestamp                                                                \n",
       "2023-07-19  2023-07-19  193.100006  198.229996  192.649994  195.100006   \n",
       "2023-07-20  2023-07-20  195.089996  196.470001  192.500000  193.130005   \n",
       "2023-07-21  2023-07-21  194.100006  194.970001  191.229996  191.940002   \n",
       "2023-07-24  2023-07-24  193.410004  194.910004  192.250000  192.750000   \n",
       "2023-07-25  2023-07-25  193.330002  194.440002  192.919998  193.619995   \n",
       "\n",
       "             Adj Close    Volume    3_day_MA  5_day_std  7_day_max_high  \\\n",
       "timestamp                                                                 \n",
       "2023-07-19  194.069351  80507300         NaN        NaN             NaN   \n",
       "2023-07-20  192.109756  59581200         NaN        NaN             NaN   \n",
       "2023-07-21  190.926041  71917800  193.390004        NaN             NaN   \n",
       "2023-07-24  191.731766  45377800  192.606669        NaN             NaN   \n",
       "2023-07-25  192.597153  37283200  192.769999   1.175063             NaN   \n",
       "\n",
       "            7_day_min_low  \n",
       "timestamp                  \n",
       "2023-07-19            NaN  \n",
       "2023-07-20            NaN  \n",
       "2023-07-21            NaN  \n",
       "2023-07-24            NaN  \n",
       "2023-07-25            NaN  "
      ]
     },
     "execution_count": 29,
     "metadata": {},
     "output_type": "execute_result"
    }
   ],
   "source": [
    "# Close 기준 5일 이동표준편차(moving standard deviation) 계산\n",
    "df[\"5_day_std\"] = df[\"Close\"].rolling(window=5).std()\n",
    "df.head()"
   ]
  },
  {
   "cell_type": "code",
   "execution_count": 28,
   "metadata": {},
   "outputs": [
    {
     "data": {
      "application/vnd.microsoft.datawrangler.viewer.v0+json": {
       "columns": [
        {
         "name": "timestamp",
         "rawType": "datetime64[ns]",
         "type": "datetime"
        },
        {
         "name": "Date",
         "rawType": "object",
         "type": "string"
        },
        {
         "name": "Open",
         "rawType": "float64",
         "type": "float"
        },
        {
         "name": "High",
         "rawType": "float64",
         "type": "float"
        },
        {
         "name": "Low",
         "rawType": "float64",
         "type": "float"
        },
        {
         "name": "Close",
         "rawType": "float64",
         "type": "float"
        },
        {
         "name": "Adj Close",
         "rawType": "float64",
         "type": "float"
        },
        {
         "name": "Volume",
         "rawType": "int64",
         "type": "integer"
        },
        {
         "name": "3_day_MA",
         "rawType": "float64",
         "type": "float"
        },
        {
         "name": "5_day_std",
         "rawType": "float64",
         "type": "float"
        },
        {
         "name": "7_day_max_high",
         "rawType": "float64",
         "type": "float"
        },
        {
         "name": "7_day_min_low",
         "rawType": "float64",
         "type": "float"
        }
       ],
       "conversionMethod": "pd.DataFrame",
       "ref": "d0016293-3f05-4c2b-bf5b-f08a1b2199a2",
       "rows": [
        [
         "2023-07-19 00:00:00",
         "2023-07-19",
         "193.1000061035156",
         "198.22999572753903",
         "192.6499938964844",
         "195.1000061035156",
         "194.06935119628903",
         "80507300",
         null,
         null,
         null,
         null
        ],
        [
         "2023-07-20 00:00:00",
         "2023-07-20",
         "195.08999633789065",
         "196.47000122070312",
         "192.5",
         "193.1300048828125",
         "192.10975646972656",
         "59581200",
         null,
         null,
         null,
         null
        ],
        [
         "2023-07-21 00:00:00",
         "2023-07-21",
         "194.1000061035156",
         "194.97000122070312",
         "191.22999572753903",
         "191.94000244140625",
         "190.9260406494141",
         "71917800",
         "193.39000447591147",
         null,
         null,
         null
        ],
        [
         "2023-07-24 00:00:00",
         "2023-07-24",
         "193.41000366210935",
         "194.91000366210935",
         "192.25",
         "192.75",
         "191.7317657470703",
         "45377800",
         "192.6066691080729",
         null,
         null,
         null
        ],
        [
         "2023-07-25 00:00:00",
         "2023-07-25",
         "193.3300018310547",
         "194.44000244140625",
         "192.9199981689453",
         "193.6199951171875",
         "192.5971527099609",
         "37283200",
         "192.7699991861979",
         "1.1750628079205538",
         null,
         null
        ],
        [
         "2023-07-26 00:00:00",
         "2023-07-26",
         "193.6699981689453",
         "195.63999938964844",
         "193.32000732421875",
         "194.5",
         "193.47251892089844",
         "47471900",
         "193.62333170572916",
         "0.9566437582959334",
         null,
         null
        ],
        [
         "2023-07-27 00:00:00",
         "2023-07-27",
         "196.0200042724609",
         "197.1999969482422",
         "192.5500030517578",
         "193.22000122070312",
         "192.19927978515625",
         "47460200",
         "193.77999877929688",
         "0.9561262742966246",
         "198.22999572753903",
         "191.22999572753903"
        ],
        [
         "2023-07-28 00:00:00",
         "2023-07-28",
         "194.6699981689453",
         "196.6300048828125",
         "194.13999938964844",
         "195.8300018310547",
         "194.7954864501953",
         "48291400",
         "194.51666768391928",
         "1.2158256916325518",
         "197.1999969482422",
         "191.22999572753903"
        ],
        [
         "2023-07-31 00:00:00",
         "2023-07-31",
         "196.05999755859372",
         "196.4900054931641",
         "195.25999450683597",
         "196.4499969482422",
         "195.4122009277344",
         "38824100",
         "195.16666666666666",
         "1.3904424318389874",
         "197.1999969482422",
         "191.22999572753903"
        ],
        [
         "2023-08-01 00:00:00",
         "2023-08-01",
         "196.2400054931641",
         "196.72999572753903",
         "195.27999877929688",
         "195.6100006103516",
         "194.5766448974609",
         "35175100",
         "195.9633331298828",
         "1.2754872049012924",
         "197.1999969482422",
         "192.25"
        ]
       ],
       "shape": {
        "columns": 11,
        "rows": 10
       }
      },
      "text/html": [
       "<div>\n",
       "<style scoped>\n",
       "    .dataframe tbody tr th:only-of-type {\n",
       "        vertical-align: middle;\n",
       "    }\n",
       "\n",
       "    .dataframe tbody tr th {\n",
       "        vertical-align: top;\n",
       "    }\n",
       "\n",
       "    .dataframe thead th {\n",
       "        text-align: right;\n",
       "    }\n",
       "</style>\n",
       "<table border=\"1\" class=\"dataframe\">\n",
       "  <thead>\n",
       "    <tr style=\"text-align: right;\">\n",
       "      <th></th>\n",
       "      <th>Date</th>\n",
       "      <th>Open</th>\n",
       "      <th>High</th>\n",
       "      <th>Low</th>\n",
       "      <th>Close</th>\n",
       "      <th>Adj Close</th>\n",
       "      <th>Volume</th>\n",
       "      <th>3_day_MA</th>\n",
       "      <th>5_day_std</th>\n",
       "      <th>7_day_max_high</th>\n",
       "      <th>7_day_min_low</th>\n",
       "    </tr>\n",
       "    <tr>\n",
       "      <th>timestamp</th>\n",
       "      <th></th>\n",
       "      <th></th>\n",
       "      <th></th>\n",
       "      <th></th>\n",
       "      <th></th>\n",
       "      <th></th>\n",
       "      <th></th>\n",
       "      <th></th>\n",
       "      <th></th>\n",
       "      <th></th>\n",
       "      <th></th>\n",
       "    </tr>\n",
       "  </thead>\n",
       "  <tbody>\n",
       "    <tr>\n",
       "      <th>2023-07-19</th>\n",
       "      <td>2023-07-19</td>\n",
       "      <td>193.100006</td>\n",
       "      <td>198.229996</td>\n",
       "      <td>192.649994</td>\n",
       "      <td>195.100006</td>\n",
       "      <td>194.069351</td>\n",
       "      <td>80507300</td>\n",
       "      <td>NaN</td>\n",
       "      <td>NaN</td>\n",
       "      <td>NaN</td>\n",
       "      <td>NaN</td>\n",
       "    </tr>\n",
       "    <tr>\n",
       "      <th>2023-07-20</th>\n",
       "      <td>2023-07-20</td>\n",
       "      <td>195.089996</td>\n",
       "      <td>196.470001</td>\n",
       "      <td>192.500000</td>\n",
       "      <td>193.130005</td>\n",
       "      <td>192.109756</td>\n",
       "      <td>59581200</td>\n",
       "      <td>NaN</td>\n",
       "      <td>NaN</td>\n",
       "      <td>NaN</td>\n",
       "      <td>NaN</td>\n",
       "    </tr>\n",
       "    <tr>\n",
       "      <th>2023-07-21</th>\n",
       "      <td>2023-07-21</td>\n",
       "      <td>194.100006</td>\n",
       "      <td>194.970001</td>\n",
       "      <td>191.229996</td>\n",
       "      <td>191.940002</td>\n",
       "      <td>190.926041</td>\n",
       "      <td>71917800</td>\n",
       "      <td>193.390004</td>\n",
       "      <td>NaN</td>\n",
       "      <td>NaN</td>\n",
       "      <td>NaN</td>\n",
       "    </tr>\n",
       "    <tr>\n",
       "      <th>2023-07-24</th>\n",
       "      <td>2023-07-24</td>\n",
       "      <td>193.410004</td>\n",
       "      <td>194.910004</td>\n",
       "      <td>192.250000</td>\n",
       "      <td>192.750000</td>\n",
       "      <td>191.731766</td>\n",
       "      <td>45377800</td>\n",
       "      <td>192.606669</td>\n",
       "      <td>NaN</td>\n",
       "      <td>NaN</td>\n",
       "      <td>NaN</td>\n",
       "    </tr>\n",
       "    <tr>\n",
       "      <th>2023-07-25</th>\n",
       "      <td>2023-07-25</td>\n",
       "      <td>193.330002</td>\n",
       "      <td>194.440002</td>\n",
       "      <td>192.919998</td>\n",
       "      <td>193.619995</td>\n",
       "      <td>192.597153</td>\n",
       "      <td>37283200</td>\n",
       "      <td>192.769999</td>\n",
       "      <td>1.175063</td>\n",
       "      <td>NaN</td>\n",
       "      <td>NaN</td>\n",
       "    </tr>\n",
       "    <tr>\n",
       "      <th>2023-07-26</th>\n",
       "      <td>2023-07-26</td>\n",
       "      <td>193.669998</td>\n",
       "      <td>195.639999</td>\n",
       "      <td>193.320007</td>\n",
       "      <td>194.500000</td>\n",
       "      <td>193.472519</td>\n",
       "      <td>47471900</td>\n",
       "      <td>193.623332</td>\n",
       "      <td>0.956644</td>\n",
       "      <td>NaN</td>\n",
       "      <td>NaN</td>\n",
       "    </tr>\n",
       "    <tr>\n",
       "      <th>2023-07-27</th>\n",
       "      <td>2023-07-27</td>\n",
       "      <td>196.020004</td>\n",
       "      <td>197.199997</td>\n",
       "      <td>192.550003</td>\n",
       "      <td>193.220001</td>\n",
       "      <td>192.199280</td>\n",
       "      <td>47460200</td>\n",
       "      <td>193.779999</td>\n",
       "      <td>0.956126</td>\n",
       "      <td>198.229996</td>\n",
       "      <td>191.229996</td>\n",
       "    </tr>\n",
       "    <tr>\n",
       "      <th>2023-07-28</th>\n",
       "      <td>2023-07-28</td>\n",
       "      <td>194.669998</td>\n",
       "      <td>196.630005</td>\n",
       "      <td>194.139999</td>\n",
       "      <td>195.830002</td>\n",
       "      <td>194.795486</td>\n",
       "      <td>48291400</td>\n",
       "      <td>194.516668</td>\n",
       "      <td>1.215826</td>\n",
       "      <td>197.199997</td>\n",
       "      <td>191.229996</td>\n",
       "    </tr>\n",
       "    <tr>\n",
       "      <th>2023-07-31</th>\n",
       "      <td>2023-07-31</td>\n",
       "      <td>196.059998</td>\n",
       "      <td>196.490005</td>\n",
       "      <td>195.259995</td>\n",
       "      <td>196.449997</td>\n",
       "      <td>195.412201</td>\n",
       "      <td>38824100</td>\n",
       "      <td>195.166667</td>\n",
       "      <td>1.390442</td>\n",
       "      <td>197.199997</td>\n",
       "      <td>191.229996</td>\n",
       "    </tr>\n",
       "    <tr>\n",
       "      <th>2023-08-01</th>\n",
       "      <td>2023-08-01</td>\n",
       "      <td>196.240005</td>\n",
       "      <td>196.729996</td>\n",
       "      <td>195.279999</td>\n",
       "      <td>195.610001</td>\n",
       "      <td>194.576645</td>\n",
       "      <td>35175100</td>\n",
       "      <td>195.963333</td>\n",
       "      <td>1.275487</td>\n",
       "      <td>197.199997</td>\n",
       "      <td>192.250000</td>\n",
       "    </tr>\n",
       "  </tbody>\n",
       "</table>\n",
       "</div>"
      ],
      "text/plain": [
       "                  Date        Open        High         Low       Close  \\\n",
       "timestamp                                                                \n",
       "2023-07-19  2023-07-19  193.100006  198.229996  192.649994  195.100006   \n",
       "2023-07-20  2023-07-20  195.089996  196.470001  192.500000  193.130005   \n",
       "2023-07-21  2023-07-21  194.100006  194.970001  191.229996  191.940002   \n",
       "2023-07-24  2023-07-24  193.410004  194.910004  192.250000  192.750000   \n",
       "2023-07-25  2023-07-25  193.330002  194.440002  192.919998  193.619995   \n",
       "2023-07-26  2023-07-26  193.669998  195.639999  193.320007  194.500000   \n",
       "2023-07-27  2023-07-27  196.020004  197.199997  192.550003  193.220001   \n",
       "2023-07-28  2023-07-28  194.669998  196.630005  194.139999  195.830002   \n",
       "2023-07-31  2023-07-31  196.059998  196.490005  195.259995  196.449997   \n",
       "2023-08-01  2023-08-01  196.240005  196.729996  195.279999  195.610001   \n",
       "\n",
       "             Adj Close    Volume    3_day_MA  5_day_std  7_day_max_high  \\\n",
       "timestamp                                                                 \n",
       "2023-07-19  194.069351  80507300         NaN        NaN             NaN   \n",
       "2023-07-20  192.109756  59581200         NaN        NaN             NaN   \n",
       "2023-07-21  190.926041  71917800  193.390004        NaN             NaN   \n",
       "2023-07-24  191.731766  45377800  192.606669        NaN             NaN   \n",
       "2023-07-25  192.597153  37283200  192.769999   1.175063             NaN   \n",
       "2023-07-26  193.472519  47471900  193.623332   0.956644             NaN   \n",
       "2023-07-27  192.199280  47460200  193.779999   0.956126      198.229996   \n",
       "2023-07-28  194.795486  48291400  194.516668   1.215826      197.199997   \n",
       "2023-07-31  195.412201  38824100  195.166667   1.390442      197.199997   \n",
       "2023-08-01  194.576645  35175100  195.963333   1.275487      197.199997   \n",
       "\n",
       "            7_day_min_low  \n",
       "timestamp                  \n",
       "2023-07-19            NaN  \n",
       "2023-07-20            NaN  \n",
       "2023-07-21            NaN  \n",
       "2023-07-24            NaN  \n",
       "2023-07-25            NaN  \n",
       "2023-07-26            NaN  \n",
       "2023-07-27     191.229996  \n",
       "2023-07-28     191.229996  \n",
       "2023-07-31     191.229996  \n",
       "2023-08-01     192.250000  "
      ]
     },
     "execution_count": 28,
     "metadata": {},
     "output_type": "execute_result"
    }
   ],
   "source": [
    "# 7일을 window로 최대값, 최소값 계산\n",
    "df[\"7_day_max_high\"] = df[\"High\"].rolling(window=7).max()\n",
    "df[\"7_day_min_low\"] = df[\"Low\"].rolling(window=7).min()\n",
    "df.head(10)"
   ]
  },
  {
   "cell_type": "code",
   "execution_count": null,
   "metadata": {},
   "outputs": [],
   "source": []
  },
  {
   "cell_type": "markdown",
   "metadata": {},
   "source": [
    "- 실습) Close 기준 10일 볼린저 밴드(Bollinger Bands) 구하기"
   ]
  },
  {
   "cell_type": "code",
   "execution_count": 75,
   "metadata": {},
   "outputs": [
    {
     "data": {
      "text/html": [
       "<div>\n",
       "<style scoped>\n",
       "    .dataframe tbody tr th:only-of-type {\n",
       "        vertical-align: middle;\n",
       "    }\n",
       "\n",
       "    .dataframe tbody tr th {\n",
       "        vertical-align: top;\n",
       "    }\n",
       "\n",
       "    .dataframe thead th {\n",
       "        text-align: right;\n",
       "    }\n",
       "</style>\n",
       "<table border=\"1\" class=\"dataframe\">\n",
       "  <thead>\n",
       "    <tr style=\"text-align: right;\">\n",
       "      <th></th>\n",
       "      <th>Date</th>\n",
       "      <th>Open</th>\n",
       "      <th>High</th>\n",
       "      <th>Low</th>\n",
       "      <th>Close</th>\n",
       "      <th>Adj Close</th>\n",
       "      <th>Volume</th>\n",
       "    </tr>\n",
       "    <tr>\n",
       "      <th>timestamp</th>\n",
       "      <th></th>\n",
       "      <th></th>\n",
       "      <th></th>\n",
       "      <th></th>\n",
       "      <th></th>\n",
       "      <th></th>\n",
       "      <th></th>\n",
       "    </tr>\n",
       "  </thead>\n",
       "  <tbody>\n",
       "    <tr>\n",
       "      <th>2023-07-19</th>\n",
       "      <td>2023-07-19</td>\n",
       "      <td>193.100006</td>\n",
       "      <td>198.229996</td>\n",
       "      <td>192.649994</td>\n",
       "      <td>195.100006</td>\n",
       "      <td>194.069351</td>\n",
       "      <td>80507300</td>\n",
       "    </tr>\n",
       "    <tr>\n",
       "      <th>2023-07-20</th>\n",
       "      <td>2023-07-20</td>\n",
       "      <td>195.089996</td>\n",
       "      <td>196.470001</td>\n",
       "      <td>192.500000</td>\n",
       "      <td>193.130005</td>\n",
       "      <td>192.109756</td>\n",
       "      <td>59581200</td>\n",
       "    </tr>\n",
       "    <tr>\n",
       "      <th>2023-07-21</th>\n",
       "      <td>2023-07-21</td>\n",
       "      <td>194.100006</td>\n",
       "      <td>194.970001</td>\n",
       "      <td>191.229996</td>\n",
       "      <td>191.940002</td>\n",
       "      <td>190.926041</td>\n",
       "      <td>71917800</td>\n",
       "    </tr>\n",
       "    <tr>\n",
       "      <th>2023-07-24</th>\n",
       "      <td>2023-07-24</td>\n",
       "      <td>193.410004</td>\n",
       "      <td>194.910004</td>\n",
       "      <td>192.250000</td>\n",
       "      <td>192.750000</td>\n",
       "      <td>191.731766</td>\n",
       "      <td>45377800</td>\n",
       "    </tr>\n",
       "    <tr>\n",
       "      <th>2023-07-25</th>\n",
       "      <td>2023-07-25</td>\n",
       "      <td>193.330002</td>\n",
       "      <td>194.440002</td>\n",
       "      <td>192.919998</td>\n",
       "      <td>193.619995</td>\n",
       "      <td>192.597153</td>\n",
       "      <td>37283200</td>\n",
       "    </tr>\n",
       "  </tbody>\n",
       "</table>\n",
       "</div>"
      ],
      "text/plain": [
       "                  Date        Open        High         Low       Close  \\\n",
       "timestamp                                                                \n",
       "2023-07-19  2023-07-19  193.100006  198.229996  192.649994  195.100006   \n",
       "2023-07-20  2023-07-20  195.089996  196.470001  192.500000  193.130005   \n",
       "2023-07-21  2023-07-21  194.100006  194.970001  191.229996  191.940002   \n",
       "2023-07-24  2023-07-24  193.410004  194.910004  192.250000  192.750000   \n",
       "2023-07-25  2023-07-25  193.330002  194.440002  192.919998  193.619995   \n",
       "\n",
       "             Adj Close    Volume  \n",
       "timestamp                         \n",
       "2023-07-19  194.069351  80507300  \n",
       "2023-07-20  192.109756  59581200  \n",
       "2023-07-21  190.926041  71917800  \n",
       "2023-07-24  191.731766  45377800  \n",
       "2023-07-25  192.597153  37283200  "
      ]
     },
     "execution_count": 75,
     "metadata": {},
     "output_type": "execute_result"
    }
   ],
   "source": [
    "df = pd.read_csv(\"../dataset/yfinance_aapl.csv\", index_col=0)\n",
    "df['timestamp'] = pd.to_datetime(df['Date'])\n",
    "df = df.set_index('timestamp')\n",
    "df.head()"
   ]
  },
  {
   "cell_type": "code",
   "execution_count": 34,
   "metadata": {},
   "outputs": [
    {
     "data": {
      "application/vnd.microsoft.datawrangler.viewer.v0+json": {
       "columns": [
        {
         "name": "timestamp",
         "rawType": "datetime64[ns]",
         "type": "datetime"
        },
        {
         "name": "Date",
         "rawType": "object",
         "type": "string"
        },
        {
         "name": "Open",
         "rawType": "float64",
         "type": "float"
        },
        {
         "name": "High",
         "rawType": "float64",
         "type": "float"
        },
        {
         "name": "Low",
         "rawType": "float64",
         "type": "float"
        },
        {
         "name": "Close",
         "rawType": "float64",
         "type": "float"
        },
        {
         "name": "Adj Close",
         "rawType": "float64",
         "type": "float"
        },
        {
         "name": "Volume",
         "rawType": "int64",
         "type": "integer"
        },
        {
         "name": "3_day_MA",
         "rawType": "float64",
         "type": "float"
        },
        {
         "name": "5_day_std",
         "rawType": "float64",
         "type": "float"
        },
        {
         "name": "7_day_max_high",
         "rawType": "float64",
         "type": "float"
        },
        {
         "name": "7_day_min_low",
         "rawType": "float64",
         "type": "float"
        },
        {
         "name": "Upper Bollinger Band",
         "rawType": "float64",
         "type": "float"
        },
        {
         "name": "Lower Bollinger Band",
         "rawType": "float64",
         "type": "float"
        }
       ],
       "conversionMethod": "pd.DataFrame",
       "ref": "3114e781-9de4-4c06-9d87-33b44806b327",
       "rows": [
        [
         "2023-07-19 00:00:00",
         "2023-07-19",
         "193.1000061035156",
         "198.22999572753903",
         "192.6499938964844",
         "195.1000061035156",
         "194.06935119628903",
         "80507300",
         null,
         null,
         null,
         null,
         null,
         null
        ],
        [
         "2023-07-20 00:00:00",
         "2023-07-20",
         "195.08999633789065",
         "196.47000122070312",
         "192.5",
         "193.1300048828125",
         "192.10975646972656",
         "59581200",
         null,
         null,
         null,
         null,
         null,
         null
        ],
        [
         "2023-07-21 00:00:00",
         "2023-07-21",
         "194.1000061035156",
         "194.97000122070312",
         "191.22999572753903",
         "191.94000244140625",
         "190.9260406494141",
         "71917800",
         "193.39000447591147",
         null,
         null,
         null,
         null,
         null
        ],
        [
         "2023-07-24 00:00:00",
         "2023-07-24",
         "193.41000366210935",
         "194.91000366210935",
         "192.25",
         "192.75",
         "191.7317657470703",
         "45377800",
         "192.6066691080729",
         null,
         null,
         null,
         null,
         null
        ],
        [
         "2023-07-25 00:00:00",
         "2023-07-25",
         "193.3300018310547",
         "194.44000244140625",
         "192.9199981689453",
         "193.6199951171875",
         "192.5971527099609",
         "37283200",
         "192.7699991861979",
         "1.1750628079205538",
         null,
         null,
         null,
         null
        ],
        [
         "2023-07-26 00:00:00",
         "2023-07-26",
         "193.6699981689453",
         "195.63999938964844",
         "193.32000732421875",
         "194.5",
         "193.47251892089844",
         "47471900",
         "193.62333170572916",
         "0.9566437582959334",
         null,
         null,
         null,
         null
        ],
        [
         "2023-07-27 00:00:00",
         "2023-07-27",
         "196.0200042724609",
         "197.1999969482422",
         "192.5500030517578",
         "193.22000122070312",
         "192.19927978515625",
         "47460200",
         "193.77999877929688",
         "0.9561262742966246",
         "198.22999572753903",
         "191.22999572753903",
         null,
         null
        ],
        [
         "2023-07-28 00:00:00",
         "2023-07-28",
         "194.6699981689453",
         "196.6300048828125",
         "194.13999938964844",
         "195.8300018310547",
         "194.7954864501953",
         "48291400",
         "194.51666768391928",
         "1.2158256916325518",
         "197.1999969482422",
         "191.22999572753903",
         null,
         null
        ],
        [
         "2023-07-31 00:00:00",
         "2023-07-31",
         "196.05999755859372",
         "196.4900054931641",
         "195.25999450683597",
         "196.4499969482422",
         "195.4122009277344",
         "38824100",
         "195.16666666666666",
         "1.3904424318389874",
         "197.1999969482422",
         "191.22999572753903",
         null,
         null
        ],
        [
         "2023-08-01 00:00:00",
         "2023-08-01",
         "196.2400054931641",
         "196.72999572753903",
         "195.27999877929688",
         "195.6100006103516",
         "194.5766448974609",
         "35175100",
         "195.9633331298828",
         "1.2754872049012924",
         "197.1999969482422",
         "192.25",
         "197.2155220892493",
         "191.2144797418054"
        ],
        [
         "2023-08-02 00:00:00",
         "2023-08-02",
         "195.0399932861328",
         "195.17999267578125",
         "191.8500061035156",
         "192.5800018310547",
         "191.56265258789065",
         "50389300",
         "194.87999979654947",
         "1.7208328656051863",
         "197.1999969482422",
         "191.8500061035156",
         "197.05506791075544",
         "190.87093306580704"
        ],
        [
         "2023-08-03 00:00:00",
         "2023-08-03",
         "191.57000732421875",
         "192.3699951171875",
         "190.69000244140625",
         "191.1699981689453",
         "190.16009521484372",
         "61235200",
         "193.12000020345053",
         "2.31467488415563",
         "197.1999969482422",
         "190.69000244140625",
         "197.30942834808167",
         "190.22457128570738"
        ],
        [
         "2023-08-04 00:00:00",
         "2023-08-04",
         "185.5200042724609",
         "187.3800048828125",
         "181.9199981689453",
         "181.9900054931641",
         "181.0286102294922",
         "115799700",
         "188.5800018310547",
         "5.768272599360113",
         "197.1999969482422",
         "181.9199981689453",
         "201.03689863555397",
         "184.50710160858668"
        ],
        [
         "2023-08-07 00:00:00",
         "2023-08-07",
         "182.1300048828125",
         "183.1300048828125",
         "177.35000610351562",
         "178.85000610351562",
         "177.90518188476562",
         "97576100",
         "184.00333658854166",
         "7.2244694572411285",
         "196.72999572753903",
         "177.35000610351562",
         "203.45943022624283",
         "179.30457123860094"
        ],
        [
         "2023-08-08 00:00:00",
         "2023-08-08",
         "179.69000244140625",
         "180.2700042724609",
         "177.5800018310547",
         "179.8000030517578",
         "178.85015869140625",
         "67823000",
         "180.21333821614584",
         "6.507175824761903",
         "196.72999572753903",
         "177.35000610351562",
         "203.9559562962078",
         "176.04404675555"
        ]
       ],
       "shape": {
        "columns": 13,
        "rows": 15
       }
      },
      "text/html": [
       "<div>\n",
       "<style scoped>\n",
       "    .dataframe tbody tr th:only-of-type {\n",
       "        vertical-align: middle;\n",
       "    }\n",
       "\n",
       "    .dataframe tbody tr th {\n",
       "        vertical-align: top;\n",
       "    }\n",
       "\n",
       "    .dataframe thead th {\n",
       "        text-align: right;\n",
       "    }\n",
       "</style>\n",
       "<table border=\"1\" class=\"dataframe\">\n",
       "  <thead>\n",
       "    <tr style=\"text-align: right;\">\n",
       "      <th></th>\n",
       "      <th>Date</th>\n",
       "      <th>Open</th>\n",
       "      <th>High</th>\n",
       "      <th>Low</th>\n",
       "      <th>Close</th>\n",
       "      <th>Adj Close</th>\n",
       "      <th>Volume</th>\n",
       "      <th>3_day_MA</th>\n",
       "      <th>5_day_std</th>\n",
       "      <th>7_day_max_high</th>\n",
       "      <th>7_day_min_low</th>\n",
       "      <th>Upper Bollinger Band</th>\n",
       "      <th>Lower Bollinger Band</th>\n",
       "    </tr>\n",
       "    <tr>\n",
       "      <th>timestamp</th>\n",
       "      <th></th>\n",
       "      <th></th>\n",
       "      <th></th>\n",
       "      <th></th>\n",
       "      <th></th>\n",
       "      <th></th>\n",
       "      <th></th>\n",
       "      <th></th>\n",
       "      <th></th>\n",
       "      <th></th>\n",
       "      <th></th>\n",
       "      <th></th>\n",
       "      <th></th>\n",
       "    </tr>\n",
       "  </thead>\n",
       "  <tbody>\n",
       "    <tr>\n",
       "      <th>2023-07-19</th>\n",
       "      <td>2023-07-19</td>\n",
       "      <td>193.100006</td>\n",
       "      <td>198.229996</td>\n",
       "      <td>192.649994</td>\n",
       "      <td>195.100006</td>\n",
       "      <td>194.069351</td>\n",
       "      <td>80507300</td>\n",
       "      <td>NaN</td>\n",
       "      <td>NaN</td>\n",
       "      <td>NaN</td>\n",
       "      <td>NaN</td>\n",
       "      <td>NaN</td>\n",
       "      <td>NaN</td>\n",
       "    </tr>\n",
       "    <tr>\n",
       "      <th>2023-07-20</th>\n",
       "      <td>2023-07-20</td>\n",
       "      <td>195.089996</td>\n",
       "      <td>196.470001</td>\n",
       "      <td>192.500000</td>\n",
       "      <td>193.130005</td>\n",
       "      <td>192.109756</td>\n",
       "      <td>59581200</td>\n",
       "      <td>NaN</td>\n",
       "      <td>NaN</td>\n",
       "      <td>NaN</td>\n",
       "      <td>NaN</td>\n",
       "      <td>NaN</td>\n",
       "      <td>NaN</td>\n",
       "    </tr>\n",
       "    <tr>\n",
       "      <th>2023-07-21</th>\n",
       "      <td>2023-07-21</td>\n",
       "      <td>194.100006</td>\n",
       "      <td>194.970001</td>\n",
       "      <td>191.229996</td>\n",
       "      <td>191.940002</td>\n",
       "      <td>190.926041</td>\n",
       "      <td>71917800</td>\n",
       "      <td>193.390004</td>\n",
       "      <td>NaN</td>\n",
       "      <td>NaN</td>\n",
       "      <td>NaN</td>\n",
       "      <td>NaN</td>\n",
       "      <td>NaN</td>\n",
       "    </tr>\n",
       "    <tr>\n",
       "      <th>2023-07-24</th>\n",
       "      <td>2023-07-24</td>\n",
       "      <td>193.410004</td>\n",
       "      <td>194.910004</td>\n",
       "      <td>192.250000</td>\n",
       "      <td>192.750000</td>\n",
       "      <td>191.731766</td>\n",
       "      <td>45377800</td>\n",
       "      <td>192.606669</td>\n",
       "      <td>NaN</td>\n",
       "      <td>NaN</td>\n",
       "      <td>NaN</td>\n",
       "      <td>NaN</td>\n",
       "      <td>NaN</td>\n",
       "    </tr>\n",
       "    <tr>\n",
       "      <th>2023-07-25</th>\n",
       "      <td>2023-07-25</td>\n",
       "      <td>193.330002</td>\n",
       "      <td>194.440002</td>\n",
       "      <td>192.919998</td>\n",
       "      <td>193.619995</td>\n",
       "      <td>192.597153</td>\n",
       "      <td>37283200</td>\n",
       "      <td>192.769999</td>\n",
       "      <td>1.175063</td>\n",
       "      <td>NaN</td>\n",
       "      <td>NaN</td>\n",
       "      <td>NaN</td>\n",
       "      <td>NaN</td>\n",
       "    </tr>\n",
       "    <tr>\n",
       "      <th>2023-07-26</th>\n",
       "      <td>2023-07-26</td>\n",
       "      <td>193.669998</td>\n",
       "      <td>195.639999</td>\n",
       "      <td>193.320007</td>\n",
       "      <td>194.500000</td>\n",
       "      <td>193.472519</td>\n",
       "      <td>47471900</td>\n",
       "      <td>193.623332</td>\n",
       "      <td>0.956644</td>\n",
       "      <td>NaN</td>\n",
       "      <td>NaN</td>\n",
       "      <td>NaN</td>\n",
       "      <td>NaN</td>\n",
       "    </tr>\n",
       "    <tr>\n",
       "      <th>2023-07-27</th>\n",
       "      <td>2023-07-27</td>\n",
       "      <td>196.020004</td>\n",
       "      <td>197.199997</td>\n",
       "      <td>192.550003</td>\n",
       "      <td>193.220001</td>\n",
       "      <td>192.199280</td>\n",
       "      <td>47460200</td>\n",
       "      <td>193.779999</td>\n",
       "      <td>0.956126</td>\n",
       "      <td>198.229996</td>\n",
       "      <td>191.229996</td>\n",
       "      <td>NaN</td>\n",
       "      <td>NaN</td>\n",
       "    </tr>\n",
       "    <tr>\n",
       "      <th>2023-07-28</th>\n",
       "      <td>2023-07-28</td>\n",
       "      <td>194.669998</td>\n",
       "      <td>196.630005</td>\n",
       "      <td>194.139999</td>\n",
       "      <td>195.830002</td>\n",
       "      <td>194.795486</td>\n",
       "      <td>48291400</td>\n",
       "      <td>194.516668</td>\n",
       "      <td>1.215826</td>\n",
       "      <td>197.199997</td>\n",
       "      <td>191.229996</td>\n",
       "      <td>NaN</td>\n",
       "      <td>NaN</td>\n",
       "    </tr>\n",
       "    <tr>\n",
       "      <th>2023-07-31</th>\n",
       "      <td>2023-07-31</td>\n",
       "      <td>196.059998</td>\n",
       "      <td>196.490005</td>\n",
       "      <td>195.259995</td>\n",
       "      <td>196.449997</td>\n",
       "      <td>195.412201</td>\n",
       "      <td>38824100</td>\n",
       "      <td>195.166667</td>\n",
       "      <td>1.390442</td>\n",
       "      <td>197.199997</td>\n",
       "      <td>191.229996</td>\n",
       "      <td>NaN</td>\n",
       "      <td>NaN</td>\n",
       "    </tr>\n",
       "    <tr>\n",
       "      <th>2023-08-01</th>\n",
       "      <td>2023-08-01</td>\n",
       "      <td>196.240005</td>\n",
       "      <td>196.729996</td>\n",
       "      <td>195.279999</td>\n",
       "      <td>195.610001</td>\n",
       "      <td>194.576645</td>\n",
       "      <td>35175100</td>\n",
       "      <td>195.963333</td>\n",
       "      <td>1.275487</td>\n",
       "      <td>197.199997</td>\n",
       "      <td>192.250000</td>\n",
       "      <td>197.215522</td>\n",
       "      <td>191.214480</td>\n",
       "    </tr>\n",
       "    <tr>\n",
       "      <th>2023-08-02</th>\n",
       "      <td>2023-08-02</td>\n",
       "      <td>195.039993</td>\n",
       "      <td>195.179993</td>\n",
       "      <td>191.850006</td>\n",
       "      <td>192.580002</td>\n",
       "      <td>191.562653</td>\n",
       "      <td>50389300</td>\n",
       "      <td>194.880000</td>\n",
       "      <td>1.720833</td>\n",
       "      <td>197.199997</td>\n",
       "      <td>191.850006</td>\n",
       "      <td>197.055068</td>\n",
       "      <td>190.870933</td>\n",
       "    </tr>\n",
       "    <tr>\n",
       "      <th>2023-08-03</th>\n",
       "      <td>2023-08-03</td>\n",
       "      <td>191.570007</td>\n",
       "      <td>192.369995</td>\n",
       "      <td>190.690002</td>\n",
       "      <td>191.169998</td>\n",
       "      <td>190.160095</td>\n",
       "      <td>61235200</td>\n",
       "      <td>193.120000</td>\n",
       "      <td>2.314675</td>\n",
       "      <td>197.199997</td>\n",
       "      <td>190.690002</td>\n",
       "      <td>197.309428</td>\n",
       "      <td>190.224571</td>\n",
       "    </tr>\n",
       "    <tr>\n",
       "      <th>2023-08-04</th>\n",
       "      <td>2023-08-04</td>\n",
       "      <td>185.520004</td>\n",
       "      <td>187.380005</td>\n",
       "      <td>181.919998</td>\n",
       "      <td>181.990005</td>\n",
       "      <td>181.028610</td>\n",
       "      <td>115799700</td>\n",
       "      <td>188.580002</td>\n",
       "      <td>5.768273</td>\n",
       "      <td>197.199997</td>\n",
       "      <td>181.919998</td>\n",
       "      <td>201.036899</td>\n",
       "      <td>184.507102</td>\n",
       "    </tr>\n",
       "    <tr>\n",
       "      <th>2023-08-07</th>\n",
       "      <td>2023-08-07</td>\n",
       "      <td>182.130005</td>\n",
       "      <td>183.130005</td>\n",
       "      <td>177.350006</td>\n",
       "      <td>178.850006</td>\n",
       "      <td>177.905182</td>\n",
       "      <td>97576100</td>\n",
       "      <td>184.003337</td>\n",
       "      <td>7.224469</td>\n",
       "      <td>196.729996</td>\n",
       "      <td>177.350006</td>\n",
       "      <td>203.459430</td>\n",
       "      <td>179.304571</td>\n",
       "    </tr>\n",
       "    <tr>\n",
       "      <th>2023-08-08</th>\n",
       "      <td>2023-08-08</td>\n",
       "      <td>179.690002</td>\n",
       "      <td>180.270004</td>\n",
       "      <td>177.580002</td>\n",
       "      <td>179.800003</td>\n",
       "      <td>178.850159</td>\n",
       "      <td>67823000</td>\n",
       "      <td>180.213338</td>\n",
       "      <td>6.507176</td>\n",
       "      <td>196.729996</td>\n",
       "      <td>177.350006</td>\n",
       "      <td>203.955956</td>\n",
       "      <td>176.044047</td>\n",
       "    </tr>\n",
       "  </tbody>\n",
       "</table>\n",
       "</div>"
      ],
      "text/plain": [
       "                  Date        Open        High         Low       Close  \\\n",
       "timestamp                                                                \n",
       "2023-07-19  2023-07-19  193.100006  198.229996  192.649994  195.100006   \n",
       "2023-07-20  2023-07-20  195.089996  196.470001  192.500000  193.130005   \n",
       "2023-07-21  2023-07-21  194.100006  194.970001  191.229996  191.940002   \n",
       "2023-07-24  2023-07-24  193.410004  194.910004  192.250000  192.750000   \n",
       "2023-07-25  2023-07-25  193.330002  194.440002  192.919998  193.619995   \n",
       "2023-07-26  2023-07-26  193.669998  195.639999  193.320007  194.500000   \n",
       "2023-07-27  2023-07-27  196.020004  197.199997  192.550003  193.220001   \n",
       "2023-07-28  2023-07-28  194.669998  196.630005  194.139999  195.830002   \n",
       "2023-07-31  2023-07-31  196.059998  196.490005  195.259995  196.449997   \n",
       "2023-08-01  2023-08-01  196.240005  196.729996  195.279999  195.610001   \n",
       "2023-08-02  2023-08-02  195.039993  195.179993  191.850006  192.580002   \n",
       "2023-08-03  2023-08-03  191.570007  192.369995  190.690002  191.169998   \n",
       "2023-08-04  2023-08-04  185.520004  187.380005  181.919998  181.990005   \n",
       "2023-08-07  2023-08-07  182.130005  183.130005  177.350006  178.850006   \n",
       "2023-08-08  2023-08-08  179.690002  180.270004  177.580002  179.800003   \n",
       "\n",
       "             Adj Close     Volume    3_day_MA  5_day_std  7_day_max_high  \\\n",
       "timestamp                                                                  \n",
       "2023-07-19  194.069351   80507300         NaN        NaN             NaN   \n",
       "2023-07-20  192.109756   59581200         NaN        NaN             NaN   \n",
       "2023-07-21  190.926041   71917800  193.390004        NaN             NaN   \n",
       "2023-07-24  191.731766   45377800  192.606669        NaN             NaN   \n",
       "2023-07-25  192.597153   37283200  192.769999   1.175063             NaN   \n",
       "2023-07-26  193.472519   47471900  193.623332   0.956644             NaN   \n",
       "2023-07-27  192.199280   47460200  193.779999   0.956126      198.229996   \n",
       "2023-07-28  194.795486   48291400  194.516668   1.215826      197.199997   \n",
       "2023-07-31  195.412201   38824100  195.166667   1.390442      197.199997   \n",
       "2023-08-01  194.576645   35175100  195.963333   1.275487      197.199997   \n",
       "2023-08-02  191.562653   50389300  194.880000   1.720833      197.199997   \n",
       "2023-08-03  190.160095   61235200  193.120000   2.314675      197.199997   \n",
       "2023-08-04  181.028610  115799700  188.580002   5.768273      197.199997   \n",
       "2023-08-07  177.905182   97576100  184.003337   7.224469      196.729996   \n",
       "2023-08-08  178.850159   67823000  180.213338   6.507176      196.729996   \n",
       "\n",
       "            7_day_min_low  Upper Bollinger Band  Lower Bollinger Band  \n",
       "timestamp                                                              \n",
       "2023-07-19            NaN                   NaN                   NaN  \n",
       "2023-07-20            NaN                   NaN                   NaN  \n",
       "2023-07-21            NaN                   NaN                   NaN  \n",
       "2023-07-24            NaN                   NaN                   NaN  \n",
       "2023-07-25            NaN                   NaN                   NaN  \n",
       "2023-07-26            NaN                   NaN                   NaN  \n",
       "2023-07-27     191.229996                   NaN                   NaN  \n",
       "2023-07-28     191.229996                   NaN                   NaN  \n",
       "2023-07-31     191.229996                   NaN                   NaN  \n",
       "2023-08-01     192.250000            197.215522            191.214480  \n",
       "2023-08-02     191.850006            197.055068            190.870933  \n",
       "2023-08-03     190.690002            197.309428            190.224571  \n",
       "2023-08-04     181.919998            201.036899            184.507102  \n",
       "2023-08-07     177.350006            203.459430            179.304571  \n",
       "2023-08-08     177.350006            203.955956            176.044047  "
      ]
     },
     "execution_count": 34,
     "metadata": {},
     "output_type": "execute_result"
    }
   ],
   "source": [
    "\n",
    "df[\"Upper Bollinger Band\"] = df[\"Close\"].rolling(window=10).mean() + df[\"Close\"].rolling(window=10).std() * 2\n",
    "df[\"Lower Bollinger Band\"] = df[\"Close\"].rolling(window=10).mean() - df[\"Close\"].rolling(window=10).std() * 2\n",
    "df.head(15)"
   ]
  },
  {
   "cell_type": "code",
   "execution_count": 35,
   "metadata": {},
   "outputs": [],
   "source": [
    "window_length = 10\n",
    "df[\"Moving_Average\"] = df[\"Close\"].rolling(window=window_length).mean()\n",
    "df[\"Moving_STD\"] = df[\"Close\"].rolling(window=window_length).std()"
   ]
  },
  {
   "cell_type": "code",
   "execution_count": 70,
   "metadata": {},
   "outputs": [],
   "source": []
  },
  {
   "cell_type": "code",
   "execution_count": 36,
   "metadata": {},
   "outputs": [],
   "source": [
    "# Upper Bollinger Band = Moving average + (Moving STD * 2)\n",
    "# Lower Bollinger Band = Moving average - (Moving STD * 2)\n",
    "df[\"Upper_Bollinger\"] = df[\"Moving_Average\"] + (df[\"Moving_STD\"] * 2)\n",
    "df[\"Lower_Bollinger\"] = df[\"Moving_Average\"] - (df[\"Moving_STD\"] * 2)"
   ]
  },
  {
   "cell_type": "code",
   "execution_count": 53,
   "metadata": {},
   "outputs": [
    {
     "data": {
      "application/vnd.microsoft.datawrangler.viewer.v0+json": {
       "columns": [
        {
         "name": "timestamp",
         "rawType": "datetime64[ns]",
         "type": "datetime"
        },
        {
         "name": "open",
         "rawType": "int64",
         "type": "integer"
        },
        {
         "name": "high",
         "rawType": "int64",
         "type": "integer"
        },
        {
         "name": "low",
         "rawType": "int64",
         "type": "integer"
        },
        {
         "name": "close",
         "rawType": "int64",
         "type": "integer"
        },
        {
         "name": "volume",
         "rawType": "int64",
         "type": "integer"
        }
       ],
       "conversionMethod": "pd.DataFrame",
       "ref": "f0b59050-2ecf-43cc-a931-60914a34c9c6",
       "rows": [
        [
         "2024-03-18 09:00:00",
         "72600",
         "72700",
         "72500",
         "72700",
         "525448"
        ],
        [
         "2024-03-18 09:01:00",
         "72700",
         "72900",
         "72600",
         "72800",
         "243017"
        ],
        [
         "2024-03-18 09:02:00",
         "72800",
         "72800",
         "72700",
         "72800",
         "45015"
        ],
        [
         "2024-03-18 09:03:00",
         "72800",
         "72800",
         "72700",
         "72800",
         "48635"
        ],
        [
         "2024-03-18 09:04:00",
         "72700",
         "72800",
         "72600",
         "72600",
         "265091"
        ],
        [
         "2024-03-18 09:05:00",
         "72700",
         "72700",
         "72500",
         "72600",
         "58264"
        ],
        [
         "2024-03-18 09:06:00",
         "72600",
         "72700",
         "72500",
         "72700",
         "91938"
        ],
        [
         "2024-03-18 09:07:00",
         "72700",
         "72700",
         "72600",
         "72600",
         "50769"
        ],
        [
         "2024-03-18 09:08:00",
         "72700",
         "72800",
         "72600",
         "72800",
         "178946"
        ],
        [
         "2024-03-18 09:09:00",
         "72800",
         "72800",
         "72700",
         "72800",
         "34245"
        ],
        [
         "2024-03-18 09:10:00",
         "72800",
         "72800",
         "72700",
         "72800",
         "66913"
        ],
        [
         "2024-03-18 09:11:00",
         "72800",
         "72900",
         "72700",
         "72900",
         "44853"
        ],
        [
         "2024-03-18 09:12:00",
         "72900",
         "72900",
         "72800",
         "72900",
         "11276"
        ],
        [
         "2024-03-18 09:13:00",
         "72800",
         "72900",
         "72800",
         "72800",
         "61104"
        ],
        [
         "2024-03-18 09:14:00",
         "72800",
         "72900",
         "72700",
         "72800",
         "91820"
        ]
       ],
       "shape": {
        "columns": 5,
        "rows": 15
       }
      },
      "text/html": [
       "<div>\n",
       "<style scoped>\n",
       "    .dataframe tbody tr th:only-of-type {\n",
       "        vertical-align: middle;\n",
       "    }\n",
       "\n",
       "    .dataframe tbody tr th {\n",
       "        vertical-align: top;\n",
       "    }\n",
       "\n",
       "    .dataframe thead th {\n",
       "        text-align: right;\n",
       "    }\n",
       "</style>\n",
       "<table border=\"1\" class=\"dataframe\">\n",
       "  <thead>\n",
       "    <tr style=\"text-align: right;\">\n",
       "      <th></th>\n",
       "      <th>open</th>\n",
       "      <th>high</th>\n",
       "      <th>low</th>\n",
       "      <th>close</th>\n",
       "      <th>volume</th>\n",
       "    </tr>\n",
       "    <tr>\n",
       "      <th>timestamp</th>\n",
       "      <th></th>\n",
       "      <th></th>\n",
       "      <th></th>\n",
       "      <th></th>\n",
       "      <th></th>\n",
       "    </tr>\n",
       "  </thead>\n",
       "  <tbody>\n",
       "    <tr>\n",
       "      <th>2024-03-18 09:00:00</th>\n",
       "      <td>72600</td>\n",
       "      <td>72700</td>\n",
       "      <td>72500</td>\n",
       "      <td>72700</td>\n",
       "      <td>525448</td>\n",
       "    </tr>\n",
       "    <tr>\n",
       "      <th>2024-03-18 09:01:00</th>\n",
       "      <td>72700</td>\n",
       "      <td>72900</td>\n",
       "      <td>72600</td>\n",
       "      <td>72800</td>\n",
       "      <td>243017</td>\n",
       "    </tr>\n",
       "    <tr>\n",
       "      <th>2024-03-18 09:02:00</th>\n",
       "      <td>72800</td>\n",
       "      <td>72800</td>\n",
       "      <td>72700</td>\n",
       "      <td>72800</td>\n",
       "      <td>45015</td>\n",
       "    </tr>\n",
       "    <tr>\n",
       "      <th>2024-03-18 09:03:00</th>\n",
       "      <td>72800</td>\n",
       "      <td>72800</td>\n",
       "      <td>72700</td>\n",
       "      <td>72800</td>\n",
       "      <td>48635</td>\n",
       "    </tr>\n",
       "    <tr>\n",
       "      <th>2024-03-18 09:04:00</th>\n",
       "      <td>72700</td>\n",
       "      <td>72800</td>\n",
       "      <td>72600</td>\n",
       "      <td>72600</td>\n",
       "      <td>265091</td>\n",
       "    </tr>\n",
       "    <tr>\n",
       "      <th>2024-03-18 09:05:00</th>\n",
       "      <td>72700</td>\n",
       "      <td>72700</td>\n",
       "      <td>72500</td>\n",
       "      <td>72600</td>\n",
       "      <td>58264</td>\n",
       "    </tr>\n",
       "    <tr>\n",
       "      <th>2024-03-18 09:06:00</th>\n",
       "      <td>72600</td>\n",
       "      <td>72700</td>\n",
       "      <td>72500</td>\n",
       "      <td>72700</td>\n",
       "      <td>91938</td>\n",
       "    </tr>\n",
       "    <tr>\n",
       "      <th>2024-03-18 09:07:00</th>\n",
       "      <td>72700</td>\n",
       "      <td>72700</td>\n",
       "      <td>72600</td>\n",
       "      <td>72600</td>\n",
       "      <td>50769</td>\n",
       "    </tr>\n",
       "    <tr>\n",
       "      <th>2024-03-18 09:08:00</th>\n",
       "      <td>72700</td>\n",
       "      <td>72800</td>\n",
       "      <td>72600</td>\n",
       "      <td>72800</td>\n",
       "      <td>178946</td>\n",
       "    </tr>\n",
       "    <tr>\n",
       "      <th>2024-03-18 09:09:00</th>\n",
       "      <td>72800</td>\n",
       "      <td>72800</td>\n",
       "      <td>72700</td>\n",
       "      <td>72800</td>\n",
       "      <td>34245</td>\n",
       "    </tr>\n",
       "    <tr>\n",
       "      <th>2024-03-18 09:10:00</th>\n",
       "      <td>72800</td>\n",
       "      <td>72800</td>\n",
       "      <td>72700</td>\n",
       "      <td>72800</td>\n",
       "      <td>66913</td>\n",
       "    </tr>\n",
       "    <tr>\n",
       "      <th>2024-03-18 09:11:00</th>\n",
       "      <td>72800</td>\n",
       "      <td>72900</td>\n",
       "      <td>72700</td>\n",
       "      <td>72900</td>\n",
       "      <td>44853</td>\n",
       "    </tr>\n",
       "    <tr>\n",
       "      <th>2024-03-18 09:12:00</th>\n",
       "      <td>72900</td>\n",
       "      <td>72900</td>\n",
       "      <td>72800</td>\n",
       "      <td>72900</td>\n",
       "      <td>11276</td>\n",
       "    </tr>\n",
       "    <tr>\n",
       "      <th>2024-03-18 09:13:00</th>\n",
       "      <td>72800</td>\n",
       "      <td>72900</td>\n",
       "      <td>72800</td>\n",
       "      <td>72800</td>\n",
       "      <td>61104</td>\n",
       "    </tr>\n",
       "    <tr>\n",
       "      <th>2024-03-18 09:14:00</th>\n",
       "      <td>72800</td>\n",
       "      <td>72900</td>\n",
       "      <td>72700</td>\n",
       "      <td>72800</td>\n",
       "      <td>91820</td>\n",
       "    </tr>\n",
       "  </tbody>\n",
       "</table>\n",
       "</div>"
      ],
      "text/plain": [
       "                      open   high    low  close  volume\n",
       "timestamp                                              \n",
       "2024-03-18 09:00:00  72600  72700  72500  72700  525448\n",
       "2024-03-18 09:01:00  72700  72900  72600  72800  243017\n",
       "2024-03-18 09:02:00  72800  72800  72700  72800   45015\n",
       "2024-03-18 09:03:00  72800  72800  72700  72800   48635\n",
       "2024-03-18 09:04:00  72700  72800  72600  72600  265091\n",
       "2024-03-18 09:05:00  72700  72700  72500  72600   58264\n",
       "2024-03-18 09:06:00  72600  72700  72500  72700   91938\n",
       "2024-03-18 09:07:00  72700  72700  72600  72600   50769\n",
       "2024-03-18 09:08:00  72700  72800  72600  72800  178946\n",
       "2024-03-18 09:09:00  72800  72800  72700  72800   34245\n",
       "2024-03-18 09:10:00  72800  72800  72700  72800   66913\n",
       "2024-03-18 09:11:00  72800  72900  72700  72900   44853\n",
       "2024-03-18 09:12:00  72900  72900  72800  72900   11276\n",
       "2024-03-18 09:13:00  72800  72900  72800  72800   61104\n",
       "2024-03-18 09:14:00  72800  72900  72700  72800   91820"
      ]
     },
     "execution_count": 53,
     "metadata": {},
     "output_type": "execute_result"
    }
   ],
   "source": [
    "df.head(15)"
   ]
  },
  {
   "cell_type": "markdown",
   "metadata": {},
   "source": [
    "## 4) Resample\n",
    "- `resample()` 함수는 시계열 데이터에서 시간 간격을 재조정할 때 사용합니다. 예를 들어, 1분봉 데이터를 1시간봉 데이터로 집계할 수 있습니다."
   ]
  },
  {
   "cell_type": "code",
   "execution_count": 52,
   "metadata": {},
   "outputs": [
    {
     "data": {
      "application/vnd.microsoft.datawrangler.viewer.v0+json": {
       "columns": [
        {
         "name": "timestamp",
         "rawType": "datetime64[ns]",
         "type": "datetime"
        },
        {
         "name": "open",
         "rawType": "int64",
         "type": "integer"
        },
        {
         "name": "high",
         "rawType": "int64",
         "type": "integer"
        },
        {
         "name": "low",
         "rawType": "int64",
         "type": "integer"
        },
        {
         "name": "close",
         "rawType": "int64",
         "type": "integer"
        },
        {
         "name": "volume",
         "rawType": "int64",
         "type": "integer"
        }
       ],
       "conversionMethod": "pd.DataFrame",
       "ref": "668911b1-ba91-4c4b-97b5-48fe54685c2d",
       "rows": [
        [
         "2024-03-18 09:00:00",
         "72600",
         "72700",
         "72500",
         "72700",
         "525448"
        ],
        [
         "2024-03-18 09:01:00",
         "72700",
         "72900",
         "72600",
         "72800",
         "243017"
        ],
        [
         "2024-03-18 09:02:00",
         "72800",
         "72800",
         "72700",
         "72800",
         "45015"
        ],
        [
         "2024-03-18 09:03:00",
         "72800",
         "72800",
         "72700",
         "72800",
         "48635"
        ],
        [
         "2024-03-18 09:04:00",
         "72700",
         "72800",
         "72600",
         "72600",
         "265091"
        ]
       ],
       "shape": {
        "columns": 5,
        "rows": 5
       }
      },
      "text/html": [
       "<div>\n",
       "<style scoped>\n",
       "    .dataframe tbody tr th:only-of-type {\n",
       "        vertical-align: middle;\n",
       "    }\n",
       "\n",
       "    .dataframe tbody tr th {\n",
       "        vertical-align: top;\n",
       "    }\n",
       "\n",
       "    .dataframe thead th {\n",
       "        text-align: right;\n",
       "    }\n",
       "</style>\n",
       "<table border=\"1\" class=\"dataframe\">\n",
       "  <thead>\n",
       "    <tr style=\"text-align: right;\">\n",
       "      <th></th>\n",
       "      <th>open</th>\n",
       "      <th>high</th>\n",
       "      <th>low</th>\n",
       "      <th>close</th>\n",
       "      <th>volume</th>\n",
       "    </tr>\n",
       "    <tr>\n",
       "      <th>timestamp</th>\n",
       "      <th></th>\n",
       "      <th></th>\n",
       "      <th></th>\n",
       "      <th></th>\n",
       "      <th></th>\n",
       "    </tr>\n",
       "  </thead>\n",
       "  <tbody>\n",
       "    <tr>\n",
       "      <th>2024-03-18 09:00:00</th>\n",
       "      <td>72600</td>\n",
       "      <td>72700</td>\n",
       "      <td>72500</td>\n",
       "      <td>72700</td>\n",
       "      <td>525448</td>\n",
       "    </tr>\n",
       "    <tr>\n",
       "      <th>2024-03-18 09:01:00</th>\n",
       "      <td>72700</td>\n",
       "      <td>72900</td>\n",
       "      <td>72600</td>\n",
       "      <td>72800</td>\n",
       "      <td>243017</td>\n",
       "    </tr>\n",
       "    <tr>\n",
       "      <th>2024-03-18 09:02:00</th>\n",
       "      <td>72800</td>\n",
       "      <td>72800</td>\n",
       "      <td>72700</td>\n",
       "      <td>72800</td>\n",
       "      <td>45015</td>\n",
       "    </tr>\n",
       "    <tr>\n",
       "      <th>2024-03-18 09:03:00</th>\n",
       "      <td>72800</td>\n",
       "      <td>72800</td>\n",
       "      <td>72700</td>\n",
       "      <td>72800</td>\n",
       "      <td>48635</td>\n",
       "    </tr>\n",
       "    <tr>\n",
       "      <th>2024-03-18 09:04:00</th>\n",
       "      <td>72700</td>\n",
       "      <td>72800</td>\n",
       "      <td>72600</td>\n",
       "      <td>72600</td>\n",
       "      <td>265091</td>\n",
       "    </tr>\n",
       "  </tbody>\n",
       "</table>\n",
       "</div>"
      ],
      "text/plain": [
       "                      open   high    low  close  volume\n",
       "timestamp                                              \n",
       "2024-03-18 09:00:00  72600  72700  72500  72700  525448\n",
       "2024-03-18 09:01:00  72700  72900  72600  72800  243017\n",
       "2024-03-18 09:02:00  72800  72800  72700  72800   45015\n",
       "2024-03-18 09:03:00  72800  72800  72700  72800   48635\n",
       "2024-03-18 09:04:00  72700  72800  72600  72600  265091"
      ]
     },
     "execution_count": 52,
     "metadata": {},
     "output_type": "execute_result"
    }
   ],
   "source": [
    "# 삼성전자 2024년 3월 18일 1분봉 데이터\n",
    "df = pd.read_csv(\"../dataset/005039_20240318_1minute.csv\", index_col=0)\n",
    "df[\"timestamp\"] = df[\"timestamp\"].apply(lambda x: pd.to_datetime(x))\n",
    "df[['open', 'high', 'low', 'close', 'volume']] = df[['open', 'high', 'low', 'close', 'volume']].astype(int)\n",
    "df.set_index('timestamp', inplace=True)\n",
    "\n",
    "df.head()"
   ]
  },
  {
   "cell_type": "code",
   "execution_count": 56,
   "metadata": {},
   "outputs": [
    {
     "data": {
      "application/vnd.microsoft.datawrangler.viewer.v0+json": {
       "columns": [
        {
         "name": "index",
         "rawType": "int64",
         "type": "integer"
        },
        {
         "name": "timestamp",
         "rawType": "datetime64[ns]",
         "type": "datetime"
        },
        {
         "name": "volume",
         "rawType": "int64",
         "type": "integer"
        }
       ],
       "conversionMethod": "pd.DataFrame",
       "ref": "b68743cc-914b-492f-bba2-12bfa5a1ee0c",
       "rows": [
        [
         "0",
         "2024-03-18 09:00:00",
         "3268524"
        ],
        [
         "1",
         "2024-03-18 10:00:00",
         "1165637"
        ],
        [
         "2",
         "2024-03-18 11:00:00",
         "1259625"
        ],
        [
         "3",
         "2024-03-18 12:00:00",
         "858394"
        ],
        [
         "4",
         "2024-03-18 13:00:00",
         "1476135"
        ],
        [
         "5",
         "2024-03-18 14:00:00",
         "1859321"
        ],
        [
         "6",
         "2024-03-18 15:00:00",
         "2489636"
        ]
       ],
       "shape": {
        "columns": 2,
        "rows": 7
       }
      },
      "text/html": [
       "<div>\n",
       "<style scoped>\n",
       "    .dataframe tbody tr th:only-of-type {\n",
       "        vertical-align: middle;\n",
       "    }\n",
       "\n",
       "    .dataframe tbody tr th {\n",
       "        vertical-align: top;\n",
       "    }\n",
       "\n",
       "    .dataframe thead th {\n",
       "        text-align: right;\n",
       "    }\n",
       "</style>\n",
       "<table border=\"1\" class=\"dataframe\">\n",
       "  <thead>\n",
       "    <tr style=\"text-align: right;\">\n",
       "      <th></th>\n",
       "      <th>timestamp</th>\n",
       "      <th>volume</th>\n",
       "    </tr>\n",
       "  </thead>\n",
       "  <tbody>\n",
       "    <tr>\n",
       "      <th>0</th>\n",
       "      <td>2024-03-18 09:00:00</td>\n",
       "      <td>3268524</td>\n",
       "    </tr>\n",
       "    <tr>\n",
       "      <th>1</th>\n",
       "      <td>2024-03-18 10:00:00</td>\n",
       "      <td>1165637</td>\n",
       "    </tr>\n",
       "    <tr>\n",
       "      <th>2</th>\n",
       "      <td>2024-03-18 11:00:00</td>\n",
       "      <td>1259625</td>\n",
       "    </tr>\n",
       "    <tr>\n",
       "      <th>3</th>\n",
       "      <td>2024-03-18 12:00:00</td>\n",
       "      <td>858394</td>\n",
       "    </tr>\n",
       "    <tr>\n",
       "      <th>4</th>\n",
       "      <td>2024-03-18 13:00:00</td>\n",
       "      <td>1476135</td>\n",
       "    </tr>\n",
       "    <tr>\n",
       "      <th>5</th>\n",
       "      <td>2024-03-18 14:00:00</td>\n",
       "      <td>1859321</td>\n",
       "    </tr>\n",
       "    <tr>\n",
       "      <th>6</th>\n",
       "      <td>2024-03-18 15:00:00</td>\n",
       "      <td>2489636</td>\n",
       "    </tr>\n",
       "  </tbody>\n",
       "</table>\n",
       "</div>"
      ],
      "text/plain": [
       "            timestamp   volume\n",
       "0 2024-03-18 09:00:00  3268524\n",
       "1 2024-03-18 10:00:00  1165637\n",
       "2 2024-03-18 11:00:00  1259625\n",
       "3 2024-03-18 12:00:00   858394\n",
       "4 2024-03-18 13:00:00  1476135\n",
       "5 2024-03-18 14:00:00  1859321\n",
       "6 2024-03-18 15:00:00  2489636"
      ]
     },
     "execution_count": 56,
     "metadata": {},
     "output_type": "execute_result"
    }
   ],
   "source": [
    "# 1분봉 데이터의 volume에 대해 1시간 기준으로 합계하기\n",
    "df[\"volume\"].resample(\"1h\").sum().reset_index()"
   ]
  },
  {
   "cell_type": "code",
   "execution_count": null,
   "metadata": {},
   "outputs": [],
   "source": []
  },
  {
   "cell_type": "code",
   "execution_count": 59,
   "metadata": {},
   "outputs": [
    {
     "data": {
      "application/vnd.microsoft.datawrangler.viewer.v0+json": {
       "columns": [
        {
         "name": "timestamp",
         "rawType": "datetime64[ns]",
         "type": "datetime"
        },
        {
         "name": "mean",
         "rawType": "float64",
         "type": "float"
        },
        {
         "name": "sum",
         "rawType": "int64",
         "type": "integer"
        },
        {
         "name": "max",
         "rawType": "int64",
         "type": "integer"
        },
        {
         "name": "min",
         "rawType": "int64",
         "type": "integer"
        }
       ],
       "conversionMethod": "pd.DataFrame",
       "ref": "a79ad2ef-4d60-476c-83bc-b3b144c12817",
       "rows": [
        [
         "2024-03-18 09:00:00",
         "75841.83333333333",
         "2275255",
         "525448",
         "8507"
        ],
        [
         "2024-03-18 09:30:00",
         "33108.96666666667",
         "993269",
         "126522",
         "2998"
        ],
        [
         "2024-03-18 10:00:00",
         "20074.866666666665",
         "602246",
         "174837",
         "5182"
        ],
        [
         "2024-03-18 10:30:00",
         "18779.7",
         "563391",
         "115167",
         "5888"
        ],
        [
         "2024-03-18 11:00:00",
         "18826.266666666666",
         "564788",
         "173217",
         "7229"
        ],
        [
         "2024-03-18 11:30:00",
         "23161.233333333334",
         "694837",
         "200569",
         "3800"
        ],
        [
         "2024-03-18 12:00:00",
         "17583.9",
         "527517",
         "94444",
         "4361"
        ],
        [
         "2024-03-18 12:30:00",
         "11029.233333333334",
         "330877",
         "31191",
         "7303"
        ],
        [
         "2024-03-18 13:00:00",
         "30209.466666666667",
         "906284",
         "208784",
         "3017"
        ],
        [
         "2024-03-18 13:30:00",
         "18995.033333333333",
         "569851",
         "239885",
         "4114"
        ],
        [
         "2024-03-18 14:00:00",
         "29150.5",
         "874515",
         "194193",
         "5775"
        ],
        [
         "2024-03-18 14:30:00",
         "32826.86666666667",
         "984806",
         "194493",
         "8915"
        ],
        [
         "2024-03-18 15:00:00",
         "20138.0",
         "604140",
         "225983",
         "0"
        ],
        [
         "2024-03-18 15:30:00",
         "1885496.0",
         "1885496",
         "1885496",
         "1885496"
        ]
       ],
       "shape": {
        "columns": 4,
        "rows": 14
       }
      },
      "text/html": [
       "<div>\n",
       "<style scoped>\n",
       "    .dataframe tbody tr th:only-of-type {\n",
       "        vertical-align: middle;\n",
       "    }\n",
       "\n",
       "    .dataframe tbody tr th {\n",
       "        vertical-align: top;\n",
       "    }\n",
       "\n",
       "    .dataframe thead th {\n",
       "        text-align: right;\n",
       "    }\n",
       "</style>\n",
       "<table border=\"1\" class=\"dataframe\">\n",
       "  <thead>\n",
       "    <tr style=\"text-align: right;\">\n",
       "      <th></th>\n",
       "      <th>mean</th>\n",
       "      <th>sum</th>\n",
       "      <th>max</th>\n",
       "      <th>min</th>\n",
       "    </tr>\n",
       "    <tr>\n",
       "      <th>timestamp</th>\n",
       "      <th></th>\n",
       "      <th></th>\n",
       "      <th></th>\n",
       "      <th></th>\n",
       "    </tr>\n",
       "  </thead>\n",
       "  <tbody>\n",
       "    <tr>\n",
       "      <th>2024-03-18 09:00:00</th>\n",
       "      <td>7.584183e+04</td>\n",
       "      <td>2275255</td>\n",
       "      <td>525448</td>\n",
       "      <td>8507</td>\n",
       "    </tr>\n",
       "    <tr>\n",
       "      <th>2024-03-18 09:30:00</th>\n",
       "      <td>3.310897e+04</td>\n",
       "      <td>993269</td>\n",
       "      <td>126522</td>\n",
       "      <td>2998</td>\n",
       "    </tr>\n",
       "    <tr>\n",
       "      <th>2024-03-18 10:00:00</th>\n",
       "      <td>2.007487e+04</td>\n",
       "      <td>602246</td>\n",
       "      <td>174837</td>\n",
       "      <td>5182</td>\n",
       "    </tr>\n",
       "    <tr>\n",
       "      <th>2024-03-18 10:30:00</th>\n",
       "      <td>1.877970e+04</td>\n",
       "      <td>563391</td>\n",
       "      <td>115167</td>\n",
       "      <td>5888</td>\n",
       "    </tr>\n",
       "    <tr>\n",
       "      <th>2024-03-18 11:00:00</th>\n",
       "      <td>1.882627e+04</td>\n",
       "      <td>564788</td>\n",
       "      <td>173217</td>\n",
       "      <td>7229</td>\n",
       "    </tr>\n",
       "    <tr>\n",
       "      <th>2024-03-18 11:30:00</th>\n",
       "      <td>2.316123e+04</td>\n",
       "      <td>694837</td>\n",
       "      <td>200569</td>\n",
       "      <td>3800</td>\n",
       "    </tr>\n",
       "    <tr>\n",
       "      <th>2024-03-18 12:00:00</th>\n",
       "      <td>1.758390e+04</td>\n",
       "      <td>527517</td>\n",
       "      <td>94444</td>\n",
       "      <td>4361</td>\n",
       "    </tr>\n",
       "    <tr>\n",
       "      <th>2024-03-18 12:30:00</th>\n",
       "      <td>1.102923e+04</td>\n",
       "      <td>330877</td>\n",
       "      <td>31191</td>\n",
       "      <td>7303</td>\n",
       "    </tr>\n",
       "    <tr>\n",
       "      <th>2024-03-18 13:00:00</th>\n",
       "      <td>3.020947e+04</td>\n",
       "      <td>906284</td>\n",
       "      <td>208784</td>\n",
       "      <td>3017</td>\n",
       "    </tr>\n",
       "    <tr>\n",
       "      <th>2024-03-18 13:30:00</th>\n",
       "      <td>1.899503e+04</td>\n",
       "      <td>569851</td>\n",
       "      <td>239885</td>\n",
       "      <td>4114</td>\n",
       "    </tr>\n",
       "    <tr>\n",
       "      <th>2024-03-18 14:00:00</th>\n",
       "      <td>2.915050e+04</td>\n",
       "      <td>874515</td>\n",
       "      <td>194193</td>\n",
       "      <td>5775</td>\n",
       "    </tr>\n",
       "    <tr>\n",
       "      <th>2024-03-18 14:30:00</th>\n",
       "      <td>3.282687e+04</td>\n",
       "      <td>984806</td>\n",
       "      <td>194493</td>\n",
       "      <td>8915</td>\n",
       "    </tr>\n",
       "    <tr>\n",
       "      <th>2024-03-18 15:00:00</th>\n",
       "      <td>2.013800e+04</td>\n",
       "      <td>604140</td>\n",
       "      <td>225983</td>\n",
       "      <td>0</td>\n",
       "    </tr>\n",
       "    <tr>\n",
       "      <th>2024-03-18 15:30:00</th>\n",
       "      <td>1.885496e+06</td>\n",
       "      <td>1885496</td>\n",
       "      <td>1885496</td>\n",
       "      <td>1885496</td>\n",
       "    </tr>\n",
       "  </tbody>\n",
       "</table>\n",
       "</div>"
      ],
      "text/plain": [
       "                             mean      sum      max      min\n",
       "timestamp                                                   \n",
       "2024-03-18 09:00:00  7.584183e+04  2275255   525448     8507\n",
       "2024-03-18 09:30:00  3.310897e+04   993269   126522     2998\n",
       "2024-03-18 10:00:00  2.007487e+04   602246   174837     5182\n",
       "2024-03-18 10:30:00  1.877970e+04   563391   115167     5888\n",
       "2024-03-18 11:00:00  1.882627e+04   564788   173217     7229\n",
       "2024-03-18 11:30:00  2.316123e+04   694837   200569     3800\n",
       "2024-03-18 12:00:00  1.758390e+04   527517    94444     4361\n",
       "2024-03-18 12:30:00  1.102923e+04   330877    31191     7303\n",
       "2024-03-18 13:00:00  3.020947e+04   906284   208784     3017\n",
       "2024-03-18 13:30:00  1.899503e+04   569851   239885     4114\n",
       "2024-03-18 14:00:00  2.915050e+04   874515   194193     5775\n",
       "2024-03-18 14:30:00  3.282687e+04   984806   194493     8915\n",
       "2024-03-18 15:00:00  2.013800e+04   604140   225983        0\n",
       "2024-03-18 15:30:00  1.885496e+06  1885496  1885496  1885496"
      ]
     },
     "execution_count": 59,
     "metadata": {},
     "output_type": "execute_result"
    }
   ],
   "source": [
    "# 1분봉 데이터의 volume에 대해 30분을 기준으로 평균, 합산, 최대, 최소 계산하기\n",
    "df[\"volume\"].resample(\"30min\").agg( [\"mean\", \"sum\", \"max\", \"min\"] )"
   ]
  },
  {
   "cell_type": "code",
   "execution_count": null,
   "metadata": {},
   "outputs": [],
   "source": []
  },
  {
   "cell_type": "code",
   "execution_count": 60,
   "metadata": {},
   "outputs": [
    {
     "data": {
      "application/vnd.microsoft.datawrangler.viewer.v0+json": {
       "columns": [
        {
         "name": "timestamp",
         "rawType": "datetime64[ns]",
         "type": "datetime"
        },
        {
         "name": "open",
         "rawType": "int64",
         "type": "integer"
        },
        {
         "name": "high",
         "rawType": "int64",
         "type": "integer"
        },
        {
         "name": "low",
         "rawType": "int64",
         "type": "integer"
        },
        {
         "name": "close",
         "rawType": "int64",
         "type": "integer"
        },
        {
         "name": "volume",
         "rawType": "int64",
         "type": "integer"
        }
       ],
       "conversionMethod": "pd.DataFrame",
       "ref": "992bd034-541a-431f-a2fe-405e4af5c393",
       "rows": [
        [
         "2024-03-18 09:00:00",
         "72600",
         "72700",
         "72500",
         "72700",
         "525448"
        ],
        [
         "2024-03-18 09:01:00",
         "72700",
         "72900",
         "72600",
         "72800",
         "243017"
        ],
        [
         "2024-03-18 09:02:00",
         "72800",
         "72800",
         "72700",
         "72800",
         "45015"
        ],
        [
         "2024-03-18 09:03:00",
         "72800",
         "72800",
         "72700",
         "72800",
         "48635"
        ],
        [
         "2024-03-18 09:04:00",
         "72700",
         "72800",
         "72600",
         "72600",
         "265091"
        ]
       ],
       "shape": {
        "columns": 5,
        "rows": 5
       }
      },
      "text/html": [
       "<div>\n",
       "<style scoped>\n",
       "    .dataframe tbody tr th:only-of-type {\n",
       "        vertical-align: middle;\n",
       "    }\n",
       "\n",
       "    .dataframe tbody tr th {\n",
       "        vertical-align: top;\n",
       "    }\n",
       "\n",
       "    .dataframe thead th {\n",
       "        text-align: right;\n",
       "    }\n",
       "</style>\n",
       "<table border=\"1\" class=\"dataframe\">\n",
       "  <thead>\n",
       "    <tr style=\"text-align: right;\">\n",
       "      <th></th>\n",
       "      <th>open</th>\n",
       "      <th>high</th>\n",
       "      <th>low</th>\n",
       "      <th>close</th>\n",
       "      <th>volume</th>\n",
       "    </tr>\n",
       "    <tr>\n",
       "      <th>timestamp</th>\n",
       "      <th></th>\n",
       "      <th></th>\n",
       "      <th></th>\n",
       "      <th></th>\n",
       "      <th></th>\n",
       "    </tr>\n",
       "  </thead>\n",
       "  <tbody>\n",
       "    <tr>\n",
       "      <th>2024-03-18 09:00:00</th>\n",
       "      <td>72600</td>\n",
       "      <td>72700</td>\n",
       "      <td>72500</td>\n",
       "      <td>72700</td>\n",
       "      <td>525448</td>\n",
       "    </tr>\n",
       "    <tr>\n",
       "      <th>2024-03-18 09:01:00</th>\n",
       "      <td>72700</td>\n",
       "      <td>72900</td>\n",
       "      <td>72600</td>\n",
       "      <td>72800</td>\n",
       "      <td>243017</td>\n",
       "    </tr>\n",
       "    <tr>\n",
       "      <th>2024-03-18 09:02:00</th>\n",
       "      <td>72800</td>\n",
       "      <td>72800</td>\n",
       "      <td>72700</td>\n",
       "      <td>72800</td>\n",
       "      <td>45015</td>\n",
       "    </tr>\n",
       "    <tr>\n",
       "      <th>2024-03-18 09:03:00</th>\n",
       "      <td>72800</td>\n",
       "      <td>72800</td>\n",
       "      <td>72700</td>\n",
       "      <td>72800</td>\n",
       "      <td>48635</td>\n",
       "    </tr>\n",
       "    <tr>\n",
       "      <th>2024-03-18 09:04:00</th>\n",
       "      <td>72700</td>\n",
       "      <td>72800</td>\n",
       "      <td>72600</td>\n",
       "      <td>72600</td>\n",
       "      <td>265091</td>\n",
       "    </tr>\n",
       "  </tbody>\n",
       "</table>\n",
       "</div>"
      ],
      "text/plain": [
       "                      open   high    low  close  volume\n",
       "timestamp                                              \n",
       "2024-03-18 09:00:00  72600  72700  72500  72700  525448\n",
       "2024-03-18 09:01:00  72700  72900  72600  72800  243017\n",
       "2024-03-18 09:02:00  72800  72800  72700  72800   45015\n",
       "2024-03-18 09:03:00  72800  72800  72700  72800   48635\n",
       "2024-03-18 09:04:00  72700  72800  72600  72600  265091"
      ]
     },
     "execution_count": 60,
     "metadata": {},
     "output_type": "execute_result"
    }
   ],
   "source": [
    "df.head()"
   ]
  },
  {
   "cell_type": "code",
   "execution_count": 61,
   "metadata": {},
   "outputs": [
    {
     "data": {
      "application/vnd.microsoft.datawrangler.viewer.v0+json": {
       "columns": [
        {
         "name": "index",
         "rawType": "int64",
         "type": "integer"
        },
        {
         "name": "timestamp",
         "rawType": "datetime64[ns]",
         "type": "datetime"
        },
        {
         "name": "open",
         "rawType": "int64",
         "type": "integer"
        },
        {
         "name": "high",
         "rawType": "int64",
         "type": "integer"
        },
        {
         "name": "low",
         "rawType": "int64",
         "type": "integer"
        },
        {
         "name": "close",
         "rawType": "int64",
         "type": "integer"
        },
        {
         "name": "volume",
         "rawType": "int64",
         "type": "integer"
        }
       ],
       "conversionMethod": "pd.DataFrame",
       "ref": "f70f9600-2925-46a3-9c71-629b94b41913",
       "rows": [
        [
         "0",
         "2024-03-18 09:00:00",
         "72600",
         "72900",
         "72500",
         "72600",
         "1127206"
        ],
        [
         "1",
         "2024-03-18 09:05:00",
         "72700",
         "72800",
         "72500",
         "72800",
         "414162"
        ],
        [
         "2",
         "2024-03-18 09:10:00",
         "72800",
         "72900",
         "72700",
         "72800",
         "275966"
        ],
        [
         "3",
         "2024-03-18 09:15:00",
         "72800",
         "72900",
         "72700",
         "72800",
         "130963"
        ],
        [
         "4",
         "2024-03-18 09:20:00",
         "72700",
         "72800",
         "72600",
         "72700",
         "213739"
        ],
        [
         "5",
         "2024-03-18 09:25:00",
         "72700",
         "72700",
         "72600",
         "72700",
         "113219"
        ],
        [
         "6",
         "2024-03-18 09:30:00",
         "72700",
         "72700",
         "72500",
         "72500",
         "188938"
        ],
        [
         "7",
         "2024-03-18 09:35:00",
         "72600",
         "72600",
         "72500",
         "72600",
         "140501"
        ],
        [
         "8",
         "2024-03-18 09:40:00",
         "72600",
         "72700",
         "72500",
         "72700",
         "224538"
        ],
        [
         "9",
         "2024-03-18 09:45:00",
         "72700",
         "72800",
         "72600",
         "72700",
         "244375"
        ],
        [
         "10",
         "2024-03-18 09:50:00",
         "72800",
         "72900",
         "72700",
         "72800",
         "160985"
        ],
        [
         "11",
         "2024-03-18 09:55:00",
         "72800",
         "72800",
         "72700",
         "72800",
         "33932"
        ],
        [
         "12",
         "2024-03-18 10:00:00",
         "72800",
         "72800",
         "72700",
         "72800",
         "53484"
        ],
        [
         "13",
         "2024-03-18 10:05:00",
         "72700",
         "72800",
         "72600",
         "72700",
         "234933"
        ],
        [
         "14",
         "2024-03-18 10:10:00",
         "72700",
         "72800",
         "72600",
         "72700",
         "59265"
        ],
        [
         "15",
         "2024-03-18 10:15:00",
         "72800",
         "72800",
         "72700",
         "72700",
         "44410"
        ],
        [
         "16",
         "2024-03-18 10:20:00",
         "72700",
         "72800",
         "72700",
         "72700",
         "54268"
        ],
        [
         "17",
         "2024-03-18 10:25:00",
         "72700",
         "72800",
         "72600",
         "72700",
         "155886"
        ],
        [
         "18",
         "2024-03-18 10:30:00",
         "72700",
         "72700",
         "72600",
         "72600",
         "63509"
        ],
        [
         "19",
         "2024-03-18 10:35:00",
         "72700",
         "72700",
         "72600",
         "72700",
         "56955"
        ],
        [
         "20",
         "2024-03-18 10:40:00",
         "72700",
         "72800",
         "72600",
         "72800",
         "192107"
        ],
        [
         "21",
         "2024-03-18 10:45:00",
         "72800",
         "72800",
         "72700",
         "72800",
         "41322"
        ],
        [
         "22",
         "2024-03-18 10:50:00",
         "72700",
         "72800",
         "72600",
         "72700",
         "146515"
        ],
        [
         "23",
         "2024-03-18 10:55:00",
         "72600",
         "72700",
         "72600",
         "72600",
         "62983"
        ],
        [
         "24",
         "2024-03-18 11:00:00",
         "72700",
         "72700",
         "72600",
         "72600",
         "84598"
        ],
        [
         "25",
         "2024-03-18 11:05:00",
         "72600",
         "72700",
         "72500",
         "72500",
         "233233"
        ],
        [
         "26",
         "2024-03-18 11:10:00",
         "72600",
         "72600",
         "72500",
         "72500",
         "65709"
        ],
        [
         "27",
         "2024-03-18 11:15:00",
         "72600",
         "72600",
         "72500",
         "72500",
         "44664"
        ],
        [
         "28",
         "2024-03-18 11:20:00",
         "72600",
         "72600",
         "72500",
         "72600",
         "70575"
        ],
        [
         "29",
         "2024-03-18 11:25:00",
         "72500",
         "72600",
         "72500",
         "72600",
         "66009"
        ],
        [
         "30",
         "2024-03-18 11:30:00",
         "72500",
         "72600",
         "72500",
         "72600",
         "56029"
        ],
        [
         "31",
         "2024-03-18 11:35:00",
         "72600",
         "72700",
         "72500",
         "72700",
         "209893"
        ],
        [
         "32",
         "2024-03-18 11:40:00",
         "72600",
         "72700",
         "72500",
         "72600",
         "253730"
        ],
        [
         "33",
         "2024-03-18 11:45:00",
         "72600",
         "72700",
         "72500",
         "72600",
         "89529"
        ],
        [
         "34",
         "2024-03-18 11:50:00",
         "72600",
         "72700",
         "72600",
         "72700",
         "37318"
        ],
        [
         "35",
         "2024-03-18 11:55:00",
         "72700",
         "72700",
         "72600",
         "72700",
         "48338"
        ],
        [
         "36",
         "2024-03-18 12:00:00",
         "72600",
         "72700",
         "72600",
         "72700",
         "105706"
        ],
        [
         "37",
         "2024-03-18 12:05:00",
         "72700",
         "72800",
         "72600",
         "72600",
         "100361"
        ],
        [
         "38",
         "2024-03-18 12:10:00",
         "72700",
         "72700",
         "72600",
         "72600",
         "42533"
        ],
        [
         "39",
         "2024-03-18 12:15:00",
         "72600",
         "72800",
         "72600",
         "72600",
         "194889"
        ],
        [
         "40",
         "2024-03-18 12:20:00",
         "72600",
         "72700",
         "72600",
         "72700",
         "39055"
        ],
        [
         "41",
         "2024-03-18 12:25:00",
         "72600",
         "72700",
         "72600",
         "72600",
         "44973"
        ],
        [
         "42",
         "2024-03-18 12:30:00",
         "72700",
         "72700",
         "72600",
         "72700",
         "52831"
        ],
        [
         "43",
         "2024-03-18 12:35:00",
         "72600",
         "72700",
         "72600",
         "72600",
         "78515"
        ],
        [
         "44",
         "2024-03-18 12:40:00",
         "72700",
         "72700",
         "72600",
         "72600",
         "58324"
        ],
        [
         "45",
         "2024-03-18 12:45:00",
         "72700",
         "72700",
         "72600",
         "72600",
         "43556"
        ],
        [
         "46",
         "2024-03-18 12:50:00",
         "72700",
         "72700",
         "72600",
         "72700",
         "50104"
        ],
        [
         "47",
         "2024-03-18 12:55:00",
         "72600",
         "72700",
         "72600",
         "72700",
         "47547"
        ],
        [
         "48",
         "2024-03-18 13:00:00",
         "72700",
         "72800",
         "72600",
         "72800",
         "231155"
        ],
        [
         "49",
         "2024-03-18 13:05:00",
         "72700",
         "72800",
         "72600",
         "72700",
         "166987"
        ]
       ],
       "shape": {
        "columns": 6,
        "rows": 79
       }
      },
      "text/html": [
       "<div>\n",
       "<style scoped>\n",
       "    .dataframe tbody tr th:only-of-type {\n",
       "        vertical-align: middle;\n",
       "    }\n",
       "\n",
       "    .dataframe tbody tr th {\n",
       "        vertical-align: top;\n",
       "    }\n",
       "\n",
       "    .dataframe thead th {\n",
       "        text-align: right;\n",
       "    }\n",
       "</style>\n",
       "<table border=\"1\" class=\"dataframe\">\n",
       "  <thead>\n",
       "    <tr style=\"text-align: right;\">\n",
       "      <th></th>\n",
       "      <th>timestamp</th>\n",
       "      <th>open</th>\n",
       "      <th>high</th>\n",
       "      <th>low</th>\n",
       "      <th>close</th>\n",
       "      <th>volume</th>\n",
       "    </tr>\n",
       "  </thead>\n",
       "  <tbody>\n",
       "    <tr>\n",
       "      <th>0</th>\n",
       "      <td>2024-03-18 09:00:00</td>\n",
       "      <td>72600</td>\n",
       "      <td>72900</td>\n",
       "      <td>72500</td>\n",
       "      <td>72600</td>\n",
       "      <td>1127206</td>\n",
       "    </tr>\n",
       "    <tr>\n",
       "      <th>1</th>\n",
       "      <td>2024-03-18 09:05:00</td>\n",
       "      <td>72700</td>\n",
       "      <td>72800</td>\n",
       "      <td>72500</td>\n",
       "      <td>72800</td>\n",
       "      <td>414162</td>\n",
       "    </tr>\n",
       "    <tr>\n",
       "      <th>2</th>\n",
       "      <td>2024-03-18 09:10:00</td>\n",
       "      <td>72800</td>\n",
       "      <td>72900</td>\n",
       "      <td>72700</td>\n",
       "      <td>72800</td>\n",
       "      <td>275966</td>\n",
       "    </tr>\n",
       "    <tr>\n",
       "      <th>3</th>\n",
       "      <td>2024-03-18 09:15:00</td>\n",
       "      <td>72800</td>\n",
       "      <td>72900</td>\n",
       "      <td>72700</td>\n",
       "      <td>72800</td>\n",
       "      <td>130963</td>\n",
       "    </tr>\n",
       "    <tr>\n",
       "      <th>4</th>\n",
       "      <td>2024-03-18 09:20:00</td>\n",
       "      <td>72700</td>\n",
       "      <td>72800</td>\n",
       "      <td>72600</td>\n",
       "      <td>72700</td>\n",
       "      <td>213739</td>\n",
       "    </tr>\n",
       "    <tr>\n",
       "      <th>...</th>\n",
       "      <td>...</td>\n",
       "      <td>...</td>\n",
       "      <td>...</td>\n",
       "      <td>...</td>\n",
       "      <td>...</td>\n",
       "      <td>...</td>\n",
       "    </tr>\n",
       "    <tr>\n",
       "      <th>74</th>\n",
       "      <td>2024-03-18 15:10:00</td>\n",
       "      <td>72900</td>\n",
       "      <td>72900</td>\n",
       "      <td>72800</td>\n",
       "      <td>72900</td>\n",
       "      <td>90424</td>\n",
       "    </tr>\n",
       "    <tr>\n",
       "      <th>75</th>\n",
       "      <td>2024-03-18 15:15:00</td>\n",
       "      <td>72900</td>\n",
       "      <td>72900</td>\n",
       "      <td>72800</td>\n",
       "      <td>72800</td>\n",
       "      <td>344190</td>\n",
       "    </tr>\n",
       "    <tr>\n",
       "      <th>76</th>\n",
       "      <td>2024-03-18 15:20:00</td>\n",
       "      <td>72800</td>\n",
       "      <td>72800</td>\n",
       "      <td>72800</td>\n",
       "      <td>72800</td>\n",
       "      <td>0</td>\n",
       "    </tr>\n",
       "    <tr>\n",
       "      <th>77</th>\n",
       "      <td>2024-03-18 15:25:00</td>\n",
       "      <td>72800</td>\n",
       "      <td>72800</td>\n",
       "      <td>72800</td>\n",
       "      <td>72800</td>\n",
       "      <td>0</td>\n",
       "    </tr>\n",
       "    <tr>\n",
       "      <th>78</th>\n",
       "      <td>2024-03-18 15:30:00</td>\n",
       "      <td>72800</td>\n",
       "      <td>72800</td>\n",
       "      <td>72800</td>\n",
       "      <td>72800</td>\n",
       "      <td>1885496</td>\n",
       "    </tr>\n",
       "  </tbody>\n",
       "</table>\n",
       "<p>79 rows × 6 columns</p>\n",
       "</div>"
      ],
      "text/plain": [
       "             timestamp   open   high    low  close   volume\n",
       "0  2024-03-18 09:00:00  72600  72900  72500  72600  1127206\n",
       "1  2024-03-18 09:05:00  72700  72800  72500  72800   414162\n",
       "2  2024-03-18 09:10:00  72800  72900  72700  72800   275966\n",
       "3  2024-03-18 09:15:00  72800  72900  72700  72800   130963\n",
       "4  2024-03-18 09:20:00  72700  72800  72600  72700   213739\n",
       "..                 ...    ...    ...    ...    ...      ...\n",
       "74 2024-03-18 15:10:00  72900  72900  72800  72900    90424\n",
       "75 2024-03-18 15:15:00  72900  72900  72800  72800   344190\n",
       "76 2024-03-18 15:20:00  72800  72800  72800  72800        0\n",
       "77 2024-03-18 15:25:00  72800  72800  72800  72800        0\n",
       "78 2024-03-18 15:30:00  72800  72800  72800  72800  1885496\n",
       "\n",
       "[79 rows x 6 columns]"
      ]
     },
     "execution_count": 61,
     "metadata": {},
     "output_type": "execute_result"
    }
   ],
   "source": [
    "# 1분봉 데이터를 5분봉으로 변환\n",
    "df.resample(\"5min\").agg({\n",
    "    \"open\":\"first\",\n",
    "    \"high\":\"max\",\n",
    "    \"low\":\"min\",\n",
    "    \"close\":\"last\",\n",
    "    \"volume\":\"sum\"\n",
    "}).reset_index()"
   ]
  },
  {
   "cell_type": "code",
   "execution_count": null,
   "metadata": {},
   "outputs": [],
   "source": []
  },
  {
   "cell_type": "code",
   "execution_count": 63,
   "metadata": {},
   "outputs": [
    {
     "data": {
      "application/vnd.microsoft.datawrangler.viewer.v0+json": {
       "columns": [
        {
         "name": "index",
         "rawType": "int64",
         "type": "integer"
        },
        {
         "name": "timestamp",
         "rawType": "datetime64[ns]",
         "type": "datetime"
        },
        {
         "name": "open",
         "rawType": "int64",
         "type": "integer"
        },
        {
         "name": "high",
         "rawType": "int64",
         "type": "integer"
        },
        {
         "name": "low",
         "rawType": "int64",
         "type": "integer"
        },
        {
         "name": "close",
         "rawType": "int64",
         "type": "integer"
        },
        {
         "name": "volume",
         "rawType": "int64",
         "type": "integer"
        }
       ],
       "conversionMethod": "pd.DataFrame",
       "ref": "77478b35-8f03-4cc5-a033-28609fbc48a5",
       "rows": [
        [
         "0",
         "2024-03-18 09:00:00",
         "72600",
         "72900",
         "72500",
         "72800",
         "3268524"
        ],
        [
         "1",
         "2024-03-18 10:00:00",
         "72800",
         "72800",
         "72600",
         "72600",
         "1165637"
        ],
        [
         "2",
         "2024-03-18 11:00:00",
         "72700",
         "72700",
         "72500",
         "72700",
         "1259625"
        ],
        [
         "3",
         "2024-03-18 12:00:00",
         "72600",
         "72800",
         "72600",
         "72700",
         "858394"
        ],
        [
         "4",
         "2024-03-18 13:00:00",
         "72700",
         "72900",
         "72600",
         "72700",
         "1476135"
        ],
        [
         "5",
         "2024-03-18 14:00:00",
         "72700",
         "73000",
         "72700",
         "72800",
         "1859321"
        ],
        [
         "6",
         "2024-03-18 15:00:00",
         "72900",
         "72900",
         "72800",
         "72800",
         "2489636"
        ]
       ],
       "shape": {
        "columns": 6,
        "rows": 7
       }
      },
      "text/html": [
       "<div>\n",
       "<style scoped>\n",
       "    .dataframe tbody tr th:only-of-type {\n",
       "        vertical-align: middle;\n",
       "    }\n",
       "\n",
       "    .dataframe tbody tr th {\n",
       "        vertical-align: top;\n",
       "    }\n",
       "\n",
       "    .dataframe thead th {\n",
       "        text-align: right;\n",
       "    }\n",
       "</style>\n",
       "<table border=\"1\" class=\"dataframe\">\n",
       "  <thead>\n",
       "    <tr style=\"text-align: right;\">\n",
       "      <th></th>\n",
       "      <th>timestamp</th>\n",
       "      <th>open</th>\n",
       "      <th>high</th>\n",
       "      <th>low</th>\n",
       "      <th>close</th>\n",
       "      <th>volume</th>\n",
       "    </tr>\n",
       "  </thead>\n",
       "  <tbody>\n",
       "    <tr>\n",
       "      <th>0</th>\n",
       "      <td>2024-03-18 09:00:00</td>\n",
       "      <td>72600</td>\n",
       "      <td>72900</td>\n",
       "      <td>72500</td>\n",
       "      <td>72800</td>\n",
       "      <td>3268524</td>\n",
       "    </tr>\n",
       "    <tr>\n",
       "      <th>1</th>\n",
       "      <td>2024-03-18 10:00:00</td>\n",
       "      <td>72800</td>\n",
       "      <td>72800</td>\n",
       "      <td>72600</td>\n",
       "      <td>72600</td>\n",
       "      <td>1165637</td>\n",
       "    </tr>\n",
       "    <tr>\n",
       "      <th>2</th>\n",
       "      <td>2024-03-18 11:00:00</td>\n",
       "      <td>72700</td>\n",
       "      <td>72700</td>\n",
       "      <td>72500</td>\n",
       "      <td>72700</td>\n",
       "      <td>1259625</td>\n",
       "    </tr>\n",
       "    <tr>\n",
       "      <th>3</th>\n",
       "      <td>2024-03-18 12:00:00</td>\n",
       "      <td>72600</td>\n",
       "      <td>72800</td>\n",
       "      <td>72600</td>\n",
       "      <td>72700</td>\n",
       "      <td>858394</td>\n",
       "    </tr>\n",
       "    <tr>\n",
       "      <th>4</th>\n",
       "      <td>2024-03-18 13:00:00</td>\n",
       "      <td>72700</td>\n",
       "      <td>72900</td>\n",
       "      <td>72600</td>\n",
       "      <td>72700</td>\n",
       "      <td>1476135</td>\n",
       "    </tr>\n",
       "    <tr>\n",
       "      <th>5</th>\n",
       "      <td>2024-03-18 14:00:00</td>\n",
       "      <td>72700</td>\n",
       "      <td>73000</td>\n",
       "      <td>72700</td>\n",
       "      <td>72800</td>\n",
       "      <td>1859321</td>\n",
       "    </tr>\n",
       "    <tr>\n",
       "      <th>6</th>\n",
       "      <td>2024-03-18 15:00:00</td>\n",
       "      <td>72900</td>\n",
       "      <td>72900</td>\n",
       "      <td>72800</td>\n",
       "      <td>72800</td>\n",
       "      <td>2489636</td>\n",
       "    </tr>\n",
       "  </tbody>\n",
       "</table>\n",
       "</div>"
      ],
      "text/plain": [
       "            timestamp   open   high    low  close   volume\n",
       "0 2024-03-18 09:00:00  72600  72900  72500  72800  3268524\n",
       "1 2024-03-18 10:00:00  72800  72800  72600  72600  1165637\n",
       "2 2024-03-18 11:00:00  72700  72700  72500  72700  1259625\n",
       "3 2024-03-18 12:00:00  72600  72800  72600  72700   858394\n",
       "4 2024-03-18 13:00:00  72700  72900  72600  72700  1476135\n",
       "5 2024-03-18 14:00:00  72700  73000  72700  72800  1859321\n",
       "6 2024-03-18 15:00:00  72900  72900  72800  72800  2489636"
      ]
     },
     "execution_count": 63,
     "metadata": {},
     "output_type": "execute_result"
    }
   ],
   "source": [
    "# 1분봉 데이터를 1시간 봉으로 변환\n",
    "df.resample(\"1h\").agg({\n",
    "    \"open\":\"first\",\n",
    "    \"high\":\"max\",\n",
    "    \"low\":\"min\",\n",
    "    \"close\":\"last\",\n",
    "    \"volume\":\"sum\"\n",
    "}).reset_index()"
   ]
  },
  {
   "cell_type": "code",
   "execution_count": null,
   "metadata": {},
   "outputs": [],
   "source": []
  },
  {
   "cell_type": "code",
   "execution_count": null,
   "metadata": {},
   "outputs": [],
   "source": []
  },
  {
   "cell_type": "code",
   "execution_count": null,
   "metadata": {},
   "outputs": [],
   "source": []
  }
 ],
 "metadata": {
  "kernelspec": {
   "display_name": "Python 3",
   "language": "python",
   "name": "python3"
  },
  "language_info": {
   "codemirror_mode": {
    "name": "ipython",
    "version": 3
   },
   "file_extension": ".py",
   "mimetype": "text/x-python",
   "name": "python",
   "nbconvert_exporter": "python",
   "pygments_lexer": "ipython3",
   "version": "3.12.3"
  }
 },
 "nbformat": 4,
 "nbformat_minor": 4
}
