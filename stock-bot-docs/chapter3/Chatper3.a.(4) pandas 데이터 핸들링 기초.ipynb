{
 "cells": [
  {
   "cell_type": "markdown",
   "metadata": {},
   "source": [
    "# 6. `lambda` 사용하기\n",
    "## 1) Python `lambda` 개념 및 사용방법\n",
    "- 파이썬에서 람다(lambda) 함수는 def 키워드 없이 정의될 수 있는 함수이며 간단한 연산을 수행하는 경우 유용합니다.\n",
    "\n",
    "\n",
    "- 람다 함수의 기본 구문은 다음과 같습니다:\n",
    "```python\n",
    "    lambda arguments: expression\n",
    "```\n",
    "- 여기서 `arguments`는 함수에 전달될 매개변수를 나타내며, `expression`은 함수의 반환값을 결정하는 표현식입니다."
   ]
  },
  {
   "cell_type": "code",
   "execution_count": 2,
   "metadata": {},
   "outputs": [
    {
     "name": "stdout",
     "output_type": "stream",
     "text": [
      "8\n"
     ]
    }
   ],
   "source": [
    "# 간단한 덧셈 함수:\n",
    "add = lambda x, y: x + y\n",
    "print(add(5, 3))  "
   ]
  },
  {
   "cell_type": "code",
   "execution_count": 3,
   "metadata": {},
   "outputs": [
    {
     "name": "stdout",
     "output_type": "stream",
     "text": [
      "[(3, 1), (1, 2), (5, 4)]\n"
     ]
    }
   ],
   "source": [
    "# 리스트 정렬 시 키 함수로 사용\n",
    "points = [(1, 2), (3, 1), (5, 4)]\n",
    "points.sort(key=lambda point: point[1])\n",
    "print(points)  "
   ]
  },
  {
   "cell_type": "code",
   "execution_count": 4,
   "metadata": {},
   "outputs": [
    {
     "name": "stdout",
     "output_type": "stream",
     "text": [
      "[1, 4, 9, 16, 25]\n"
     ]
    }
   ],
   "source": [
    "# `map()` 함수와 함께 사용하여 각 요소에 연산 적용\n",
    "nums = [1, 2, 3, 4, 5]\n",
    "squared = map(lambda x: x ** 2, nums)\n",
    "print(list(squared)) "
   ]
  },
  {
   "cell_type": "code",
   "execution_count": 5,
   "metadata": {},
   "outputs": [
    {
     "name": "stdout",
     "output_type": "stream",
     "text": [
      "[2, 4, 6, 8]\n"
     ]
    }
   ],
   "source": [
    "# `filter()` 함수와 함께 사용하여 조건을 만족하는 요소 필터링\n",
    "nums = [1, 2, 3, 4, 5, 6, 7, 8, 9]\n",
    "evens = filter(lambda x: x % 2 == 0, nums)\n",
    "print(list(evens))"
   ]
  },
  {
   "cell_type": "code",
   "execution_count": null,
   "metadata": {},
   "outputs": [],
   "source": []
  },
  {
   "cell_type": "markdown",
   "metadata": {},
   "source": [
    "## 2) Pandas에서 `lambda` 사용하기\n",
    "- Pandas에서 `lambda` 함수는 간단한 함수를 만드는 데 사용되며, 일반적으로 `.apply()`, `.map()`, `.filter()`와 같은 Pandas 메서드와 함께 사용됩니다."
   ]
  },
  {
   "cell_type": "code",
   "execution_count": 1,
   "metadata": {},
   "outputs": [
    {
     "data": {
      "application/vnd.microsoft.datawrangler.viewer.v0+json": {
       "columns": [
        {
         "name": "index",
         "rawType": "int64",
         "type": "integer"
        },
        {
         "name": "A",
         "rawType": "int64",
         "type": "integer"
        },
        {
         "name": "B",
         "rawType": "int64",
         "type": "integer"
        }
       ],
       "conversionMethod": "pd.DataFrame",
       "ref": "ea695b9a-96b1-44fd-92d0-ca10ebf17432",
       "rows": [
        [
         "0",
         "1",
         "423"
        ],
        [
         "1",
         "2",
         "225"
        ],
        [
         "2",
         "3",
         "61112"
        ]
       ],
       "shape": {
        "columns": 2,
        "rows": 3
       }
      },
      "text/html": [
       "<div>\n",
       "<style scoped>\n",
       "    .dataframe tbody tr th:only-of-type {\n",
       "        vertical-align: middle;\n",
       "    }\n",
       "\n",
       "    .dataframe tbody tr th {\n",
       "        vertical-align: top;\n",
       "    }\n",
       "\n",
       "    .dataframe thead th {\n",
       "        text-align: right;\n",
       "    }\n",
       "</style>\n",
       "<table border=\"1\" class=\"dataframe\">\n",
       "  <thead>\n",
       "    <tr style=\"text-align: right;\">\n",
       "      <th></th>\n",
       "      <th>A</th>\n",
       "      <th>B</th>\n",
       "    </tr>\n",
       "  </thead>\n",
       "  <tbody>\n",
       "    <tr>\n",
       "      <th>0</th>\n",
       "      <td>1</td>\n",
       "      <td>423</td>\n",
       "    </tr>\n",
       "    <tr>\n",
       "      <th>1</th>\n",
       "      <td>2</td>\n",
       "      <td>225</td>\n",
       "    </tr>\n",
       "    <tr>\n",
       "      <th>2</th>\n",
       "      <td>3</td>\n",
       "      <td>61112</td>\n",
       "    </tr>\n",
       "  </tbody>\n",
       "</table>\n",
       "</div>"
      ],
      "text/plain": [
       "   A      B\n",
       "0  1    423\n",
       "1  2    225\n",
       "2  3  61112"
      ]
     },
     "execution_count": 1,
     "metadata": {},
     "output_type": "execute_result"
    }
   ],
   "source": [
    "import pandas as pd\n",
    "\n",
    "df = pd.DataFrame({'A': [1, 2, 3], 'B': [423, 225, 61112]})\n",
    "df"
   ]
  },
  {
   "cell_type": "markdown",
   "metadata": {},
   "source": [
    "- `.apply()`로 특정 컬럼에 적용하기"
   ]
  },
  {
   "cell_type": "code",
   "execution_count": 7,
   "metadata": {},
   "outputs": [
    {
     "data": {
      "application/vnd.microsoft.datawrangler.viewer.v0+json": {
       "columns": [
        {
         "name": "index",
         "rawType": "int64",
         "type": "integer"
        },
        {
         "name": "A",
         "rawType": "int64",
         "type": "integer"
        },
        {
         "name": "B",
         "rawType": "int64",
         "type": "integer"
        }
       ],
       "conversionMethod": "pd.DataFrame",
       "ref": "3d2775eb-8a71-4d92-be5e-887471f4d44a",
       "rows": [
        [
         "0",
         "11",
         "4"
        ],
        [
         "1",
         "12",
         "5"
        ],
        [
         "2",
         "13",
         "6"
        ]
       ],
       "shape": {
        "columns": 2,
        "rows": 3
       }
      },
      "text/html": [
       "<div>\n",
       "<style scoped>\n",
       "    .dataframe tbody tr th:only-of-type {\n",
       "        vertical-align: middle;\n",
       "    }\n",
       "\n",
       "    .dataframe tbody tr th {\n",
       "        vertical-align: top;\n",
       "    }\n",
       "\n",
       "    .dataframe thead th {\n",
       "        text-align: right;\n",
       "    }\n",
       "</style>\n",
       "<table border=\"1\" class=\"dataframe\">\n",
       "  <thead>\n",
       "    <tr style=\"text-align: right;\">\n",
       "      <th></th>\n",
       "      <th>A</th>\n",
       "      <th>B</th>\n",
       "    </tr>\n",
       "  </thead>\n",
       "  <tbody>\n",
       "    <tr>\n",
       "      <th>0</th>\n",
       "      <td>11</td>\n",
       "      <td>4</td>\n",
       "    </tr>\n",
       "    <tr>\n",
       "      <th>1</th>\n",
       "      <td>12</td>\n",
       "      <td>5</td>\n",
       "    </tr>\n",
       "    <tr>\n",
       "      <th>2</th>\n",
       "      <td>13</td>\n",
       "      <td>6</td>\n",
       "    </tr>\n",
       "  </tbody>\n",
       "</table>\n",
       "</div>"
      ],
      "text/plain": [
       "    A  B\n",
       "0  11  4\n",
       "1  12  5\n",
       "2  13  6"
      ]
     },
     "execution_count": 7,
     "metadata": {},
     "output_type": "execute_result"
    }
   ],
   "source": [
    "# 열 'A'의 각 값에 10을 더하기\n",
    "df[\"A\"] = df[\"A\"].apply(lambda x: x + 10)\n",
    "df"
   ]
  },
  {
   "cell_type": "markdown",
   "metadata": {},
   "source": [
    "- 조건에 따른 새로운 컬럼 생성하기"
   ]
  },
  {
   "cell_type": "code",
   "execution_count": 8,
   "metadata": {},
   "outputs": [],
   "source": [
    "df['C'] = df['A'].apply(lambda x: 'large' if x > 11 else 'small')"
   ]
  },
  {
   "cell_type": "markdown",
   "metadata": {},
   "source": [
    "- DataFrame의 여러 컬럼에 함수 적용하기\n",
    "    - `apply()` 메서드에 `axis=1`을 설정하고 `lambda` 함수를 사용"
   ]
  },
  {
   "cell_type": "code",
   "execution_count": 12,
   "metadata": {},
   "outputs": [
    {
     "data": {
      "application/vnd.microsoft.datawrangler.viewer.v0+json": {
       "columns": [
        {
         "name": "index",
         "rawType": "int64",
         "type": "integer"
        },
        {
         "name": "A",
         "rawType": "int64",
         "type": "integer"
        },
        {
         "name": "B",
         "rawType": "int64",
         "type": "integer"
        },
        {
         "name": "C",
         "rawType": "object",
         "type": "string"
        },
        {
         "name": "sum",
         "rawType": "int64",
         "type": "integer"
        }
       ],
       "conversionMethod": "pd.DataFrame",
       "ref": "089d40ed-5dfb-45a7-b6e0-41a80a6a1698",
       "rows": [
        [
         "0",
         "11",
         "4",
         "small",
         "15"
        ],
        [
         "1",
         "12",
         "5",
         "large",
         "17"
        ],
        [
         "2",
         "13",
         "6",
         "large",
         "19"
        ]
       ],
       "shape": {
        "columns": 4,
        "rows": 3
       }
      },
      "text/html": [
       "<div>\n",
       "<style scoped>\n",
       "    .dataframe tbody tr th:only-of-type {\n",
       "        vertical-align: middle;\n",
       "    }\n",
       "\n",
       "    .dataframe tbody tr th {\n",
       "        vertical-align: top;\n",
       "    }\n",
       "\n",
       "    .dataframe thead th {\n",
       "        text-align: right;\n",
       "    }\n",
       "</style>\n",
       "<table border=\"1\" class=\"dataframe\">\n",
       "  <thead>\n",
       "    <tr style=\"text-align: right;\">\n",
       "      <th></th>\n",
       "      <th>A</th>\n",
       "      <th>B</th>\n",
       "      <th>C</th>\n",
       "      <th>sum</th>\n",
       "    </tr>\n",
       "  </thead>\n",
       "  <tbody>\n",
       "    <tr>\n",
       "      <th>0</th>\n",
       "      <td>11</td>\n",
       "      <td>4</td>\n",
       "      <td>small</td>\n",
       "      <td>15</td>\n",
       "    </tr>\n",
       "    <tr>\n",
       "      <th>1</th>\n",
       "      <td>12</td>\n",
       "      <td>5</td>\n",
       "      <td>large</td>\n",
       "      <td>17</td>\n",
       "    </tr>\n",
       "    <tr>\n",
       "      <th>2</th>\n",
       "      <td>13</td>\n",
       "      <td>6</td>\n",
       "      <td>large</td>\n",
       "      <td>19</td>\n",
       "    </tr>\n",
       "  </tbody>\n",
       "</table>\n",
       "</div>"
      ],
      "text/plain": [
       "    A  B      C  sum\n",
       "0  11  4  small   15\n",
       "1  12  5  large   17\n",
       "2  13  6  large   19"
      ]
     },
     "execution_count": 12,
     "metadata": {},
     "output_type": "execute_result"
    }
   ],
   "source": [
    "# axis가 1이면 행, axis가 0이면 열\n",
    "df['sum'] = df.apply(lambda row: row['A'] + row['B'], axis=1)\n",
    "df"
   ]
  },
  {
   "cell_type": "markdown",
   "metadata": {},
   "source": [
    "- Series에서 특정 조건을 만족하는 요소 필터링하기\n",
    "    - `filter()` 함수를 사용하여 조건을 만족하는 요소만을 포함하는 Series를 생성할 수 있습니다."
   ]
  },
  {
   "cell_type": "code",
   "execution_count": 14,
   "metadata": {},
   "outputs": [],
   "source": [
    "s = pd.Series([1, 2, 3, 4, 5])\n",
    "filtered_s = s[s.apply(lambda x: x > 2)]"
   ]
  },
  {
   "cell_type": "code",
   "execution_count": 15,
   "metadata": {},
   "outputs": [
    {
     "data": {
      "text/plain": [
       "0    False\n",
       "1    False\n",
       "2     True\n",
       "3     True\n",
       "4     True\n",
       "dtype: bool"
      ]
     },
     "execution_count": 15,
     "metadata": {},
     "output_type": "execute_result"
    }
   ],
   "source": [
    "s.apply(lambda x: x>2)"
   ]
  },
  {
   "cell_type": "markdown",
   "metadata": {},
   "source": [
    "- `lambda` 또는 `python 함수`를 사용해서 가격변동률을 계산하기"
   ]
  },
  {
   "cell_type": "code",
   "execution_count": 9,
   "metadata": {},
   "outputs": [
    {
     "data": {
      "application/vnd.microsoft.datawrangler.viewer.v0+json": {
       "columns": [
        {
         "name": "index",
         "rawType": "int64",
         "type": "integer"
        },
        {
         "name": "Date",
         "rawType": "object",
         "type": "string"
        },
        {
         "name": "Open",
         "rawType": "float64",
         "type": "float"
        },
        {
         "name": "High",
         "rawType": "float64",
         "type": "float"
        },
        {
         "name": "Low",
         "rawType": "float64",
         "type": "float"
        },
        {
         "name": "Close",
         "rawType": "float64",
         "type": "float"
        },
        {
         "name": "Adj Close",
         "rawType": "float64",
         "type": "float"
        },
        {
         "name": "Volume",
         "rawType": "int64",
         "type": "integer"
        }
       ],
       "conversionMethod": "pd.DataFrame",
       "ref": "fd0636c3-fcc9-421c-a575-6c2c4fcb29f8",
       "rows": [
        [
         "0",
         "2023-07-19",
         "193.1000061035156",
         "198.22999572753903",
         "192.6499938964844",
         "195.1000061035156",
         "194.06935119628903",
         "80507300"
        ],
        [
         "1",
         "2023-07-20",
         "195.08999633789065",
         "196.47000122070312",
         "192.5",
         "193.1300048828125",
         "192.10975646972656",
         "59581200"
        ],
        [
         "2",
         "2023-07-21",
         "194.1000061035156",
         "194.97000122070312",
         "191.22999572753903",
         "191.94000244140625",
         "190.9260406494141",
         "71917800"
        ]
       ],
       "shape": {
        "columns": 7,
        "rows": 3
       }
      },
      "text/html": [
       "<div>\n",
       "<style scoped>\n",
       "    .dataframe tbody tr th:only-of-type {\n",
       "        vertical-align: middle;\n",
       "    }\n",
       "\n",
       "    .dataframe tbody tr th {\n",
       "        vertical-align: top;\n",
       "    }\n",
       "\n",
       "    .dataframe thead th {\n",
       "        text-align: right;\n",
       "    }\n",
       "</style>\n",
       "<table border=\"1\" class=\"dataframe\">\n",
       "  <thead>\n",
       "    <tr style=\"text-align: right;\">\n",
       "      <th></th>\n",
       "      <th>Date</th>\n",
       "      <th>Open</th>\n",
       "      <th>High</th>\n",
       "      <th>Low</th>\n",
       "      <th>Close</th>\n",
       "      <th>Adj Close</th>\n",
       "      <th>Volume</th>\n",
       "    </tr>\n",
       "  </thead>\n",
       "  <tbody>\n",
       "    <tr>\n",
       "      <th>0</th>\n",
       "      <td>2023-07-19</td>\n",
       "      <td>193.100006</td>\n",
       "      <td>198.229996</td>\n",
       "      <td>192.649994</td>\n",
       "      <td>195.100006</td>\n",
       "      <td>194.069351</td>\n",
       "      <td>80507300</td>\n",
       "    </tr>\n",
       "    <tr>\n",
       "      <th>1</th>\n",
       "      <td>2023-07-20</td>\n",
       "      <td>195.089996</td>\n",
       "      <td>196.470001</td>\n",
       "      <td>192.500000</td>\n",
       "      <td>193.130005</td>\n",
       "      <td>192.109756</td>\n",
       "      <td>59581200</td>\n",
       "    </tr>\n",
       "    <tr>\n",
       "      <th>2</th>\n",
       "      <td>2023-07-21</td>\n",
       "      <td>194.100006</td>\n",
       "      <td>194.970001</td>\n",
       "      <td>191.229996</td>\n",
       "      <td>191.940002</td>\n",
       "      <td>190.926041</td>\n",
       "      <td>71917800</td>\n",
       "    </tr>\n",
       "  </tbody>\n",
       "</table>\n",
       "</div>"
      ],
      "text/plain": [
       "         Date        Open        High         Low       Close   Adj Close  \\\n",
       "0  2023-07-19  193.100006  198.229996  192.649994  195.100006  194.069351   \n",
       "1  2023-07-20  195.089996  196.470001  192.500000  193.130005  192.109756   \n",
       "2  2023-07-21  194.100006  194.970001  191.229996  191.940002  190.926041   \n",
       "\n",
       "     Volume  \n",
       "0  80507300  \n",
       "1  59581200  \n",
       "2  71917800  "
      ]
     },
     "execution_count": 9,
     "metadata": {},
     "output_type": "execute_result"
    }
   ],
   "source": [
    "import pandas as pd\n",
    "data = pd.read_csv(\"../dataset/yfinance_aapl.csv\", index_col=0)\n",
    "data.head(3)"
   ]
  },
  {
   "cell_type": "code",
   "execution_count": 11,
   "metadata": {},
   "outputs": [
    {
     "data": {
      "application/vnd.microsoft.datawrangler.viewer.v0+json": {
       "columns": [
        {
         "name": "index",
         "rawType": "int64",
         "type": "integer"
        },
        {
         "name": "Date",
         "rawType": "object",
         "type": "string"
        },
        {
         "name": "Open",
         "rawType": "float64",
         "type": "float"
        },
        {
         "name": "High",
         "rawType": "float64",
         "type": "float"
        },
        {
         "name": "Low",
         "rawType": "float64",
         "type": "float"
        },
        {
         "name": "Close",
         "rawType": "float64",
         "type": "float"
        },
        {
         "name": "Adj Close",
         "rawType": "float64",
         "type": "float"
        },
        {
         "name": "Volume",
         "rawType": "int64",
         "type": "integer"
        },
        {
         "name": "PriceChangePercent",
         "rawType": "float64",
         "type": "float"
        }
       ],
       "conversionMethod": "pd.DataFrame",
       "ref": "9ce9ea82-d213-46f3-83f0-092d0c980a53",
       "rows": [
        [
         "0",
         "2023-07-19",
         "193.1000061035156",
         "198.22999572753903",
         "192.6499938964844",
         "195.1000061035156",
         "194.06935119628903",
         "80507300",
         "1.0357327482050183"
        ],
        [
         "1",
         "2023-07-20",
         "195.08999633789065",
         "196.47000122070312",
         "192.5",
         "193.1300048828125",
         "192.10975646972656",
         "59581200",
         "-1.0046601526833292"
        ],
        [
         "2",
         "2023-07-21",
         "194.1000061035156",
         "194.97000122070312",
         "191.22999572753903",
         "191.94000244140625",
         "190.9260406494141",
         "71917800",
         "-1.112830290668509"
        ],
        [
         "3",
         "2023-07-24",
         "193.41000366210935",
         "194.91000366210935",
         "192.25",
         "192.75",
         "191.7317657470703",
         "45377800",
         "-0.3412458764348014"
        ],
        [
         "4",
         "2023-07-25",
         "193.3300018310547",
         "194.44000244140625",
         "192.9199981689453",
         "193.6199951171875",
         "192.5971527099609",
         "37283200",
         "0.14999911208102557"
        ]
       ],
       "shape": {
        "columns": 8,
        "rows": 5
       }
      },
      "text/html": [
       "<div>\n",
       "<style scoped>\n",
       "    .dataframe tbody tr th:only-of-type {\n",
       "        vertical-align: middle;\n",
       "    }\n",
       "\n",
       "    .dataframe tbody tr th {\n",
       "        vertical-align: top;\n",
       "    }\n",
       "\n",
       "    .dataframe thead th {\n",
       "        text-align: right;\n",
       "    }\n",
       "</style>\n",
       "<table border=\"1\" class=\"dataframe\">\n",
       "  <thead>\n",
       "    <tr style=\"text-align: right;\">\n",
       "      <th></th>\n",
       "      <th>Date</th>\n",
       "      <th>Open</th>\n",
       "      <th>High</th>\n",
       "      <th>Low</th>\n",
       "      <th>Close</th>\n",
       "      <th>Adj Close</th>\n",
       "      <th>Volume</th>\n",
       "      <th>PriceChangePercent</th>\n",
       "    </tr>\n",
       "  </thead>\n",
       "  <tbody>\n",
       "    <tr>\n",
       "      <th>0</th>\n",
       "      <td>2023-07-19</td>\n",
       "      <td>193.100006</td>\n",
       "      <td>198.229996</td>\n",
       "      <td>192.649994</td>\n",
       "      <td>195.100006</td>\n",
       "      <td>194.069351</td>\n",
       "      <td>80507300</td>\n",
       "      <td>1.035733</td>\n",
       "    </tr>\n",
       "    <tr>\n",
       "      <th>1</th>\n",
       "      <td>2023-07-20</td>\n",
       "      <td>195.089996</td>\n",
       "      <td>196.470001</td>\n",
       "      <td>192.500000</td>\n",
       "      <td>193.130005</td>\n",
       "      <td>192.109756</td>\n",
       "      <td>59581200</td>\n",
       "      <td>-1.004660</td>\n",
       "    </tr>\n",
       "    <tr>\n",
       "      <th>2</th>\n",
       "      <td>2023-07-21</td>\n",
       "      <td>194.100006</td>\n",
       "      <td>194.970001</td>\n",
       "      <td>191.229996</td>\n",
       "      <td>191.940002</td>\n",
       "      <td>190.926041</td>\n",
       "      <td>71917800</td>\n",
       "      <td>-1.112830</td>\n",
       "    </tr>\n",
       "    <tr>\n",
       "      <th>3</th>\n",
       "      <td>2023-07-24</td>\n",
       "      <td>193.410004</td>\n",
       "      <td>194.910004</td>\n",
       "      <td>192.250000</td>\n",
       "      <td>192.750000</td>\n",
       "      <td>191.731766</td>\n",
       "      <td>45377800</td>\n",
       "      <td>-0.341246</td>\n",
       "    </tr>\n",
       "    <tr>\n",
       "      <th>4</th>\n",
       "      <td>2023-07-25</td>\n",
       "      <td>193.330002</td>\n",
       "      <td>194.440002</td>\n",
       "      <td>192.919998</td>\n",
       "      <td>193.619995</td>\n",
       "      <td>192.597153</td>\n",
       "      <td>37283200</td>\n",
       "      <td>0.149999</td>\n",
       "    </tr>\n",
       "  </tbody>\n",
       "</table>\n",
       "</div>"
      ],
      "text/plain": [
       "         Date        Open        High         Low       Close   Adj Close  \\\n",
       "0  2023-07-19  193.100006  198.229996  192.649994  195.100006  194.069351   \n",
       "1  2023-07-20  195.089996  196.470001  192.500000  193.130005  192.109756   \n",
       "2  2023-07-21  194.100006  194.970001  191.229996  191.940002  190.926041   \n",
       "3  2023-07-24  193.410004  194.910004  192.250000  192.750000  191.731766   \n",
       "4  2023-07-25  193.330002  194.440002  192.919998  193.619995  192.597153   \n",
       "\n",
       "     Volume  PriceChangePercent  \n",
       "0  80507300            1.035733  \n",
       "1  59581200           -1.004660  \n",
       "2  71917800           -1.112830  \n",
       "3  45377800           -0.341246  \n",
       "4  37283200            0.149999  "
      ]
     },
     "execution_count": 11,
     "metadata": {},
     "output_type": "execute_result"
    }
   ],
   "source": [
    "data['PriceChangePercent'] = data.apply(lambda row: ((row['Close'] - row['Open']) / row['Open']) * 100, axis=1)\n",
    "data.head()"
   ]
  },
  {
   "cell_type": "code",
   "execution_count": 12,
   "metadata": {},
   "outputs": [
    {
     "data": {
      "application/vnd.microsoft.datawrangler.viewer.v0+json": {
       "columns": [
        {
         "name": "index",
         "rawType": "int64",
         "type": "integer"
        },
        {
         "name": "Date",
         "rawType": "object",
         "type": "string"
        },
        {
         "name": "Open",
         "rawType": "float64",
         "type": "float"
        },
        {
         "name": "High",
         "rawType": "float64",
         "type": "float"
        },
        {
         "name": "Low",
         "rawType": "float64",
         "type": "float"
        },
        {
         "name": "Close",
         "rawType": "float64",
         "type": "float"
        },
        {
         "name": "Adj Close",
         "rawType": "float64",
         "type": "float"
        },
        {
         "name": "Volume",
         "rawType": "int64",
         "type": "integer"
        }
       ],
       "conversionMethod": "pd.DataFrame",
       "ref": "c67543bd-651d-4d2a-9729-32345dc568c1",
       "rows": [
        [
         "0",
         "2023-07-19",
         "193.1000061035156",
         "198.22999572753903",
         "192.6499938964844",
         "195.1000061035156",
         "194.06935119628903",
         "80507300"
        ],
        [
         "1",
         "2023-07-20",
         "195.08999633789065",
         "196.47000122070312",
         "192.5",
         "193.1300048828125",
         "192.10975646972656",
         "59581200"
        ],
        [
         "2",
         "2023-07-21",
         "194.1000061035156",
         "194.97000122070312",
         "191.22999572753903",
         "191.94000244140625",
         "190.9260406494141",
         "71917800"
        ]
       ],
       "shape": {
        "columns": 7,
        "rows": 3
       }
      },
      "text/html": [
       "<div>\n",
       "<style scoped>\n",
       "    .dataframe tbody tr th:only-of-type {\n",
       "        vertical-align: middle;\n",
       "    }\n",
       "\n",
       "    .dataframe tbody tr th {\n",
       "        vertical-align: top;\n",
       "    }\n",
       "\n",
       "    .dataframe thead th {\n",
       "        text-align: right;\n",
       "    }\n",
       "</style>\n",
       "<table border=\"1\" class=\"dataframe\">\n",
       "  <thead>\n",
       "    <tr style=\"text-align: right;\">\n",
       "      <th></th>\n",
       "      <th>Date</th>\n",
       "      <th>Open</th>\n",
       "      <th>High</th>\n",
       "      <th>Low</th>\n",
       "      <th>Close</th>\n",
       "      <th>Adj Close</th>\n",
       "      <th>Volume</th>\n",
       "    </tr>\n",
       "  </thead>\n",
       "  <tbody>\n",
       "    <tr>\n",
       "      <th>0</th>\n",
       "      <td>2023-07-19</td>\n",
       "      <td>193.100006</td>\n",
       "      <td>198.229996</td>\n",
       "      <td>192.649994</td>\n",
       "      <td>195.100006</td>\n",
       "      <td>194.069351</td>\n",
       "      <td>80507300</td>\n",
       "    </tr>\n",
       "    <tr>\n",
       "      <th>1</th>\n",
       "      <td>2023-07-20</td>\n",
       "      <td>195.089996</td>\n",
       "      <td>196.470001</td>\n",
       "      <td>192.500000</td>\n",
       "      <td>193.130005</td>\n",
       "      <td>192.109756</td>\n",
       "      <td>59581200</td>\n",
       "    </tr>\n",
       "    <tr>\n",
       "      <th>2</th>\n",
       "      <td>2023-07-21</td>\n",
       "      <td>194.100006</td>\n",
       "      <td>194.970001</td>\n",
       "      <td>191.229996</td>\n",
       "      <td>191.940002</td>\n",
       "      <td>190.926041</td>\n",
       "      <td>71917800</td>\n",
       "    </tr>\n",
       "  </tbody>\n",
       "</table>\n",
       "</div>"
      ],
      "text/plain": [
       "         Date        Open        High         Low       Close   Adj Close  \\\n",
       "0  2023-07-19  193.100006  198.229996  192.649994  195.100006  194.069351   \n",
       "1  2023-07-20  195.089996  196.470001  192.500000  193.130005  192.109756   \n",
       "2  2023-07-21  194.100006  194.970001  191.229996  191.940002  190.926041   \n",
       "\n",
       "     Volume  \n",
       "0  80507300  \n",
       "1  59581200  \n",
       "2  71917800  "
      ]
     },
     "execution_count": 12,
     "metadata": {},
     "output_type": "execute_result"
    }
   ],
   "source": [
    "import pandas as pd\n",
    "data = pd.read_csv(\"../dataset/yfinance_aapl.csv\", index_col=0)\n",
    "data.head(3)"
   ]
  },
  {
   "cell_type": "code",
   "execution_count": 13,
   "metadata": {},
   "outputs": [],
   "source": [
    "def calculate_price_change_percent(row):\n",
    "    return ((row['Close'] - row['Open']) / row['Open']) * 100"
   ]
  },
  {
   "cell_type": "code",
   "execution_count": 14,
   "metadata": {},
   "outputs": [
    {
     "data": {
      "text/plain": [
       "0    1.035733\n",
       "1   -1.004660\n",
       "2   -1.112830\n",
       "3   -0.341246\n",
       "4    0.149999\n",
       "Name: PriceChangePercent, dtype: float64"
      ]
     },
     "execution_count": 14,
     "metadata": {},
     "output_type": "execute_result"
    }
   ],
   "source": [
    "data['PriceChangePercent'] = data.apply(calculate_price_change_percent, axis=1)\n",
    "data['PriceChangePercent'].head()"
   ]
  },
  {
   "cell_type": "code",
   "execution_count": null,
   "metadata": {},
   "outputs": [],
   "source": []
  },
  {
   "cell_type": "code",
   "execution_count": null,
   "metadata": {},
   "outputs": [],
   "source": []
  },
  {
   "cell_type": "markdown",
   "metadata": {},
   "source": [
    "# 7. 기타 중요한 pandas 기능들"
   ]
  },
  {
   "cell_type": "markdown",
   "metadata": {},
   "source": [
    "## 1) `reset_index()`\n",
    "- `reset_index()` 함수는 Dataframe의 index를 기본 정수 index로 재설정할 때 사용합니다."
   ]
  },
  {
   "cell_type": "code",
   "execution_count": 15,
   "metadata": {},
   "outputs": [
    {
     "data": {
      "application/vnd.microsoft.datawrangler.viewer.v0+json": {
       "columns": [
        {
         "name": "index",
         "rawType": "int64",
         "type": "integer"
        },
        {
         "name": "Date",
         "rawType": "object",
         "type": "string"
        },
        {
         "name": "Open",
         "rawType": "float64",
         "type": "float"
        },
        {
         "name": "High",
         "rawType": "float64",
         "type": "float"
        },
        {
         "name": "Low",
         "rawType": "float64",
         "type": "float"
        },
        {
         "name": "Close",
         "rawType": "float64",
         "type": "float"
        },
        {
         "name": "Adj Close",
         "rawType": "float64",
         "type": "float"
        },
        {
         "name": "Volume",
         "rawType": "int64",
         "type": "integer"
        }
       ],
       "conversionMethod": "pd.DataFrame",
       "ref": "da4fbbc7-0c71-479e-9f89-3941f0a5b04d",
       "rows": [
        [
         "0",
         "2023-07-19",
         "193.1000061035156",
         "198.22999572753903",
         "192.6499938964844",
         "195.1000061035156",
         "194.06935119628903",
         "80507300"
        ],
        [
         "1",
         "2023-07-20",
         "195.08999633789065",
         "196.47000122070312",
         "192.5",
         "193.1300048828125",
         "192.10975646972656",
         "59581200"
        ],
        [
         "2",
         "2023-07-21",
         "194.1000061035156",
         "194.97000122070312",
         "191.22999572753903",
         "191.94000244140625",
         "190.9260406494141",
         "71917800"
        ]
       ],
       "shape": {
        "columns": 7,
        "rows": 3
       }
      },
      "text/html": [
       "<div>\n",
       "<style scoped>\n",
       "    .dataframe tbody tr th:only-of-type {\n",
       "        vertical-align: middle;\n",
       "    }\n",
       "\n",
       "    .dataframe tbody tr th {\n",
       "        vertical-align: top;\n",
       "    }\n",
       "\n",
       "    .dataframe thead th {\n",
       "        text-align: right;\n",
       "    }\n",
       "</style>\n",
       "<table border=\"1\" class=\"dataframe\">\n",
       "  <thead>\n",
       "    <tr style=\"text-align: right;\">\n",
       "      <th></th>\n",
       "      <th>Date</th>\n",
       "      <th>Open</th>\n",
       "      <th>High</th>\n",
       "      <th>Low</th>\n",
       "      <th>Close</th>\n",
       "      <th>Adj Close</th>\n",
       "      <th>Volume</th>\n",
       "    </tr>\n",
       "  </thead>\n",
       "  <tbody>\n",
       "    <tr>\n",
       "      <th>0</th>\n",
       "      <td>2023-07-19</td>\n",
       "      <td>193.100006</td>\n",
       "      <td>198.229996</td>\n",
       "      <td>192.649994</td>\n",
       "      <td>195.100006</td>\n",
       "      <td>194.069351</td>\n",
       "      <td>80507300</td>\n",
       "    </tr>\n",
       "    <tr>\n",
       "      <th>1</th>\n",
       "      <td>2023-07-20</td>\n",
       "      <td>195.089996</td>\n",
       "      <td>196.470001</td>\n",
       "      <td>192.500000</td>\n",
       "      <td>193.130005</td>\n",
       "      <td>192.109756</td>\n",
       "      <td>59581200</td>\n",
       "    </tr>\n",
       "    <tr>\n",
       "      <th>2</th>\n",
       "      <td>2023-07-21</td>\n",
       "      <td>194.100006</td>\n",
       "      <td>194.970001</td>\n",
       "      <td>191.229996</td>\n",
       "      <td>191.940002</td>\n",
       "      <td>190.926041</td>\n",
       "      <td>71917800</td>\n",
       "    </tr>\n",
       "  </tbody>\n",
       "</table>\n",
       "</div>"
      ],
      "text/plain": [
       "         Date        Open        High         Low       Close   Adj Close  \\\n",
       "0  2023-07-19  193.100006  198.229996  192.649994  195.100006  194.069351   \n",
       "1  2023-07-20  195.089996  196.470001  192.500000  193.130005  192.109756   \n",
       "2  2023-07-21  194.100006  194.970001  191.229996  191.940002  190.926041   \n",
       "\n",
       "     Volume  \n",
       "0  80507300  \n",
       "1  59581200  \n",
       "2  71917800  "
      ]
     },
     "execution_count": 15,
     "metadata": {},
     "output_type": "execute_result"
    }
   ],
   "source": [
    "import pandas as pd\n",
    "\n",
    "df = pd.read_csv(\"../dataset/yfinance_aapl.csv\", index_col=0)\n",
    "df.head(3)\n"
   ]
  },
  {
   "cell_type": "code",
   "execution_count": 20,
   "metadata": {},
   "outputs": [
    {
     "data": {
      "application/vnd.microsoft.datawrangler.viewer.v0+json": {
       "columns": [
        {
         "name": "Date",
         "rawType": "object",
         "type": "string"
        },
        {
         "name": "Open",
         "rawType": "float64",
         "type": "float"
        },
        {
         "name": "High",
         "rawType": "float64",
         "type": "float"
        },
        {
         "name": "Low",
         "rawType": "float64",
         "type": "float"
        },
        {
         "name": "Close",
         "rawType": "float64",
         "type": "float"
        },
        {
         "name": "Adj Close",
         "rawType": "float64",
         "type": "float"
        },
        {
         "name": "Volume",
         "rawType": "int64",
         "type": "integer"
        }
       ],
       "conversionMethod": "pd.DataFrame",
       "ref": "8251eed2-4355-4636-b9db-be8ef59d9c88",
       "rows": [
        [
         "2023-07-19",
         "193.1000061035156",
         "198.22999572753903",
         "192.6499938964844",
         "195.1000061035156",
         "194.06935119628903",
         "80507300"
        ],
        [
         "2023-07-20",
         "195.08999633789065",
         "196.47000122070312",
         "192.5",
         "193.1300048828125",
         "192.10975646972656",
         "59581200"
        ],
        [
         "2023-07-21",
         "194.1000061035156",
         "194.97000122070312",
         "191.22999572753903",
         "191.94000244140625",
         "190.9260406494141",
         "71917800"
        ]
       ],
       "shape": {
        "columns": 6,
        "rows": 3
       }
      },
      "text/html": [
       "<div>\n",
       "<style scoped>\n",
       "    .dataframe tbody tr th:only-of-type {\n",
       "        vertical-align: middle;\n",
       "    }\n",
       "\n",
       "    .dataframe tbody tr th {\n",
       "        vertical-align: top;\n",
       "    }\n",
       "\n",
       "    .dataframe thead th {\n",
       "        text-align: right;\n",
       "    }\n",
       "</style>\n",
       "<table border=\"1\" class=\"dataframe\">\n",
       "  <thead>\n",
       "    <tr style=\"text-align: right;\">\n",
       "      <th></th>\n",
       "      <th>Open</th>\n",
       "      <th>High</th>\n",
       "      <th>Low</th>\n",
       "      <th>Close</th>\n",
       "      <th>Adj Close</th>\n",
       "      <th>Volume</th>\n",
       "    </tr>\n",
       "    <tr>\n",
       "      <th>Date</th>\n",
       "      <th></th>\n",
       "      <th></th>\n",
       "      <th></th>\n",
       "      <th></th>\n",
       "      <th></th>\n",
       "      <th></th>\n",
       "    </tr>\n",
       "  </thead>\n",
       "  <tbody>\n",
       "    <tr>\n",
       "      <th>2023-07-19</th>\n",
       "      <td>193.100006</td>\n",
       "      <td>198.229996</td>\n",
       "      <td>192.649994</td>\n",
       "      <td>195.100006</td>\n",
       "      <td>194.069351</td>\n",
       "      <td>80507300</td>\n",
       "    </tr>\n",
       "    <tr>\n",
       "      <th>2023-07-20</th>\n",
       "      <td>195.089996</td>\n",
       "      <td>196.470001</td>\n",
       "      <td>192.500000</td>\n",
       "      <td>193.130005</td>\n",
       "      <td>192.109756</td>\n",
       "      <td>59581200</td>\n",
       "    </tr>\n",
       "    <tr>\n",
       "      <th>2023-07-21</th>\n",
       "      <td>194.100006</td>\n",
       "      <td>194.970001</td>\n",
       "      <td>191.229996</td>\n",
       "      <td>191.940002</td>\n",
       "      <td>190.926041</td>\n",
       "      <td>71917800</td>\n",
       "    </tr>\n",
       "  </tbody>\n",
       "</table>\n",
       "</div>"
      ],
      "text/plain": [
       "                  Open        High         Low       Close   Adj Close  \\\n",
       "Date                                                                     \n",
       "2023-07-19  193.100006  198.229996  192.649994  195.100006  194.069351   \n",
       "2023-07-20  195.089996  196.470001  192.500000  193.130005  192.109756   \n",
       "2023-07-21  194.100006  194.970001  191.229996  191.940002  190.926041   \n",
       "\n",
       "              Volume  \n",
       "Date                  \n",
       "2023-07-19  80507300  \n",
       "2023-07-20  59581200  \n",
       "2023-07-21  71917800  "
      ]
     },
     "execution_count": 20,
     "metadata": {},
     "output_type": "execute_result"
    }
   ],
   "source": [
    "df = df.set_index('Date')\n",
    "\n",
    "df.head(3)"
   ]
  },
  {
   "cell_type": "code",
   "execution_count": 21,
   "metadata": {},
   "outputs": [
    {
     "data": {
      "application/vnd.microsoft.datawrangler.viewer.v0+json": {
       "columns": [
        {
         "name": "index",
         "rawType": "int64",
         "type": "integer"
        },
        {
         "name": "Date",
         "rawType": "object",
         "type": "string"
        },
        {
         "name": "Open",
         "rawType": "float64",
         "type": "float"
        },
        {
         "name": "High",
         "rawType": "float64",
         "type": "float"
        },
        {
         "name": "Low",
         "rawType": "float64",
         "type": "float"
        },
        {
         "name": "Close",
         "rawType": "float64",
         "type": "float"
        },
        {
         "name": "Adj Close",
         "rawType": "float64",
         "type": "float"
        },
        {
         "name": "Volume",
         "rawType": "int64",
         "type": "integer"
        }
       ],
       "conversionMethod": "pd.DataFrame",
       "ref": "bf4e5e64-1fb3-4a82-8778-f52b6e611a7b",
       "rows": [
        [
         "0",
         "2023-07-19",
         "193.1000061035156",
         "198.22999572753903",
         "192.6499938964844",
         "195.1000061035156",
         "194.06935119628903",
         "80507300"
        ],
        [
         "1",
         "2023-07-20",
         "195.08999633789065",
         "196.47000122070312",
         "192.5",
         "193.1300048828125",
         "192.10975646972656",
         "59581200"
        ],
        [
         "2",
         "2023-07-21",
         "194.1000061035156",
         "194.97000122070312",
         "191.22999572753903",
         "191.94000244140625",
         "190.9260406494141",
         "71917800"
        ],
        [
         "3",
         "2023-07-24",
         "193.41000366210935",
         "194.91000366210935",
         "192.25",
         "192.75",
         "191.7317657470703",
         "45377800"
        ],
        [
         "4",
         "2023-07-25",
         "193.3300018310547",
         "194.44000244140625",
         "192.9199981689453",
         "193.6199951171875",
         "192.5971527099609",
         "37283200"
        ]
       ],
       "shape": {
        "columns": 7,
        "rows": 5
       }
      },
      "text/html": [
       "<div>\n",
       "<style scoped>\n",
       "    .dataframe tbody tr th:only-of-type {\n",
       "        vertical-align: middle;\n",
       "    }\n",
       "\n",
       "    .dataframe tbody tr th {\n",
       "        vertical-align: top;\n",
       "    }\n",
       "\n",
       "    .dataframe thead th {\n",
       "        text-align: right;\n",
       "    }\n",
       "</style>\n",
       "<table border=\"1\" class=\"dataframe\">\n",
       "  <thead>\n",
       "    <tr style=\"text-align: right;\">\n",
       "      <th></th>\n",
       "      <th>Date</th>\n",
       "      <th>Open</th>\n",
       "      <th>High</th>\n",
       "      <th>Low</th>\n",
       "      <th>Close</th>\n",
       "      <th>Adj Close</th>\n",
       "      <th>Volume</th>\n",
       "    </tr>\n",
       "  </thead>\n",
       "  <tbody>\n",
       "    <tr>\n",
       "      <th>0</th>\n",
       "      <td>2023-07-19</td>\n",
       "      <td>193.100006</td>\n",
       "      <td>198.229996</td>\n",
       "      <td>192.649994</td>\n",
       "      <td>195.100006</td>\n",
       "      <td>194.069351</td>\n",
       "      <td>80507300</td>\n",
       "    </tr>\n",
       "    <tr>\n",
       "      <th>1</th>\n",
       "      <td>2023-07-20</td>\n",
       "      <td>195.089996</td>\n",
       "      <td>196.470001</td>\n",
       "      <td>192.500000</td>\n",
       "      <td>193.130005</td>\n",
       "      <td>192.109756</td>\n",
       "      <td>59581200</td>\n",
       "    </tr>\n",
       "    <tr>\n",
       "      <th>2</th>\n",
       "      <td>2023-07-21</td>\n",
       "      <td>194.100006</td>\n",
       "      <td>194.970001</td>\n",
       "      <td>191.229996</td>\n",
       "      <td>191.940002</td>\n",
       "      <td>190.926041</td>\n",
       "      <td>71917800</td>\n",
       "    </tr>\n",
       "    <tr>\n",
       "      <th>3</th>\n",
       "      <td>2023-07-24</td>\n",
       "      <td>193.410004</td>\n",
       "      <td>194.910004</td>\n",
       "      <td>192.250000</td>\n",
       "      <td>192.750000</td>\n",
       "      <td>191.731766</td>\n",
       "      <td>45377800</td>\n",
       "    </tr>\n",
       "    <tr>\n",
       "      <th>4</th>\n",
       "      <td>2023-07-25</td>\n",
       "      <td>193.330002</td>\n",
       "      <td>194.440002</td>\n",
       "      <td>192.919998</td>\n",
       "      <td>193.619995</td>\n",
       "      <td>192.597153</td>\n",
       "      <td>37283200</td>\n",
       "    </tr>\n",
       "  </tbody>\n",
       "</table>\n",
       "</div>"
      ],
      "text/plain": [
       "         Date        Open        High         Low       Close   Adj Close  \\\n",
       "0  2023-07-19  193.100006  198.229996  192.649994  195.100006  194.069351   \n",
       "1  2023-07-20  195.089996  196.470001  192.500000  193.130005  192.109756   \n",
       "2  2023-07-21  194.100006  194.970001  191.229996  191.940002  190.926041   \n",
       "3  2023-07-24  193.410004  194.910004  192.250000  192.750000  191.731766   \n",
       "4  2023-07-25  193.330002  194.440002  192.919998  193.619995  192.597153   \n",
       "\n",
       "     Volume  \n",
       "0  80507300  \n",
       "1  59581200  \n",
       "2  71917800  \n",
       "3  45377800  \n",
       "4  37283200  "
      ]
     },
     "execution_count": 21,
     "metadata": {},
     "output_type": "execute_result"
    }
   ],
   "source": [
    "# reset_index()로 정수 index로 치환\n",
    "# 이때 기존의 index은 새로운 열로 추가됨\n",
    "df = df.reset_index()\n",
    "df.head()"
   ]
  },
  {
   "cell_type": "code",
   "execution_count": 22,
   "metadata": {},
   "outputs": [
    {
     "data": {
      "application/vnd.microsoft.datawrangler.viewer.v0+json": {
       "columns": [
        {
         "name": "index",
         "rawType": "int64",
         "type": "integer"
        },
        {
         "name": "index",
         "rawType": "int64",
         "type": "integer"
        },
        {
         "name": "Date",
         "rawType": "object",
         "type": "string"
        },
        {
         "name": "Open",
         "rawType": "float64",
         "type": "float"
        },
        {
         "name": "High",
         "rawType": "float64",
         "type": "float"
        },
        {
         "name": "Low",
         "rawType": "float64",
         "type": "float"
        },
        {
         "name": "Close",
         "rawType": "float64",
         "type": "float"
        },
        {
         "name": "Adj Close",
         "rawType": "float64",
         "type": "float"
        },
        {
         "name": "Volume",
         "rawType": "int64",
         "type": "integer"
        }
       ],
       "conversionMethod": "pd.DataFrame",
       "ref": "aa4555db-d95b-4805-a90a-719726efc6ee",
       "rows": [
        [
         "0",
         "0",
         "2023-07-19",
         "193.1000061035156",
         "198.22999572753903",
         "192.6499938964844",
         "195.1000061035156",
         "194.06935119628903",
         "80507300"
        ],
        [
         "1",
         "3",
         "2023-07-24",
         "193.41000366210935",
         "194.91000366210935",
         "192.25",
         "192.75",
         "191.7317657470703",
         "45377800"
        ],
        [
         "2",
         "4",
         "2023-07-25",
         "193.3300018310547",
         "194.44000244140625",
         "192.9199981689453",
         "193.6199951171875",
         "192.5971527099609",
         "37283200"
        ],
        [
         "3",
         "5",
         "2023-07-26",
         "193.6699981689453",
         "195.63999938964844",
         "193.32000732421875",
         "194.5",
         "193.47251892089844",
         "47471900"
        ],
        [
         "4",
         "6",
         "2023-07-27",
         "196.0200042724609",
         "197.1999969482422",
         "192.5500030517578",
         "193.22000122070312",
         "192.19927978515625",
         "47460200"
        ],
        [
         "5",
         "7",
         "2023-07-28",
         "194.6699981689453",
         "196.6300048828125",
         "194.13999938964844",
         "195.8300018310547",
         "194.7954864501953",
         "48291400"
        ],
        [
         "6",
         "8",
         "2023-07-31",
         "196.05999755859372",
         "196.4900054931641",
         "195.25999450683597",
         "196.4499969482422",
         "195.4122009277344",
         "38824100"
        ],
        [
         "7",
         "9",
         "2023-08-01",
         "196.2400054931641",
         "196.72999572753903",
         "195.27999877929688",
         "195.6100006103516",
         "194.5766448974609",
         "35175100"
        ],
        [
         "8",
         "10",
         "2023-08-02",
         "195.0399932861328",
         "195.17999267578125",
         "191.8500061035156",
         "192.5800018310547",
         "191.56265258789065",
         "50389300"
        ],
        [
         "9",
         "11",
         "2023-08-03",
         "191.57000732421875",
         "192.3699951171875",
         "190.69000244140625",
         "191.1699981689453",
         "190.16009521484372",
         "61235200"
        ],
        [
         "10",
         "12",
         "2023-08-04",
         "185.5200042724609",
         "187.3800048828125",
         "181.9199981689453",
         "181.9900054931641",
         "181.0286102294922",
         "115799700"
        ],
        [
         "11",
         "13",
         "2023-08-07",
         "182.1300048828125",
         "183.1300048828125",
         "177.35000610351562",
         "178.85000610351562",
         "177.90518188476562",
         "97576100"
        ],
        [
         "12",
         "14",
         "2023-08-08",
         "179.69000244140625",
         "180.2700042724609",
         "177.5800018310547",
         "179.8000030517578",
         "178.85015869140625",
         "67823000"
        ],
        [
         "13",
         "15",
         "2023-08-09",
         "180.8699951171875",
         "180.92999267578125",
         "177.00999450683594",
         "178.19000244140625",
         "177.24867248535156",
         "60378500"
        ],
        [
         "14",
         "16",
         "2023-08-10",
         "179.47999572753906",
         "180.75",
         "177.60000610351562",
         "177.97000122070312",
         "177.0298309326172",
         "54686900"
        ],
        [
         "15",
         "17",
         "2023-08-11",
         "177.32000732421875",
         "178.6199951171875",
         "176.5500030517578",
         "177.7899932861328",
         "177.089599609375",
         "51988100"
        ],
        [
         "16",
         "18",
         "2023-08-14",
         "177.97000122070312",
         "179.69000244140625",
         "177.30999755859375",
         "179.4600067138672",
         "178.75303649902344",
         "43675600"
        ],
        [
         "17",
         "19",
         "2023-08-15",
         "178.8800048828125",
         "179.47999572753906",
         "177.0500030517578",
         "177.4499969482422",
         "176.75094604492188",
         "43622600"
        ],
        [
         "18",
         "20",
         "2023-08-16",
         "177.1300048828125",
         "178.5399932861328",
         "176.5",
         "176.57000732421875",
         "175.87442016601562",
         "46964900"
        ],
        [
         "19",
         "21",
         "2023-08-17",
         "177.13999938964844",
         "177.50999450683594",
         "173.47999572753906",
         "174.0",
         "173.3145294189453",
         "66062900"
        ],
        [
         "20",
         "22",
         "2023-08-18",
         "172.3000030517578",
         "175.10000610351562",
         "171.9600067138672",
         "174.49000549316406",
         "173.8026123046875",
         "61114200"
        ],
        [
         "21",
         "23",
         "2023-08-21",
         "175.07000732421875",
         "176.1300048828125",
         "173.74000549316406",
         "175.83999633789062",
         "175.14727783203125",
         "46311900"
        ],
        [
         "22",
         "24",
         "2023-08-22",
         "177.05999755859375",
         "177.67999267578125",
         "176.25",
         "177.22999572753906",
         "176.53179931640625",
         "42084200"
        ],
        [
         "23",
         "25",
         "2023-08-23",
         "178.52000427246094",
         "181.5500030517578",
         "178.3300018310547",
         "181.1199951171875",
         "180.40647888183597",
         "52722800"
        ],
        [
         "24",
         "26",
         "2023-08-24",
         "180.6699981689453",
         "181.1000061035156",
         "176.00999450683594",
         "176.3800048828125",
         "175.68515014648438",
         "54945800"
        ],
        [
         "25",
         "27",
         "2023-08-25",
         "177.3800048828125",
         "179.14999389648438",
         "175.82000732421875",
         "178.61000061035156",
         "177.9063720703125",
         "51449600"
        ],
        [
         "26",
         "28",
         "2023-08-28",
         "180.08999633789062",
         "180.58999633789065",
         "178.5500030517578",
         "180.19000244140625",
         "179.48016357421875",
         "43820700"
        ],
        [
         "27",
         "29",
         "2023-08-29",
         "179.6999969482422",
         "184.8999938964844",
         "179.5",
         "184.1199951171875",
         "183.3946533203125",
         "53003900"
        ],
        [
         "28",
         "30",
         "2023-08-30",
         "184.94000244140625",
         "187.8500061035156",
         "184.7400054931641",
         "187.6499938964844",
         "186.91075134277344",
         "60813900"
        ],
        [
         "29",
         "31",
         "2023-08-31",
         "187.83999633789065",
         "189.1199951171875",
         "187.47999572753903",
         "187.8699951171875",
         "187.12989807128903",
         "60794500"
        ],
        [
         "30",
         "32",
         "2023-09-01",
         "189.4900054931641",
         "189.9199981689453",
         "188.27999877929688",
         "189.4600067138672",
         "188.71365356445312",
         "45732600"
        ],
        [
         "31",
         "33",
         "2023-09-05",
         "188.27999877929688",
         "189.97999572753903",
         "187.6100006103516",
         "189.6999969482422",
         "188.95269775390625",
         "45280000"
        ],
        [
         "32",
         "34",
         "2023-09-06",
         "188.3999938964844",
         "188.8500061035156",
         "181.47000122070312",
         "182.91000366210935",
         "182.1894378662109",
         "81755800"
        ],
        [
         "33",
         "35",
         "2023-09-07",
         "175.17999267578125",
         "178.2100067138672",
         "173.5399932861328",
         "177.55999755859375",
         "176.8605194091797",
         "112488800"
        ],
        [
         "34",
         "36",
         "2023-09-08",
         "178.35000610351562",
         "180.2400054931641",
         "177.7899932861328",
         "178.17999267578125",
         "177.47805786132812",
         "65551300"
        ],
        [
         "35",
         "37",
         "2023-09-11",
         "180.07000732421875",
         "180.3000030517578",
         "177.33999633789062",
         "179.36000061035156",
         "178.65341186523438",
         "58953100"
        ],
        [
         "36",
         "38",
         "2023-09-12",
         "179.49000549316406",
         "180.1300048828125",
         "174.82000732421875",
         "176.3000030517578",
         "175.60548400878906",
         "90370200"
        ],
        [
         "37",
         "39",
         "2023-09-13",
         "176.50999450683594",
         "177.3000030517578",
         "173.97999572753906",
         "174.2100067138672",
         "173.52371215820312",
         "84267900"
        ],
        [
         "38",
         "40",
         "2023-09-14",
         "174.0",
         "176.10000610351562",
         "173.5800018310547",
         "175.74000549316406",
         "175.0476837158203",
         "60895800"
        ],
        [
         "39",
         "41",
         "2023-09-15",
         "176.47999572753906",
         "176.5",
         "173.82000732421875",
         "175.00999450683594",
         "174.32054138183594",
         "109205100"
        ],
        [
         "40",
         "42",
         "2023-09-18",
         "176.47999572753906",
         "179.3800048828125",
         "176.1699981689453",
         "177.97000122070312",
         "177.26889038085938",
         "67257600"
        ],
        [
         "41",
         "43",
         "2023-09-19",
         "177.52000427246094",
         "179.6300048828125",
         "177.1300048828125",
         "179.07000732421875",
         "178.36456298828125",
         "51826900"
        ],
        [
         "42",
         "44",
         "2023-09-20",
         "179.25999450683594",
         "179.6999969482422",
         "175.39999389648438",
         "175.49000549316406",
         "174.7986602783203",
         "58436200"
        ],
        [
         "43",
         "45",
         "2023-09-21",
         "174.5500030517578",
         "176.3000030517578",
         "173.86000061035156",
         "173.92999267578125",
         "173.24481201171875",
         "63047900"
        ],
        [
         "44",
         "46",
         "2023-09-22",
         "174.6699981689453",
         "177.0800018310547",
         "174.0500030517578",
         "174.7899932861328",
         "174.10140991210938",
         "56725400"
        ],
        [
         "45",
         "47",
         "2023-09-25",
         "174.1999969482422",
         "176.97000122070312",
         "174.14999389648438",
         "176.0800018310547",
         "175.38633728027344",
         "46172700"
        ],
        [
         "46",
         "48",
         "2023-09-26",
         "174.82000732421875",
         "175.1999969482422",
         "171.66000366210938",
         "171.9600067138672",
         "171.28256225585938",
         "64588900"
        ],
        [
         "47",
         "49",
         "2023-09-27",
         "172.6199951171875",
         "173.0399932861328",
         "169.0500030517578",
         "170.42999267578125",
         "169.7585906982422",
         "66921800"
        ],
        [
         "48",
         "50",
         "2023-09-28",
         "169.33999633789062",
         "172.02999877929688",
         "167.6199951171875",
         "170.69000244140625",
         "170.017578125",
         "56294400"
        ],
        [
         "49",
         "51",
         "2023-09-29",
         "172.02000427246094",
         "173.07000732421875",
         "170.33999633789062",
         "171.2100067138672",
         "170.53553771972656",
         "51814200"
        ]
       ],
       "shape": {
        "columns": 8,
        "rows": 250
       }
      },
      "text/html": [
       "<div>\n",
       "<style scoped>\n",
       "    .dataframe tbody tr th:only-of-type {\n",
       "        vertical-align: middle;\n",
       "    }\n",
       "\n",
       "    .dataframe tbody tr th {\n",
       "        vertical-align: top;\n",
       "    }\n",
       "\n",
       "    .dataframe thead th {\n",
       "        text-align: right;\n",
       "    }\n",
       "</style>\n",
       "<table border=\"1\" class=\"dataframe\">\n",
       "  <thead>\n",
       "    <tr style=\"text-align: right;\">\n",
       "      <th></th>\n",
       "      <th>index</th>\n",
       "      <th>Date</th>\n",
       "      <th>Open</th>\n",
       "      <th>High</th>\n",
       "      <th>Low</th>\n",
       "      <th>Close</th>\n",
       "      <th>Adj Close</th>\n",
       "      <th>Volume</th>\n",
       "    </tr>\n",
       "  </thead>\n",
       "  <tbody>\n",
       "    <tr>\n",
       "      <th>0</th>\n",
       "      <td>0</td>\n",
       "      <td>2023-07-19</td>\n",
       "      <td>193.100006</td>\n",
       "      <td>198.229996</td>\n",
       "      <td>192.649994</td>\n",
       "      <td>195.100006</td>\n",
       "      <td>194.069351</td>\n",
       "      <td>80507300</td>\n",
       "    </tr>\n",
       "    <tr>\n",
       "      <th>1</th>\n",
       "      <td>3</td>\n",
       "      <td>2023-07-24</td>\n",
       "      <td>193.410004</td>\n",
       "      <td>194.910004</td>\n",
       "      <td>192.250000</td>\n",
       "      <td>192.750000</td>\n",
       "      <td>191.731766</td>\n",
       "      <td>45377800</td>\n",
       "    </tr>\n",
       "    <tr>\n",
       "      <th>2</th>\n",
       "      <td>4</td>\n",
       "      <td>2023-07-25</td>\n",
       "      <td>193.330002</td>\n",
       "      <td>194.440002</td>\n",
       "      <td>192.919998</td>\n",
       "      <td>193.619995</td>\n",
       "      <td>192.597153</td>\n",
       "      <td>37283200</td>\n",
       "    </tr>\n",
       "    <tr>\n",
       "      <th>3</th>\n",
       "      <td>5</td>\n",
       "      <td>2023-07-26</td>\n",
       "      <td>193.669998</td>\n",
       "      <td>195.639999</td>\n",
       "      <td>193.320007</td>\n",
       "      <td>194.500000</td>\n",
       "      <td>193.472519</td>\n",
       "      <td>47471900</td>\n",
       "    </tr>\n",
       "    <tr>\n",
       "      <th>4</th>\n",
       "      <td>6</td>\n",
       "      <td>2023-07-27</td>\n",
       "      <td>196.020004</td>\n",
       "      <td>197.199997</td>\n",
       "      <td>192.550003</td>\n",
       "      <td>193.220001</td>\n",
       "      <td>192.199280</td>\n",
       "      <td>47460200</td>\n",
       "    </tr>\n",
       "    <tr>\n",
       "      <th>...</th>\n",
       "      <td>...</td>\n",
       "      <td>...</td>\n",
       "      <td>...</td>\n",
       "      <td>...</td>\n",
       "      <td>...</td>\n",
       "      <td>...</td>\n",
       "      <td>...</td>\n",
       "      <td>...</td>\n",
       "    </tr>\n",
       "    <tr>\n",
       "      <th>245</th>\n",
       "      <td>247</td>\n",
       "      <td>2024-07-12</td>\n",
       "      <td>228.919998</td>\n",
       "      <td>232.639999</td>\n",
       "      <td>228.679993</td>\n",
       "      <td>230.539993</td>\n",
       "      <td>230.539993</td>\n",
       "      <td>53008200</td>\n",
       "    </tr>\n",
       "    <tr>\n",
       "      <th>246</th>\n",
       "      <td>248</td>\n",
       "      <td>2024-07-15</td>\n",
       "      <td>236.479996</td>\n",
       "      <td>237.229996</td>\n",
       "      <td>233.089996</td>\n",
       "      <td>234.399994</td>\n",
       "      <td>234.399994</td>\n",
       "      <td>62631300</td>\n",
       "    </tr>\n",
       "    <tr>\n",
       "      <th>247</th>\n",
       "      <td>249</td>\n",
       "      <td>2024-07-16</td>\n",
       "      <td>235.000000</td>\n",
       "      <td>236.270004</td>\n",
       "      <td>232.330002</td>\n",
       "      <td>234.820007</td>\n",
       "      <td>234.820007</td>\n",
       "      <td>43234300</td>\n",
       "    </tr>\n",
       "    <tr>\n",
       "      <th>248</th>\n",
       "      <td>250</td>\n",
       "      <td>2024-07-17</td>\n",
       "      <td>229.449997</td>\n",
       "      <td>231.460007</td>\n",
       "      <td>226.639999</td>\n",
       "      <td>228.880005</td>\n",
       "      <td>228.880005</td>\n",
       "      <td>57345900</td>\n",
       "    </tr>\n",
       "    <tr>\n",
       "      <th>249</th>\n",
       "      <td>251</td>\n",
       "      <td>2024-07-18</td>\n",
       "      <td>230.279999</td>\n",
       "      <td>230.440002</td>\n",
       "      <td>222.270004</td>\n",
       "      <td>224.179993</td>\n",
       "      <td>224.179993</td>\n",
       "      <td>65964400</td>\n",
       "    </tr>\n",
       "  </tbody>\n",
       "</table>\n",
       "<p>250 rows × 8 columns</p>\n",
       "</div>"
      ],
      "text/plain": [
       "     index        Date        Open        High         Low       Close  \\\n",
       "0        0  2023-07-19  193.100006  198.229996  192.649994  195.100006   \n",
       "1        3  2023-07-24  193.410004  194.910004  192.250000  192.750000   \n",
       "2        4  2023-07-25  193.330002  194.440002  192.919998  193.619995   \n",
       "3        5  2023-07-26  193.669998  195.639999  193.320007  194.500000   \n",
       "4        6  2023-07-27  196.020004  197.199997  192.550003  193.220001   \n",
       "..     ...         ...         ...         ...         ...         ...   \n",
       "245    247  2024-07-12  228.919998  232.639999  228.679993  230.539993   \n",
       "246    248  2024-07-15  236.479996  237.229996  233.089996  234.399994   \n",
       "247    249  2024-07-16  235.000000  236.270004  232.330002  234.820007   \n",
       "248    250  2024-07-17  229.449997  231.460007  226.639999  228.880005   \n",
       "249    251  2024-07-18  230.279999  230.440002  222.270004  224.179993   \n",
       "\n",
       "      Adj Close    Volume  \n",
       "0    194.069351  80507300  \n",
       "1    191.731766  45377800  \n",
       "2    192.597153  37283200  \n",
       "3    193.472519  47471900  \n",
       "4    192.199280  47460200  \n",
       "..          ...       ...  \n",
       "245  230.539993  53008200  \n",
       "246  234.399994  62631300  \n",
       "247  234.820007  43234300  \n",
       "248  228.880005  57345900  \n",
       "249  224.179993  65964400  \n",
       "\n",
       "[250 rows x 8 columns]"
      ]
     },
     "execution_count": 22,
     "metadata": {},
     "output_type": "execute_result"
    }
   ],
   "source": [
    "# 특정 행을 지운 다음에 reset_index로 index 재조정하기\n",
    "df.drop(index=[1,2]).reset_index()"
   ]
  },
  {
   "cell_type": "code",
   "execution_count": 24,
   "metadata": {},
   "outputs": [
    {
     "data": {
      "application/vnd.microsoft.datawrangler.viewer.v0+json": {
       "columns": [
        {
         "name": "index",
         "rawType": "int64",
         "type": "integer"
        },
        {
         "name": "Date",
         "rawType": "object",
         "type": "string"
        },
        {
         "name": "Open",
         "rawType": "float64",
         "type": "float"
        },
        {
         "name": "High",
         "rawType": "float64",
         "type": "float"
        },
        {
         "name": "Low",
         "rawType": "float64",
         "type": "float"
        },
        {
         "name": "Close",
         "rawType": "float64",
         "type": "float"
        },
        {
         "name": "Adj Close",
         "rawType": "float64",
         "type": "float"
        },
        {
         "name": "Volume",
         "rawType": "int64",
         "type": "integer"
        }
       ],
       "conversionMethod": "pd.DataFrame",
       "ref": "a72bb604-2cdd-435c-83e6-661b647426a4",
       "rows": [
        [
         "0",
         "2023-07-19",
         "193.1000061035156",
         "198.22999572753903",
         "192.6499938964844",
         "195.1000061035156",
         "194.06935119628903",
         "80507300"
        ],
        [
         "1",
         "2023-07-24",
         "193.41000366210935",
         "194.91000366210935",
         "192.25",
         "192.75",
         "191.7317657470703",
         "45377800"
        ],
        [
         "2",
         "2023-07-25",
         "193.3300018310547",
         "194.44000244140625",
         "192.9199981689453",
         "193.6199951171875",
         "192.5971527099609",
         "37283200"
        ],
        [
         "3",
         "2023-07-26",
         "193.6699981689453",
         "195.63999938964844",
         "193.32000732421875",
         "194.5",
         "193.47251892089844",
         "47471900"
        ],
        [
         "4",
         "2023-07-27",
         "196.0200042724609",
         "197.1999969482422",
         "192.5500030517578",
         "193.22000122070312",
         "192.19927978515625",
         "47460200"
        ],
        [
         "5",
         "2023-07-28",
         "194.6699981689453",
         "196.6300048828125",
         "194.13999938964844",
         "195.8300018310547",
         "194.7954864501953",
         "48291400"
        ],
        [
         "6",
         "2023-07-31",
         "196.05999755859372",
         "196.4900054931641",
         "195.25999450683597",
         "196.4499969482422",
         "195.4122009277344",
         "38824100"
        ],
        [
         "7",
         "2023-08-01",
         "196.2400054931641",
         "196.72999572753903",
         "195.27999877929688",
         "195.6100006103516",
         "194.5766448974609",
         "35175100"
        ],
        [
         "8",
         "2023-08-02",
         "195.0399932861328",
         "195.17999267578125",
         "191.8500061035156",
         "192.5800018310547",
         "191.56265258789065",
         "50389300"
        ],
        [
         "9",
         "2023-08-03",
         "191.57000732421875",
         "192.3699951171875",
         "190.69000244140625",
         "191.1699981689453",
         "190.16009521484372",
         "61235200"
        ],
        [
         "10",
         "2023-08-04",
         "185.5200042724609",
         "187.3800048828125",
         "181.9199981689453",
         "181.9900054931641",
         "181.0286102294922",
         "115799700"
        ],
        [
         "11",
         "2023-08-07",
         "182.1300048828125",
         "183.1300048828125",
         "177.35000610351562",
         "178.85000610351562",
         "177.90518188476562",
         "97576100"
        ],
        [
         "12",
         "2023-08-08",
         "179.69000244140625",
         "180.2700042724609",
         "177.5800018310547",
         "179.8000030517578",
         "178.85015869140625",
         "67823000"
        ],
        [
         "13",
         "2023-08-09",
         "180.8699951171875",
         "180.92999267578125",
         "177.00999450683594",
         "178.19000244140625",
         "177.24867248535156",
         "60378500"
        ],
        [
         "14",
         "2023-08-10",
         "179.47999572753906",
         "180.75",
         "177.60000610351562",
         "177.97000122070312",
         "177.0298309326172",
         "54686900"
        ],
        [
         "15",
         "2023-08-11",
         "177.32000732421875",
         "178.6199951171875",
         "176.5500030517578",
         "177.7899932861328",
         "177.089599609375",
         "51988100"
        ],
        [
         "16",
         "2023-08-14",
         "177.97000122070312",
         "179.69000244140625",
         "177.30999755859375",
         "179.4600067138672",
         "178.75303649902344",
         "43675600"
        ],
        [
         "17",
         "2023-08-15",
         "178.8800048828125",
         "179.47999572753906",
         "177.0500030517578",
         "177.4499969482422",
         "176.75094604492188",
         "43622600"
        ],
        [
         "18",
         "2023-08-16",
         "177.1300048828125",
         "178.5399932861328",
         "176.5",
         "176.57000732421875",
         "175.87442016601562",
         "46964900"
        ],
        [
         "19",
         "2023-08-17",
         "177.13999938964844",
         "177.50999450683594",
         "173.47999572753906",
         "174.0",
         "173.3145294189453",
         "66062900"
        ],
        [
         "20",
         "2023-08-18",
         "172.3000030517578",
         "175.10000610351562",
         "171.9600067138672",
         "174.49000549316406",
         "173.8026123046875",
         "61114200"
        ],
        [
         "21",
         "2023-08-21",
         "175.07000732421875",
         "176.1300048828125",
         "173.74000549316406",
         "175.83999633789062",
         "175.14727783203125",
         "46311900"
        ],
        [
         "22",
         "2023-08-22",
         "177.05999755859375",
         "177.67999267578125",
         "176.25",
         "177.22999572753906",
         "176.53179931640625",
         "42084200"
        ],
        [
         "23",
         "2023-08-23",
         "178.52000427246094",
         "181.5500030517578",
         "178.3300018310547",
         "181.1199951171875",
         "180.40647888183597",
         "52722800"
        ],
        [
         "24",
         "2023-08-24",
         "180.6699981689453",
         "181.1000061035156",
         "176.00999450683594",
         "176.3800048828125",
         "175.68515014648438",
         "54945800"
        ],
        [
         "25",
         "2023-08-25",
         "177.3800048828125",
         "179.14999389648438",
         "175.82000732421875",
         "178.61000061035156",
         "177.9063720703125",
         "51449600"
        ],
        [
         "26",
         "2023-08-28",
         "180.08999633789062",
         "180.58999633789065",
         "178.5500030517578",
         "180.19000244140625",
         "179.48016357421875",
         "43820700"
        ],
        [
         "27",
         "2023-08-29",
         "179.6999969482422",
         "184.8999938964844",
         "179.5",
         "184.1199951171875",
         "183.3946533203125",
         "53003900"
        ],
        [
         "28",
         "2023-08-30",
         "184.94000244140625",
         "187.8500061035156",
         "184.7400054931641",
         "187.6499938964844",
         "186.91075134277344",
         "60813900"
        ],
        [
         "29",
         "2023-08-31",
         "187.83999633789065",
         "189.1199951171875",
         "187.47999572753903",
         "187.8699951171875",
         "187.12989807128903",
         "60794500"
        ],
        [
         "30",
         "2023-09-01",
         "189.4900054931641",
         "189.9199981689453",
         "188.27999877929688",
         "189.4600067138672",
         "188.71365356445312",
         "45732600"
        ],
        [
         "31",
         "2023-09-05",
         "188.27999877929688",
         "189.97999572753903",
         "187.6100006103516",
         "189.6999969482422",
         "188.95269775390625",
         "45280000"
        ],
        [
         "32",
         "2023-09-06",
         "188.3999938964844",
         "188.8500061035156",
         "181.47000122070312",
         "182.91000366210935",
         "182.1894378662109",
         "81755800"
        ],
        [
         "33",
         "2023-09-07",
         "175.17999267578125",
         "178.2100067138672",
         "173.5399932861328",
         "177.55999755859375",
         "176.8605194091797",
         "112488800"
        ],
        [
         "34",
         "2023-09-08",
         "178.35000610351562",
         "180.2400054931641",
         "177.7899932861328",
         "178.17999267578125",
         "177.47805786132812",
         "65551300"
        ],
        [
         "35",
         "2023-09-11",
         "180.07000732421875",
         "180.3000030517578",
         "177.33999633789062",
         "179.36000061035156",
         "178.65341186523438",
         "58953100"
        ],
        [
         "36",
         "2023-09-12",
         "179.49000549316406",
         "180.1300048828125",
         "174.82000732421875",
         "176.3000030517578",
         "175.60548400878906",
         "90370200"
        ],
        [
         "37",
         "2023-09-13",
         "176.50999450683594",
         "177.3000030517578",
         "173.97999572753906",
         "174.2100067138672",
         "173.52371215820312",
         "84267900"
        ],
        [
         "38",
         "2023-09-14",
         "174.0",
         "176.10000610351562",
         "173.5800018310547",
         "175.74000549316406",
         "175.0476837158203",
         "60895800"
        ],
        [
         "39",
         "2023-09-15",
         "176.47999572753906",
         "176.5",
         "173.82000732421875",
         "175.00999450683594",
         "174.32054138183594",
         "109205100"
        ],
        [
         "40",
         "2023-09-18",
         "176.47999572753906",
         "179.3800048828125",
         "176.1699981689453",
         "177.97000122070312",
         "177.26889038085938",
         "67257600"
        ],
        [
         "41",
         "2023-09-19",
         "177.52000427246094",
         "179.6300048828125",
         "177.1300048828125",
         "179.07000732421875",
         "178.36456298828125",
         "51826900"
        ],
        [
         "42",
         "2023-09-20",
         "179.25999450683594",
         "179.6999969482422",
         "175.39999389648438",
         "175.49000549316406",
         "174.7986602783203",
         "58436200"
        ],
        [
         "43",
         "2023-09-21",
         "174.5500030517578",
         "176.3000030517578",
         "173.86000061035156",
         "173.92999267578125",
         "173.24481201171875",
         "63047900"
        ],
        [
         "44",
         "2023-09-22",
         "174.6699981689453",
         "177.0800018310547",
         "174.0500030517578",
         "174.7899932861328",
         "174.10140991210938",
         "56725400"
        ],
        [
         "45",
         "2023-09-25",
         "174.1999969482422",
         "176.97000122070312",
         "174.14999389648438",
         "176.0800018310547",
         "175.38633728027344",
         "46172700"
        ],
        [
         "46",
         "2023-09-26",
         "174.82000732421875",
         "175.1999969482422",
         "171.66000366210938",
         "171.9600067138672",
         "171.28256225585938",
         "64588900"
        ],
        [
         "47",
         "2023-09-27",
         "172.6199951171875",
         "173.0399932861328",
         "169.0500030517578",
         "170.42999267578125",
         "169.7585906982422",
         "66921800"
        ],
        [
         "48",
         "2023-09-28",
         "169.33999633789062",
         "172.02999877929688",
         "167.6199951171875",
         "170.69000244140625",
         "170.017578125",
         "56294400"
        ],
        [
         "49",
         "2023-09-29",
         "172.02000427246094",
         "173.07000732421875",
         "170.33999633789062",
         "171.2100067138672",
         "170.53553771972656",
         "51814200"
        ]
       ],
       "shape": {
        "columns": 7,
        "rows": 250
       }
      },
      "text/html": [
       "<div>\n",
       "<style scoped>\n",
       "    .dataframe tbody tr th:only-of-type {\n",
       "        vertical-align: middle;\n",
       "    }\n",
       "\n",
       "    .dataframe tbody tr th {\n",
       "        vertical-align: top;\n",
       "    }\n",
       "\n",
       "    .dataframe thead th {\n",
       "        text-align: right;\n",
       "    }\n",
       "</style>\n",
       "<table border=\"1\" class=\"dataframe\">\n",
       "  <thead>\n",
       "    <tr style=\"text-align: right;\">\n",
       "      <th></th>\n",
       "      <th>Date</th>\n",
       "      <th>Open</th>\n",
       "      <th>High</th>\n",
       "      <th>Low</th>\n",
       "      <th>Close</th>\n",
       "      <th>Adj Close</th>\n",
       "      <th>Volume</th>\n",
       "    </tr>\n",
       "  </thead>\n",
       "  <tbody>\n",
       "    <tr>\n",
       "      <th>0</th>\n",
       "      <td>2023-07-19</td>\n",
       "      <td>193.100006</td>\n",
       "      <td>198.229996</td>\n",
       "      <td>192.649994</td>\n",
       "      <td>195.100006</td>\n",
       "      <td>194.069351</td>\n",
       "      <td>80507300</td>\n",
       "    </tr>\n",
       "    <tr>\n",
       "      <th>1</th>\n",
       "      <td>2023-07-24</td>\n",
       "      <td>193.410004</td>\n",
       "      <td>194.910004</td>\n",
       "      <td>192.250000</td>\n",
       "      <td>192.750000</td>\n",
       "      <td>191.731766</td>\n",
       "      <td>45377800</td>\n",
       "    </tr>\n",
       "    <tr>\n",
       "      <th>2</th>\n",
       "      <td>2023-07-25</td>\n",
       "      <td>193.330002</td>\n",
       "      <td>194.440002</td>\n",
       "      <td>192.919998</td>\n",
       "      <td>193.619995</td>\n",
       "      <td>192.597153</td>\n",
       "      <td>37283200</td>\n",
       "    </tr>\n",
       "    <tr>\n",
       "      <th>3</th>\n",
       "      <td>2023-07-26</td>\n",
       "      <td>193.669998</td>\n",
       "      <td>195.639999</td>\n",
       "      <td>193.320007</td>\n",
       "      <td>194.500000</td>\n",
       "      <td>193.472519</td>\n",
       "      <td>47471900</td>\n",
       "    </tr>\n",
       "    <tr>\n",
       "      <th>4</th>\n",
       "      <td>2023-07-27</td>\n",
       "      <td>196.020004</td>\n",
       "      <td>197.199997</td>\n",
       "      <td>192.550003</td>\n",
       "      <td>193.220001</td>\n",
       "      <td>192.199280</td>\n",
       "      <td>47460200</td>\n",
       "    </tr>\n",
       "    <tr>\n",
       "      <th>...</th>\n",
       "      <td>...</td>\n",
       "      <td>...</td>\n",
       "      <td>...</td>\n",
       "      <td>...</td>\n",
       "      <td>...</td>\n",
       "      <td>...</td>\n",
       "      <td>...</td>\n",
       "    </tr>\n",
       "    <tr>\n",
       "      <th>245</th>\n",
       "      <td>2024-07-12</td>\n",
       "      <td>228.919998</td>\n",
       "      <td>232.639999</td>\n",
       "      <td>228.679993</td>\n",
       "      <td>230.539993</td>\n",
       "      <td>230.539993</td>\n",
       "      <td>53008200</td>\n",
       "    </tr>\n",
       "    <tr>\n",
       "      <th>246</th>\n",
       "      <td>2024-07-15</td>\n",
       "      <td>236.479996</td>\n",
       "      <td>237.229996</td>\n",
       "      <td>233.089996</td>\n",
       "      <td>234.399994</td>\n",
       "      <td>234.399994</td>\n",
       "      <td>62631300</td>\n",
       "    </tr>\n",
       "    <tr>\n",
       "      <th>247</th>\n",
       "      <td>2024-07-16</td>\n",
       "      <td>235.000000</td>\n",
       "      <td>236.270004</td>\n",
       "      <td>232.330002</td>\n",
       "      <td>234.820007</td>\n",
       "      <td>234.820007</td>\n",
       "      <td>43234300</td>\n",
       "    </tr>\n",
       "    <tr>\n",
       "      <th>248</th>\n",
       "      <td>2024-07-17</td>\n",
       "      <td>229.449997</td>\n",
       "      <td>231.460007</td>\n",
       "      <td>226.639999</td>\n",
       "      <td>228.880005</td>\n",
       "      <td>228.880005</td>\n",
       "      <td>57345900</td>\n",
       "    </tr>\n",
       "    <tr>\n",
       "      <th>249</th>\n",
       "      <td>2024-07-18</td>\n",
       "      <td>230.279999</td>\n",
       "      <td>230.440002</td>\n",
       "      <td>222.270004</td>\n",
       "      <td>224.179993</td>\n",
       "      <td>224.179993</td>\n",
       "      <td>65964400</td>\n",
       "    </tr>\n",
       "  </tbody>\n",
       "</table>\n",
       "<p>250 rows × 7 columns</p>\n",
       "</div>"
      ],
      "text/plain": [
       "           Date        Open        High         Low       Close   Adj Close  \\\n",
       "0    2023-07-19  193.100006  198.229996  192.649994  195.100006  194.069351   \n",
       "1    2023-07-24  193.410004  194.910004  192.250000  192.750000  191.731766   \n",
       "2    2023-07-25  193.330002  194.440002  192.919998  193.619995  192.597153   \n",
       "3    2023-07-26  193.669998  195.639999  193.320007  194.500000  193.472519   \n",
       "4    2023-07-27  196.020004  197.199997  192.550003  193.220001  192.199280   \n",
       "..          ...         ...         ...         ...         ...         ...   \n",
       "245  2024-07-12  228.919998  232.639999  228.679993  230.539993  230.539993   \n",
       "246  2024-07-15  236.479996  237.229996  233.089996  234.399994  234.399994   \n",
       "247  2024-07-16  235.000000  236.270004  232.330002  234.820007  234.820007   \n",
       "248  2024-07-17  229.449997  231.460007  226.639999  228.880005  228.880005   \n",
       "249  2024-07-18  230.279999  230.440002  222.270004  224.179993  224.179993   \n",
       "\n",
       "       Volume  \n",
       "0    80507300  \n",
       "1    45377800  \n",
       "2    37283200  \n",
       "3    47471900  \n",
       "4    47460200  \n",
       "..        ...  \n",
       "245  53008200  \n",
       "246  62631300  \n",
       "247  43234300  \n",
       "248  57345900  \n",
       "249  65964400  \n",
       "\n",
       "[250 rows x 7 columns]"
      ]
     },
     "execution_count": 24,
     "metadata": {},
     "output_type": "execute_result"
    }
   ],
   "source": [
    "# reset_index(drop=True)로 기존 index가 새로운 열로 추가되지 않게 하기\n",
    "df.drop(index=[1,2]).reset_index(drop=True)"
   ]
  },
  {
   "cell_type": "code",
   "execution_count": null,
   "metadata": {},
   "outputs": [],
   "source": []
  },
  {
   "cell_type": "markdown",
   "metadata": {},
   "source": [
    "## 2) df.concat()\n",
    "- `df.concat()` 함수는 하나 이상의 Dataframe을 행 또는 열을 기준으로 합칠 때 사용합니다"
   ]
  },
  {
   "cell_type": "code",
   "execution_count": 27,
   "metadata": {},
   "outputs": [
    {
     "data": {
      "application/vnd.microsoft.datawrangler.viewer.v0+json": {
       "columns": [
        {
         "name": "index",
         "rawType": "int64",
         "type": "integer"
        },
        {
         "name": "Date",
         "rawType": "object",
         "type": "string"
        },
        {
         "name": "Open",
         "rawType": "float64",
         "type": "float"
        },
        {
         "name": "High",
         "rawType": "float64",
         "type": "float"
        },
        {
         "name": "Low",
         "rawType": "float64",
         "type": "float"
        },
        {
         "name": "Close",
         "rawType": "float64",
         "type": "float"
        },
        {
         "name": "Adj Close",
         "rawType": "float64",
         "type": "float"
        },
        {
         "name": "Volume",
         "rawType": "int64",
         "type": "integer"
        }
       ],
       "conversionMethod": "pd.DataFrame",
       "ref": "f5d8c514-5a61-4e19-8101-bbbd305243b5",
       "rows": [
        [
         "0",
         "2021-07-19",
         "143.75",
         "144.07000732421875",
         "141.6699981689453",
         "142.4499969482422",
         "140.05621337890625",
         "121434600"
        ],
        [
         "1",
         "2021-07-20",
         "143.4600067138672",
         "147.10000610351562",
         "142.9600067138672",
         "146.14999389648438",
         "143.6940460205078",
         "96350000"
        ],
        [
         "2",
         "2021-07-21",
         "145.52999877929688",
         "146.1300048828125",
         "144.6300048828125",
         "145.39999389648438",
         "142.9566192626953",
         "74993500"
        ],
        [
         "3",
         "2021-07-22",
         "145.94000244140625",
         "148.1999969482422",
         "145.80999755859375",
         "146.8000030517578",
         "144.33309936523438",
         "77338200"
        ],
        [
         "4",
         "2021-07-23",
         "147.5500030517578",
         "148.72000122070312",
         "146.9199981689453",
         "148.55999755859375",
         "146.0635528564453",
         "71447400"
        ]
       ],
       "shape": {
        "columns": 7,
        "rows": 5
       }
      },
      "text/html": [
       "<div>\n",
       "<style scoped>\n",
       "    .dataframe tbody tr th:only-of-type {\n",
       "        vertical-align: middle;\n",
       "    }\n",
       "\n",
       "    .dataframe tbody tr th {\n",
       "        vertical-align: top;\n",
       "    }\n",
       "\n",
       "    .dataframe thead th {\n",
       "        text-align: right;\n",
       "    }\n",
       "</style>\n",
       "<table border=\"1\" class=\"dataframe\">\n",
       "  <thead>\n",
       "    <tr style=\"text-align: right;\">\n",
       "      <th></th>\n",
       "      <th>Date</th>\n",
       "      <th>Open</th>\n",
       "      <th>High</th>\n",
       "      <th>Low</th>\n",
       "      <th>Close</th>\n",
       "      <th>Adj Close</th>\n",
       "      <th>Volume</th>\n",
       "    </tr>\n",
       "  </thead>\n",
       "  <tbody>\n",
       "    <tr>\n",
       "      <th>0</th>\n",
       "      <td>2021-07-19</td>\n",
       "      <td>143.750000</td>\n",
       "      <td>144.070007</td>\n",
       "      <td>141.669998</td>\n",
       "      <td>142.449997</td>\n",
       "      <td>140.056213</td>\n",
       "      <td>121434600</td>\n",
       "    </tr>\n",
       "    <tr>\n",
       "      <th>1</th>\n",
       "      <td>2021-07-20</td>\n",
       "      <td>143.460007</td>\n",
       "      <td>147.100006</td>\n",
       "      <td>142.960007</td>\n",
       "      <td>146.149994</td>\n",
       "      <td>143.694046</td>\n",
       "      <td>96350000</td>\n",
       "    </tr>\n",
       "    <tr>\n",
       "      <th>2</th>\n",
       "      <td>2021-07-21</td>\n",
       "      <td>145.529999</td>\n",
       "      <td>146.130005</td>\n",
       "      <td>144.630005</td>\n",
       "      <td>145.399994</td>\n",
       "      <td>142.956619</td>\n",
       "      <td>74993500</td>\n",
       "    </tr>\n",
       "    <tr>\n",
       "      <th>3</th>\n",
       "      <td>2021-07-22</td>\n",
       "      <td>145.940002</td>\n",
       "      <td>148.199997</td>\n",
       "      <td>145.809998</td>\n",
       "      <td>146.800003</td>\n",
       "      <td>144.333099</td>\n",
       "      <td>77338200</td>\n",
       "    </tr>\n",
       "    <tr>\n",
       "      <th>4</th>\n",
       "      <td>2021-07-23</td>\n",
       "      <td>147.550003</td>\n",
       "      <td>148.720001</td>\n",
       "      <td>146.919998</td>\n",
       "      <td>148.559998</td>\n",
       "      <td>146.063553</td>\n",
       "      <td>71447400</td>\n",
       "    </tr>\n",
       "  </tbody>\n",
       "</table>\n",
       "</div>"
      ],
      "text/plain": [
       "         Date        Open        High         Low       Close   Adj Close  \\\n",
       "0  2021-07-19  143.750000  144.070007  141.669998  142.449997  140.056213   \n",
       "1  2021-07-20  143.460007  147.100006  142.960007  146.149994  143.694046   \n",
       "2  2021-07-21  145.529999  146.130005  144.630005  145.399994  142.956619   \n",
       "3  2021-07-22  145.940002  148.199997  145.809998  146.800003  144.333099   \n",
       "4  2021-07-23  147.550003  148.720001  146.919998  148.559998  146.063553   \n",
       "\n",
       "      Volume  \n",
       "0  121434600  \n",
       "1   96350000  \n",
       "2   74993500  \n",
       "3   77338200  \n",
       "4   71447400  "
      ]
     },
     "execution_count": 27,
     "metadata": {},
     "output_type": "execute_result"
    }
   ],
   "source": [
    "import pandas as pd\n",
    "\n",
    "df_aapl = pd.read_csv(\"../dataset/yfinance_aapl_3year.csv\", index_col=0).head(5)\n",
    "df_nvda = pd.read_csv(\"../dataset/yfinance_nvda_3year.csv\", index_col=0).head(5)\n",
    "\n",
    "df_aapl"
   ]
  },
  {
   "cell_type": "code",
   "execution_count": 28,
   "metadata": {},
   "outputs": [
    {
     "data": {
      "application/vnd.microsoft.datawrangler.viewer.v0+json": {
       "columns": [
        {
         "name": "index",
         "rawType": "int64",
         "type": "integer"
        },
        {
         "name": "Date",
         "rawType": "object",
         "type": "string"
        },
        {
         "name": "Open",
         "rawType": "float64",
         "type": "float"
        },
        {
         "name": "High",
         "rawType": "float64",
         "type": "float"
        },
        {
         "name": "Low",
         "rawType": "float64",
         "type": "float"
        },
        {
         "name": "Close",
         "rawType": "float64",
         "type": "float"
        },
        {
         "name": "Adj Close",
         "rawType": "float64",
         "type": "float"
        },
        {
         "name": "Volume",
         "rawType": "int64",
         "type": "integer"
        },
        {
         "name": "Date",
         "rawType": "object",
         "type": "string"
        },
        {
         "name": "Open",
         "rawType": "float64",
         "type": "float"
        },
        {
         "name": "High",
         "rawType": "float64",
         "type": "float"
        },
        {
         "name": "Low",
         "rawType": "float64",
         "type": "float"
        },
        {
         "name": "Close",
         "rawType": "float64",
         "type": "float"
        },
        {
         "name": "Adj Close",
         "rawType": "float64",
         "type": "float"
        },
        {
         "name": "Volume",
         "rawType": "int64",
         "type": "integer"
        }
       ],
       "conversionMethod": "pd.DataFrame",
       "ref": "b1922815-b043-4d83-9cdd-b589cc4735c6",
       "rows": [
        [
         "0",
         "2021-07-19",
         "143.75",
         "144.07000732421875",
         "141.6699981689453",
         "142.4499969482422",
         "140.05621337890625",
         "121434600",
         "2021-07-20",
         "18.729999542236328",
         "18.83799934387207",
         "18.16399955749512",
         "18.61199951171875",
         "18.578418731689453",
         "434687000"
        ],
        [
         "1",
         "2021-07-20",
         "143.4600067138672",
         "147.10000610351562",
         "142.9600067138672",
         "146.14999389648438",
         "143.6940460205078",
         "96350000",
         "2021-07-21",
         "18.881999969482425",
         "19.527000427246094",
         "18.742000579833984",
         "19.40999984741211",
         "19.374977111816406",
         "371017000"
        ],
        [
         "2",
         "2021-07-21",
         "145.52999877929688",
         "146.1300048828125",
         "144.6300048828125",
         "145.39999389648438",
         "142.9566192626953",
         "74993500",
         "2021-07-22",
         "19.642000198364254",
         "19.886999130249023",
         "19.275999069213867",
         "19.5939998626709",
         "19.558643341064453",
         "323826000"
        ],
        [
         "3",
         "2021-07-22",
         "145.94000244140625",
         "148.1999969482422",
         "145.80999755859375",
         "146.8000030517578",
         "144.33309936523438",
         "77338200",
         "2021-07-23",
         "19.6560001373291",
         "19.700000762939453",
         "19.25",
         "19.558000564575195",
         "19.522708892822266",
         "195672000"
        ],
        [
         "4",
         "2021-07-23",
         "147.5500030517578",
         "148.72000122070312",
         "146.9199981689453",
         "148.55999755859375",
         "146.0635528564453",
         "71447400",
         "2021-07-26",
         "19.31100082397461",
         "19.441999435424805",
         "18.91399955749512",
         "19.29400062561035",
         "19.259185791015625",
         "203943000"
        ]
       ],
       "shape": {
        "columns": 14,
        "rows": 5
       }
      },
      "text/html": [
       "<div>\n",
       "<style scoped>\n",
       "    .dataframe tbody tr th:only-of-type {\n",
       "        vertical-align: middle;\n",
       "    }\n",
       "\n",
       "    .dataframe tbody tr th {\n",
       "        vertical-align: top;\n",
       "    }\n",
       "\n",
       "    .dataframe thead th {\n",
       "        text-align: right;\n",
       "    }\n",
       "</style>\n",
       "<table border=\"1\" class=\"dataframe\">\n",
       "  <thead>\n",
       "    <tr style=\"text-align: right;\">\n",
       "      <th></th>\n",
       "      <th>Date</th>\n",
       "      <th>Open</th>\n",
       "      <th>High</th>\n",
       "      <th>Low</th>\n",
       "      <th>Close</th>\n",
       "      <th>Adj Close</th>\n",
       "      <th>Volume</th>\n",
       "      <th>Date</th>\n",
       "      <th>Open</th>\n",
       "      <th>High</th>\n",
       "      <th>Low</th>\n",
       "      <th>Close</th>\n",
       "      <th>Adj Close</th>\n",
       "      <th>Volume</th>\n",
       "    </tr>\n",
       "  </thead>\n",
       "  <tbody>\n",
       "    <tr>\n",
       "      <th>0</th>\n",
       "      <td>2021-07-19</td>\n",
       "      <td>143.750000</td>\n",
       "      <td>144.070007</td>\n",
       "      <td>141.669998</td>\n",
       "      <td>142.449997</td>\n",
       "      <td>140.056213</td>\n",
       "      <td>121434600</td>\n",
       "      <td>2021-07-20</td>\n",
       "      <td>18.730000</td>\n",
       "      <td>18.837999</td>\n",
       "      <td>18.164000</td>\n",
       "      <td>18.612000</td>\n",
       "      <td>18.578419</td>\n",
       "      <td>434687000</td>\n",
       "    </tr>\n",
       "    <tr>\n",
       "      <th>1</th>\n",
       "      <td>2021-07-20</td>\n",
       "      <td>143.460007</td>\n",
       "      <td>147.100006</td>\n",
       "      <td>142.960007</td>\n",
       "      <td>146.149994</td>\n",
       "      <td>143.694046</td>\n",
       "      <td>96350000</td>\n",
       "      <td>2021-07-21</td>\n",
       "      <td>18.882000</td>\n",
       "      <td>19.527000</td>\n",
       "      <td>18.742001</td>\n",
       "      <td>19.410000</td>\n",
       "      <td>19.374977</td>\n",
       "      <td>371017000</td>\n",
       "    </tr>\n",
       "    <tr>\n",
       "      <th>2</th>\n",
       "      <td>2021-07-21</td>\n",
       "      <td>145.529999</td>\n",
       "      <td>146.130005</td>\n",
       "      <td>144.630005</td>\n",
       "      <td>145.399994</td>\n",
       "      <td>142.956619</td>\n",
       "      <td>74993500</td>\n",
       "      <td>2021-07-22</td>\n",
       "      <td>19.642000</td>\n",
       "      <td>19.886999</td>\n",
       "      <td>19.275999</td>\n",
       "      <td>19.594000</td>\n",
       "      <td>19.558643</td>\n",
       "      <td>323826000</td>\n",
       "    </tr>\n",
       "    <tr>\n",
       "      <th>3</th>\n",
       "      <td>2021-07-22</td>\n",
       "      <td>145.940002</td>\n",
       "      <td>148.199997</td>\n",
       "      <td>145.809998</td>\n",
       "      <td>146.800003</td>\n",
       "      <td>144.333099</td>\n",
       "      <td>77338200</td>\n",
       "      <td>2021-07-23</td>\n",
       "      <td>19.656000</td>\n",
       "      <td>19.700001</td>\n",
       "      <td>19.250000</td>\n",
       "      <td>19.558001</td>\n",
       "      <td>19.522709</td>\n",
       "      <td>195672000</td>\n",
       "    </tr>\n",
       "    <tr>\n",
       "      <th>4</th>\n",
       "      <td>2021-07-23</td>\n",
       "      <td>147.550003</td>\n",
       "      <td>148.720001</td>\n",
       "      <td>146.919998</td>\n",
       "      <td>148.559998</td>\n",
       "      <td>146.063553</td>\n",
       "      <td>71447400</td>\n",
       "      <td>2021-07-26</td>\n",
       "      <td>19.311001</td>\n",
       "      <td>19.441999</td>\n",
       "      <td>18.914000</td>\n",
       "      <td>19.294001</td>\n",
       "      <td>19.259186</td>\n",
       "      <td>203943000</td>\n",
       "    </tr>\n",
       "  </tbody>\n",
       "</table>\n",
       "</div>"
      ],
      "text/plain": [
       "         Date        Open        High         Low       Close   Adj Close  \\\n",
       "0  2021-07-19  143.750000  144.070007  141.669998  142.449997  140.056213   \n",
       "1  2021-07-20  143.460007  147.100006  142.960007  146.149994  143.694046   \n",
       "2  2021-07-21  145.529999  146.130005  144.630005  145.399994  142.956619   \n",
       "3  2021-07-22  145.940002  148.199997  145.809998  146.800003  144.333099   \n",
       "4  2021-07-23  147.550003  148.720001  146.919998  148.559998  146.063553   \n",
       "\n",
       "      Volume        Date       Open       High        Low      Close  \\\n",
       "0  121434600  2021-07-20  18.730000  18.837999  18.164000  18.612000   \n",
       "1   96350000  2021-07-21  18.882000  19.527000  18.742001  19.410000   \n",
       "2   74993500  2021-07-22  19.642000  19.886999  19.275999  19.594000   \n",
       "3   77338200  2021-07-23  19.656000  19.700001  19.250000  19.558001   \n",
       "4   71447400  2021-07-26  19.311001  19.441999  18.914000  19.294001   \n",
       "\n",
       "   Adj Close     Volume  \n",
       "0  18.578419  434687000  \n",
       "1  19.374977  371017000  \n",
       "2  19.558643  323826000  \n",
       "3  19.522709  195672000  \n",
       "4  19.259186  203943000  "
      ]
     },
     "execution_count": 28,
     "metadata": {},
     "output_type": "execute_result"
    }
   ],
   "source": [
    "# Dataframe을 가로로 연결하기\n",
    "pd.concat([df_aapl, df_nvda], axis=1)"
   ]
  },
  {
   "cell_type": "code",
   "execution_count": 29,
   "metadata": {},
   "outputs": [
    {
     "data": {
      "application/vnd.microsoft.datawrangler.viewer.v0+json": {
       "columns": [
        {
         "name": "index",
         "rawType": "int64",
         "type": "integer"
        },
        {
         "name": "Date",
         "rawType": "object",
         "type": "string"
        },
        {
         "name": "Open",
         "rawType": "float64",
         "type": "float"
        },
        {
         "name": "High",
         "rawType": "float64",
         "type": "float"
        },
        {
         "name": "Low",
         "rawType": "float64",
         "type": "float"
        },
        {
         "name": "Close",
         "rawType": "float64",
         "type": "float"
        },
        {
         "name": "Adj Close",
         "rawType": "float64",
         "type": "float"
        },
        {
         "name": "Volume",
         "rawType": "int64",
         "type": "integer"
        }
       ],
       "conversionMethod": "pd.DataFrame",
       "ref": "c88a2905-2dcb-4656-a126-41d1091e85da",
       "rows": [
        [
         "0",
         "2021-07-19",
         "143.75",
         "144.07000732421875",
         "141.6699981689453",
         "142.4499969482422",
         "140.05621337890625",
         "121434600"
        ],
        [
         "1",
         "2021-07-20",
         "143.4600067138672",
         "147.10000610351562",
         "142.9600067138672",
         "146.14999389648438",
         "143.6940460205078",
         "96350000"
        ],
        [
         "2",
         "2021-07-21",
         "145.52999877929688",
         "146.1300048828125",
         "144.6300048828125",
         "145.39999389648438",
         "142.9566192626953",
         "74993500"
        ],
        [
         "3",
         "2021-07-22",
         "145.94000244140625",
         "148.1999969482422",
         "145.80999755859375",
         "146.8000030517578",
         "144.33309936523438",
         "77338200"
        ],
        [
         "4",
         "2021-07-23",
         "147.5500030517578",
         "148.72000122070312",
         "146.9199981689453",
         "148.55999755859375",
         "146.0635528564453",
         "71447400"
        ],
        [
         "0",
         "2021-07-20",
         "18.729999542236328",
         "18.83799934387207",
         "18.16399955749512",
         "18.61199951171875",
         "18.578418731689453",
         "434687000"
        ],
        [
         "1",
         "2021-07-21",
         "18.881999969482425",
         "19.527000427246094",
         "18.742000579833984",
         "19.40999984741211",
         "19.374977111816406",
         "371017000"
        ],
        [
         "2",
         "2021-07-22",
         "19.642000198364254",
         "19.886999130249023",
         "19.275999069213867",
         "19.5939998626709",
         "19.558643341064453",
         "323826000"
        ],
        [
         "3",
         "2021-07-23",
         "19.6560001373291",
         "19.700000762939453",
         "19.25",
         "19.558000564575195",
         "19.522708892822266",
         "195672000"
        ],
        [
         "4",
         "2021-07-26",
         "19.31100082397461",
         "19.441999435424805",
         "18.91399955749512",
         "19.29400062561035",
         "19.259185791015625",
         "203943000"
        ]
       ],
       "shape": {
        "columns": 7,
        "rows": 10
       }
      },
      "text/html": [
       "<div>\n",
       "<style scoped>\n",
       "    .dataframe tbody tr th:only-of-type {\n",
       "        vertical-align: middle;\n",
       "    }\n",
       "\n",
       "    .dataframe tbody tr th {\n",
       "        vertical-align: top;\n",
       "    }\n",
       "\n",
       "    .dataframe thead th {\n",
       "        text-align: right;\n",
       "    }\n",
       "</style>\n",
       "<table border=\"1\" class=\"dataframe\">\n",
       "  <thead>\n",
       "    <tr style=\"text-align: right;\">\n",
       "      <th></th>\n",
       "      <th>Date</th>\n",
       "      <th>Open</th>\n",
       "      <th>High</th>\n",
       "      <th>Low</th>\n",
       "      <th>Close</th>\n",
       "      <th>Adj Close</th>\n",
       "      <th>Volume</th>\n",
       "    </tr>\n",
       "  </thead>\n",
       "  <tbody>\n",
       "    <tr>\n",
       "      <th>0</th>\n",
       "      <td>2021-07-19</td>\n",
       "      <td>143.750000</td>\n",
       "      <td>144.070007</td>\n",
       "      <td>141.669998</td>\n",
       "      <td>142.449997</td>\n",
       "      <td>140.056213</td>\n",
       "      <td>121434600</td>\n",
       "    </tr>\n",
       "    <tr>\n",
       "      <th>1</th>\n",
       "      <td>2021-07-20</td>\n",
       "      <td>143.460007</td>\n",
       "      <td>147.100006</td>\n",
       "      <td>142.960007</td>\n",
       "      <td>146.149994</td>\n",
       "      <td>143.694046</td>\n",
       "      <td>96350000</td>\n",
       "    </tr>\n",
       "    <tr>\n",
       "      <th>2</th>\n",
       "      <td>2021-07-21</td>\n",
       "      <td>145.529999</td>\n",
       "      <td>146.130005</td>\n",
       "      <td>144.630005</td>\n",
       "      <td>145.399994</td>\n",
       "      <td>142.956619</td>\n",
       "      <td>74993500</td>\n",
       "    </tr>\n",
       "    <tr>\n",
       "      <th>3</th>\n",
       "      <td>2021-07-22</td>\n",
       "      <td>145.940002</td>\n",
       "      <td>148.199997</td>\n",
       "      <td>145.809998</td>\n",
       "      <td>146.800003</td>\n",
       "      <td>144.333099</td>\n",
       "      <td>77338200</td>\n",
       "    </tr>\n",
       "    <tr>\n",
       "      <th>4</th>\n",
       "      <td>2021-07-23</td>\n",
       "      <td>147.550003</td>\n",
       "      <td>148.720001</td>\n",
       "      <td>146.919998</td>\n",
       "      <td>148.559998</td>\n",
       "      <td>146.063553</td>\n",
       "      <td>71447400</td>\n",
       "    </tr>\n",
       "    <tr>\n",
       "      <th>0</th>\n",
       "      <td>2021-07-20</td>\n",
       "      <td>18.730000</td>\n",
       "      <td>18.837999</td>\n",
       "      <td>18.164000</td>\n",
       "      <td>18.612000</td>\n",
       "      <td>18.578419</td>\n",
       "      <td>434687000</td>\n",
       "    </tr>\n",
       "    <tr>\n",
       "      <th>1</th>\n",
       "      <td>2021-07-21</td>\n",
       "      <td>18.882000</td>\n",
       "      <td>19.527000</td>\n",
       "      <td>18.742001</td>\n",
       "      <td>19.410000</td>\n",
       "      <td>19.374977</td>\n",
       "      <td>371017000</td>\n",
       "    </tr>\n",
       "    <tr>\n",
       "      <th>2</th>\n",
       "      <td>2021-07-22</td>\n",
       "      <td>19.642000</td>\n",
       "      <td>19.886999</td>\n",
       "      <td>19.275999</td>\n",
       "      <td>19.594000</td>\n",
       "      <td>19.558643</td>\n",
       "      <td>323826000</td>\n",
       "    </tr>\n",
       "    <tr>\n",
       "      <th>3</th>\n",
       "      <td>2021-07-23</td>\n",
       "      <td>19.656000</td>\n",
       "      <td>19.700001</td>\n",
       "      <td>19.250000</td>\n",
       "      <td>19.558001</td>\n",
       "      <td>19.522709</td>\n",
       "      <td>195672000</td>\n",
       "    </tr>\n",
       "    <tr>\n",
       "      <th>4</th>\n",
       "      <td>2021-07-26</td>\n",
       "      <td>19.311001</td>\n",
       "      <td>19.441999</td>\n",
       "      <td>18.914000</td>\n",
       "      <td>19.294001</td>\n",
       "      <td>19.259186</td>\n",
       "      <td>203943000</td>\n",
       "    </tr>\n",
       "  </tbody>\n",
       "</table>\n",
       "</div>"
      ],
      "text/plain": [
       "         Date        Open        High         Low       Close   Adj Close  \\\n",
       "0  2021-07-19  143.750000  144.070007  141.669998  142.449997  140.056213   \n",
       "1  2021-07-20  143.460007  147.100006  142.960007  146.149994  143.694046   \n",
       "2  2021-07-21  145.529999  146.130005  144.630005  145.399994  142.956619   \n",
       "3  2021-07-22  145.940002  148.199997  145.809998  146.800003  144.333099   \n",
       "4  2021-07-23  147.550003  148.720001  146.919998  148.559998  146.063553   \n",
       "0  2021-07-20   18.730000   18.837999   18.164000   18.612000   18.578419   \n",
       "1  2021-07-21   18.882000   19.527000   18.742001   19.410000   19.374977   \n",
       "2  2021-07-22   19.642000   19.886999   19.275999   19.594000   19.558643   \n",
       "3  2021-07-23   19.656000   19.700001   19.250000   19.558001   19.522709   \n",
       "4  2021-07-26   19.311001   19.441999   18.914000   19.294001   19.259186   \n",
       "\n",
       "      Volume  \n",
       "0  121434600  \n",
       "1   96350000  \n",
       "2   74993500  \n",
       "3   77338200  \n",
       "4   71447400  \n",
       "0  434687000  \n",
       "1  371017000  \n",
       "2  323826000  \n",
       "3  195672000  \n",
       "4  203943000  "
      ]
     },
     "execution_count": 29,
     "metadata": {},
     "output_type": "execute_result"
    }
   ],
   "source": [
    "# Dataframe을 세로로 연결하기\n",
    "pd.concat([df_aapl, df_nvda], axis=0)"
   ]
  },
  {
   "cell_type": "code",
   "execution_count": 30,
   "metadata": {},
   "outputs": [
    {
     "data": {
      "application/vnd.microsoft.datawrangler.viewer.v0+json": {
       "columns": [
        {
         "name": "index",
         "rawType": "int64",
         "type": "integer"
        },
        {
         "name": "Date",
         "rawType": "object",
         "type": "string"
        },
        {
         "name": "Open",
         "rawType": "float64",
         "type": "float"
        },
        {
         "name": "High",
         "rawType": "float64",
         "type": "float"
        },
        {
         "name": "Low",
         "rawType": "float64",
         "type": "float"
        },
        {
         "name": "Close",
         "rawType": "float64",
         "type": "float"
        },
        {
         "name": "Adj Close",
         "rawType": "float64",
         "type": "float"
        },
        {
         "name": "Volume",
         "rawType": "int64",
         "type": "integer"
        }
       ],
       "conversionMethod": "pd.DataFrame",
       "ref": "9cbf4c31-0f28-4326-b45b-9cab7368c337",
       "rows": [
        [
         "0",
         "2021-07-19",
         "143.75",
         "144.07000732421875",
         "141.6699981689453",
         "142.4499969482422",
         "140.05621337890625",
         "121434600"
        ],
        [
         "1",
         "2021-07-20",
         "143.4600067138672",
         "147.10000610351562",
         "142.9600067138672",
         "146.14999389648438",
         "143.6940460205078",
         "96350000"
        ],
        [
         "2",
         "2021-07-21",
         "145.52999877929688",
         "146.1300048828125",
         "144.6300048828125",
         "145.39999389648438",
         "142.9566192626953",
         "74993500"
        ],
        [
         "3",
         "2021-07-22",
         "145.94000244140625",
         "148.1999969482422",
         "145.80999755859375",
         "146.8000030517578",
         "144.33309936523438",
         "77338200"
        ],
        [
         "4",
         "2021-07-23",
         "147.5500030517578",
         "148.72000122070312",
         "146.9199981689453",
         "148.55999755859375",
         "146.0635528564453",
         "71447400"
        ],
        [
         "5",
         "2021-07-20",
         "18.729999542236328",
         "18.83799934387207",
         "18.16399955749512",
         "18.61199951171875",
         "18.578418731689453",
         "434687000"
        ],
        [
         "6",
         "2021-07-21",
         "18.881999969482425",
         "19.527000427246094",
         "18.742000579833984",
         "19.40999984741211",
         "19.374977111816406",
         "371017000"
        ],
        [
         "7",
         "2021-07-22",
         "19.642000198364254",
         "19.886999130249023",
         "19.275999069213867",
         "19.5939998626709",
         "19.558643341064453",
         "323826000"
        ],
        [
         "8",
         "2021-07-23",
         "19.6560001373291",
         "19.700000762939453",
         "19.25",
         "19.558000564575195",
         "19.522708892822266",
         "195672000"
        ],
        [
         "9",
         "2021-07-26",
         "19.31100082397461",
         "19.441999435424805",
         "18.91399955749512",
         "19.29400062561035",
         "19.259185791015625",
         "203943000"
        ]
       ],
       "shape": {
        "columns": 7,
        "rows": 10
       }
      },
      "text/html": [
       "<div>\n",
       "<style scoped>\n",
       "    .dataframe tbody tr th:only-of-type {\n",
       "        vertical-align: middle;\n",
       "    }\n",
       "\n",
       "    .dataframe tbody tr th {\n",
       "        vertical-align: top;\n",
       "    }\n",
       "\n",
       "    .dataframe thead th {\n",
       "        text-align: right;\n",
       "    }\n",
       "</style>\n",
       "<table border=\"1\" class=\"dataframe\">\n",
       "  <thead>\n",
       "    <tr style=\"text-align: right;\">\n",
       "      <th></th>\n",
       "      <th>Date</th>\n",
       "      <th>Open</th>\n",
       "      <th>High</th>\n",
       "      <th>Low</th>\n",
       "      <th>Close</th>\n",
       "      <th>Adj Close</th>\n",
       "      <th>Volume</th>\n",
       "    </tr>\n",
       "  </thead>\n",
       "  <tbody>\n",
       "    <tr>\n",
       "      <th>0</th>\n",
       "      <td>2021-07-19</td>\n",
       "      <td>143.750000</td>\n",
       "      <td>144.070007</td>\n",
       "      <td>141.669998</td>\n",
       "      <td>142.449997</td>\n",
       "      <td>140.056213</td>\n",
       "      <td>121434600</td>\n",
       "    </tr>\n",
       "    <tr>\n",
       "      <th>1</th>\n",
       "      <td>2021-07-20</td>\n",
       "      <td>143.460007</td>\n",
       "      <td>147.100006</td>\n",
       "      <td>142.960007</td>\n",
       "      <td>146.149994</td>\n",
       "      <td>143.694046</td>\n",
       "      <td>96350000</td>\n",
       "    </tr>\n",
       "    <tr>\n",
       "      <th>2</th>\n",
       "      <td>2021-07-21</td>\n",
       "      <td>145.529999</td>\n",
       "      <td>146.130005</td>\n",
       "      <td>144.630005</td>\n",
       "      <td>145.399994</td>\n",
       "      <td>142.956619</td>\n",
       "      <td>74993500</td>\n",
       "    </tr>\n",
       "    <tr>\n",
       "      <th>3</th>\n",
       "      <td>2021-07-22</td>\n",
       "      <td>145.940002</td>\n",
       "      <td>148.199997</td>\n",
       "      <td>145.809998</td>\n",
       "      <td>146.800003</td>\n",
       "      <td>144.333099</td>\n",
       "      <td>77338200</td>\n",
       "    </tr>\n",
       "    <tr>\n",
       "      <th>4</th>\n",
       "      <td>2021-07-23</td>\n",
       "      <td>147.550003</td>\n",
       "      <td>148.720001</td>\n",
       "      <td>146.919998</td>\n",
       "      <td>148.559998</td>\n",
       "      <td>146.063553</td>\n",
       "      <td>71447400</td>\n",
       "    </tr>\n",
       "    <tr>\n",
       "      <th>5</th>\n",
       "      <td>2021-07-20</td>\n",
       "      <td>18.730000</td>\n",
       "      <td>18.837999</td>\n",
       "      <td>18.164000</td>\n",
       "      <td>18.612000</td>\n",
       "      <td>18.578419</td>\n",
       "      <td>434687000</td>\n",
       "    </tr>\n",
       "    <tr>\n",
       "      <th>6</th>\n",
       "      <td>2021-07-21</td>\n",
       "      <td>18.882000</td>\n",
       "      <td>19.527000</td>\n",
       "      <td>18.742001</td>\n",
       "      <td>19.410000</td>\n",
       "      <td>19.374977</td>\n",
       "      <td>371017000</td>\n",
       "    </tr>\n",
       "    <tr>\n",
       "      <th>7</th>\n",
       "      <td>2021-07-22</td>\n",
       "      <td>19.642000</td>\n",
       "      <td>19.886999</td>\n",
       "      <td>19.275999</td>\n",
       "      <td>19.594000</td>\n",
       "      <td>19.558643</td>\n",
       "      <td>323826000</td>\n",
       "    </tr>\n",
       "    <tr>\n",
       "      <th>8</th>\n",
       "      <td>2021-07-23</td>\n",
       "      <td>19.656000</td>\n",
       "      <td>19.700001</td>\n",
       "      <td>19.250000</td>\n",
       "      <td>19.558001</td>\n",
       "      <td>19.522709</td>\n",
       "      <td>195672000</td>\n",
       "    </tr>\n",
       "    <tr>\n",
       "      <th>9</th>\n",
       "      <td>2021-07-26</td>\n",
       "      <td>19.311001</td>\n",
       "      <td>19.441999</td>\n",
       "      <td>18.914000</td>\n",
       "      <td>19.294001</td>\n",
       "      <td>19.259186</td>\n",
       "      <td>203943000</td>\n",
       "    </tr>\n",
       "  </tbody>\n",
       "</table>\n",
       "</div>"
      ],
      "text/plain": [
       "         Date        Open        High         Low       Close   Adj Close  \\\n",
       "0  2021-07-19  143.750000  144.070007  141.669998  142.449997  140.056213   \n",
       "1  2021-07-20  143.460007  147.100006  142.960007  146.149994  143.694046   \n",
       "2  2021-07-21  145.529999  146.130005  144.630005  145.399994  142.956619   \n",
       "3  2021-07-22  145.940002  148.199997  145.809998  146.800003  144.333099   \n",
       "4  2021-07-23  147.550003  148.720001  146.919998  148.559998  146.063553   \n",
       "5  2021-07-20   18.730000   18.837999   18.164000   18.612000   18.578419   \n",
       "6  2021-07-21   18.882000   19.527000   18.742001   19.410000   19.374977   \n",
       "7  2021-07-22   19.642000   19.886999   19.275999   19.594000   19.558643   \n",
       "8  2021-07-23   19.656000   19.700001   19.250000   19.558001   19.522709   \n",
       "9  2021-07-26   19.311001   19.441999   18.914000   19.294001   19.259186   \n",
       "\n",
       "      Volume  \n",
       "0  121434600  \n",
       "1   96350000  \n",
       "2   74993500  \n",
       "3   77338200  \n",
       "4   71447400  \n",
       "5  434687000  \n",
       "6  371017000  \n",
       "7  323826000  \n",
       "8  195672000  \n",
       "9  203943000  "
      ]
     },
     "execution_count": 30,
     "metadata": {},
     "output_type": "execute_result"
    }
   ],
   "source": [
    "# 새로운 인덱스를 자동으로 붙이기\n",
    "pd.concat([df_aapl, df_nvda], axis=0, ignore_index=True)"
   ]
  },
  {
   "cell_type": "code",
   "execution_count": null,
   "metadata": {},
   "outputs": [],
   "source": []
  }
 ],
 "metadata": {
  "kernelspec": {
   "display_name": "Python 3",
   "language": "python",
   "name": "python3"
  },
  "language_info": {
   "codemirror_mode": {
    "name": "ipython",
    "version": 3
   },
   "file_extension": ".py",
   "mimetype": "text/x-python",
   "name": "python",
   "nbconvert_exporter": "python",
   "pygments_lexer": "ipython3",
   "version": "3.12.3"
  }
 },
 "nbformat": 4,
 "nbformat_minor": 4
}
